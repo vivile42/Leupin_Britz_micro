{
 "cells": [
  {
   "cell_type": "code",
   "execution_count": 3,
   "metadata": {
    "collapsed": true,
    "ExecuteTime": {
     "end_time": "2024-03-29T11:02:19.622502Z",
     "start_time": "2024-03-29T11:02:19.592058Z"
    }
   },
   "outputs": [],
   "source": [
    "import pandas as pd\n",
    "import mne\n",
    "import sys\n",
    "import platform\n",
    "import os\n",
    "\n",
    "if platform.system()=='Darwin':\n",
    "    os.chdir('/Volumes/BBC/BBC/WP1/data/EEG/tsk/')\n",
    "    sys.path.append('/Users/leupinv/BBC/WP1/data/Code/python/BBC')\n",
    "    #if this doesn't work pound line right above this, restart the kernel, rerun the cell.\n",
    "    #Then uncomment the same line and rerun\n",
    "\n",
    "else:\n",
    "    #os.chdir('Z:/BBC/WP1/data/EEG/tsk')\n",
    "    sys.path.append('C:/Users/Vivi/switchdrive/BBC/WP1/data/Code/python/BBC')\n",
    "    os.chdir('Z:/BBC/WP1/data/EEG/tsk')\n",
    "from base.files_in_out import getListOfFiles,GetFiles"
   ]
  },
  {
   "cell_type": "markdown",
   "source": [
    "#Plot cluster centers"
   ],
   "metadata": {
    "collapsed": false
   }
  },
  {
   "cell_type": "code",
   "outputs": [
    {
     "name": "stdout",
     "output_type": "stream",
     "text": [
      "Reading /Volumes/BBC/BBC/WP1/data/EEG/tsk/ana/prestate/clus_center/wholegfp/cfa_n_vep_prestate_wholegfp_cluster_centers_5_epo.fif ...\n",
      "    Read a total of 1 projection items:\n",
      "        Average EEG reference (1 x 128) active\n",
      "    Found the data of interest:\n",
      "        t =       0.00 ...       0.00 ms\n",
      "        0 CTF compensation matrices available\n",
      "Not setting metadata\n",
      "5 matching events found\n",
      "No baseline correction applied\n",
      "Created an SSP operator (subspace dimension = 1)\n",
      "1 projection items activated\n",
      "Reading /Volumes/BBC/BBC/WP1/data/EEG/tsk/preproc/g01/g01_prestate/g01_n_tsk_cfa_vep_gfp_epo.fif ...\n",
      "    Read a total of 1 projection items:\n",
      "        Average EEG reference (1 x 128) active\n",
      "    Found the data of interest:\n",
      "        t =       0.00 ...       0.00 ms\n",
      "        0 CTF compensation matrices available\n",
      "Adding metadata with 40 columns\n",
      "415 matching events found\n",
      "No baseline correction applied\n",
      "Created an SSP operator (subspace dimension = 1)\n",
      "1 projection items activated\n"
     ]
    }
   ],
   "source": [
    "cluster_epo= mne.read_epochs('ana/prestate/clus_center/wholegfp/cfa_n_vep_prestate_wholegfp_cluster_centers_5_epo.fif')\n",
    "info_epo=mne.read_epochs('preproc/g01/g01_prestate/g01_n_tsk_cfa_vep_gfp_epo.fif').info"
   ],
   "metadata": {
    "collapsed": false,
    "ExecuteTime": {
     "end_time": "2024-03-29T11:05:18.917971Z",
     "start_time": "2024-03-29T11:05:18.564672Z"
    }
   },
   "execution_count": 5
  },
  {
   "cell_type": "code",
   "outputs": [
    {
     "name": "stderr",
     "output_type": "stream",
     "text": [
      "/var/folders/h0/1wth00ys3jbdvzr6zdkyr5580000gn/T/ipykernel_47643/3438897947.py:4: FutureWarning: The current default of copy=False will change to copy=True in 1.7. Set the value of copy explicitly to avoid this warning\n",
      "  for n,topo in enumerate(cluster_epo.get_data()):\n"
     ]
    }
   ],
   "source": [
    "%matplotlib qt\n",
    "\n",
    "import matplotlib.pyplot as plt\n",
    "for n,topo in enumerate(cluster_epo.get_data()):\n",
    "    map_data=topo.flatten()\n",
    "    if n ==3:\n",
    "        map_data=map_data*-1\n",
    "    mne.viz.plot_topomap(map_data,info_epo)\n",
    "    plt.savefig(f'ana/prestate/clus_center/wholegfp/whole_gfp_clus5_map{n}.svg',format='svg',dpi=900)"
   ],
   "metadata": {
    "collapsed": false,
    "ExecuteTime": {
     "end_time": "2024-03-29T11:24:56.831848Z",
     "start_time": "2024-03-29T11:24:55.967536Z"
    }
   },
   "execution_count": 22
  },
  {
   "cell_type": "code",
   "outputs": [
    {
     "data": {
      "text/plain": "<matplotlib.contour.QuadContourSet at 0x17c7641d0>"
     },
     "execution_count": 21,
     "metadata": {},
     "output_type": "execute_result"
    }
   ],
   "source": [
    "ax"
   ],
   "metadata": {
    "collapsed": false,
    "ExecuteTime": {
     "end_time": "2024-03-29T11:23:48.006029Z",
     "start_time": "2024-03-29T11:23:48.003534Z"
    }
   },
   "execution_count": 21
  },
  {
   "cell_type": "code",
   "outputs": [
    {
     "data": {
      "text/plain": "array([[ 0.0158214 ],\n       [ 0.03801897],\n       [ 0.05163053],\n       [ 0.06561219],\n       [ 0.02805232],\n       [-0.02200537],\n       [-0.0324378 ],\n       [-0.01986159],\n       [-0.02512747],\n       [-0.03009425],\n       [-0.03813357],\n       [-0.04204444],\n       [-0.00214929],\n       [ 0.0090441 ],\n       [ 0.0162868 ],\n       [ 0.03014439],\n       [ 0.03381128],\n       [ 0.02266637],\n       [ 0.07890809],\n       [ 0.0842929 ],\n       [ 0.09073496],\n       [ 0.08503366],\n       [ 0.069983  ],\n       [ 0.04984139],\n       [ 0.03380463],\n       [ 0.06911826],\n       [ 0.09159881],\n       [ 0.1199258 ],\n       [ 0.13769561],\n       [ 0.1388835 ],\n       [ 0.13495855],\n       [ 0.11871596],\n       [ 0.04225132],\n       [ 0.07989918],\n       [ 0.13534468],\n       [ 0.15224092],\n       [ 0.16150436],\n       [ 0.16474202],\n       [ 0.15291551],\n       [ 0.1197889 ],\n       [ 0.08775824],\n       [ 0.11256053],\n       [ 0.13591756],\n       [ 0.14824544],\n       [ 0.15579958],\n       [ 0.10239634],\n       [ 0.11611628],\n       [ 0.12779424],\n       [ 0.13739888],\n       [ 0.1268422 ],\n       [ 0.11025762],\n       [ 0.06334588],\n       [ 0.08349272],\n       [ 0.09559429],\n       [ 0.09568325],\n       [ 0.09159612],\n       [ 0.08242232],\n       [ 0.06844424],\n       [ 0.03340109],\n       [ 0.04135976],\n       [ 0.04939044],\n       [ 0.04772376],\n       [ 0.04960968],\n       [ 0.03647615],\n       [ 0.00888973],\n       [ 0.01370284],\n       [ 0.00533388],\n       [ 0.00243327],\n       [ 0.00997525],\n       [ 0.00262017],\n       [-0.00269209],\n       [-0.02940731],\n       [-0.02615219],\n       [-0.02165279],\n       [-0.01217044],\n       [-0.02955171],\n       [-0.03878963],\n       [-0.05332346],\n       [-0.055275  ],\n       [-0.06225602],\n       [-0.08867273],\n       [-0.08542658],\n       [-0.07970419],\n       [-0.07056183],\n       [-0.05986233],\n       [-0.04669222],\n       [-0.02914288],\n       [-0.0726414 ],\n       [-0.08415634],\n       [-0.09603312],\n       [-0.10285299],\n       [-0.10863772],\n       [-0.11874536],\n       [-0.14447139],\n       [-0.12769811],\n       [-0.12133258],\n       [-0.01738293],\n       [-0.05102997],\n       [-0.10261891],\n       [-0.11632963],\n       [-0.13294862],\n       [-0.13826001],\n       [-0.14371312],\n       [-0.14261641],\n       [-0.13604474],\n       [-0.1286719 ],\n       [-0.11897717],\n       [-0.10224234],\n       [-0.0794973 ],\n       [-0.03605029],\n       [-0.00503525],\n       [ 0.00454531],\n       [-0.03126308],\n       [-0.06583582],\n       [-0.08596393],\n       [-0.10394721],\n       [-0.1181052 ],\n       [-0.12853405],\n       [-0.13696793],\n       [-0.1192956 ],\n       [-0.11210439],\n       [-0.10102589],\n       [-0.07720049],\n       [-0.05608945],\n       [-0.0640711 ],\n       [-0.07472366],\n       [-0.08163148],\n       [-0.08246334]])"
     },
     "execution_count": 8,
     "metadata": {},
     "output_type": "execute_result"
    }
   ],
   "source": [
    "topo"
   ],
   "metadata": {
    "collapsed": false,
    "ExecuteTime": {
     "end_time": "2024-03-29T11:16:40.447016Z",
     "start_time": "2024-03-29T11:16:40.440497Z"
    }
   },
   "execution_count": 8
  },
  {
   "cell_type": "code",
   "outputs": [
    {
     "data": {
      "text/plain": "array([[-0.0158214 ],\n       [-0.03801897],\n       [-0.05163053],\n       [-0.06561219],\n       [-0.02805232],\n       [ 0.02200537],\n       [ 0.0324378 ],\n       [ 0.01986159],\n       [ 0.02512747],\n       [ 0.03009425],\n       [ 0.03813357],\n       [ 0.04204444],\n       [ 0.00214929],\n       [-0.0090441 ],\n       [-0.0162868 ],\n       [-0.03014439],\n       [-0.03381128],\n       [-0.02266637],\n       [-0.07890809],\n       [-0.0842929 ],\n       [-0.09073496],\n       [-0.08503366],\n       [-0.069983  ],\n       [-0.04984139],\n       [-0.03380463],\n       [-0.06911826],\n       [-0.09159881],\n       [-0.1199258 ],\n       [-0.13769561],\n       [-0.1388835 ],\n       [-0.13495855],\n       [-0.11871596],\n       [-0.04225132],\n       [-0.07989918],\n       [-0.13534468],\n       [-0.15224092],\n       [-0.16150436],\n       [-0.16474202],\n       [-0.15291551],\n       [-0.1197889 ],\n       [-0.08775824],\n       [-0.11256053],\n       [-0.13591756],\n       [-0.14824544],\n       [-0.15579958],\n       [-0.10239634],\n       [-0.11611628],\n       [-0.12779424],\n       [-0.13739888],\n       [-0.1268422 ],\n       [-0.11025762],\n       [-0.06334588],\n       [-0.08349272],\n       [-0.09559429],\n       [-0.09568325],\n       [-0.09159612],\n       [-0.08242232],\n       [-0.06844424],\n       [-0.03340109],\n       [-0.04135976],\n       [-0.04939044],\n       [-0.04772376],\n       [-0.04960968],\n       [-0.03647615],\n       [-0.00888973],\n       [-0.01370284],\n       [-0.00533388],\n       [-0.00243327],\n       [-0.00997525],\n       [-0.00262017],\n       [ 0.00269209],\n       [ 0.02940731],\n       [ 0.02615219],\n       [ 0.02165279],\n       [ 0.01217044],\n       [ 0.02955171],\n       [ 0.03878963],\n       [ 0.05332346],\n       [ 0.055275  ],\n       [ 0.06225602],\n       [ 0.08867273],\n       [ 0.08542658],\n       [ 0.07970419],\n       [ 0.07056183],\n       [ 0.05986233],\n       [ 0.04669222],\n       [ 0.02914288],\n       [ 0.0726414 ],\n       [ 0.08415634],\n       [ 0.09603312],\n       [ 0.10285299],\n       [ 0.10863772],\n       [ 0.11874536],\n       [ 0.14447139],\n       [ 0.12769811],\n       [ 0.12133258],\n       [ 0.01738293],\n       [ 0.05102997],\n       [ 0.10261891],\n       [ 0.11632963],\n       [ 0.13294862],\n       [ 0.13826001],\n       [ 0.14371312],\n       [ 0.14261641],\n       [ 0.13604474],\n       [ 0.1286719 ],\n       [ 0.11897717],\n       [ 0.10224234],\n       [ 0.0794973 ],\n       [ 0.03605029],\n       [ 0.00503525],\n       [-0.00454531],\n       [ 0.03126308],\n       [ 0.06583582],\n       [ 0.08596393],\n       [ 0.10394721],\n       [ 0.1181052 ],\n       [ 0.12853405],\n       [ 0.13696793],\n       [ 0.1192956 ],\n       [ 0.11210439],\n       [ 0.10102589],\n       [ 0.07720049],\n       [ 0.05608945],\n       [ 0.0640711 ],\n       [ 0.07472366],\n       [ 0.08163148],\n       [ 0.08246334]])"
     },
     "execution_count": 9,
     "metadata": {},
     "output_type": "execute_result"
    }
   ],
   "source": [
    "topo*-1"
   ],
   "metadata": {
    "collapsed": false,
    "ExecuteTime": {
     "end_time": "2024-03-29T11:16:43.139055Z",
     "start_time": "2024-03-29T11:16:43.133637Z"
    }
   },
   "execution_count": 9
  },
  {
   "cell_type": "code",
   "execution_count": 60,
   "outputs": [],
   "source": [
    "import pingouin as pg\n",
    "import matplotlib.pyplot as plt\n",
    "import seaborn as sns"
   ],
   "metadata": {
    "collapsed": false,
    "ExecuteTime": {
     "end_time": "2023-11-21T15:15:46.973457Z",
     "start_time": "2023-11-21T15:15:46.918805Z"
    }
   }
  },
  {
   "cell_type": "markdown",
   "source": [],
   "metadata": {
    "collapsed": false
   }
  },
  {
   "cell_type": "code",
   "execution_count": 61,
   "outputs": [
    {
     "name": "stdout",
     "output_type": "stream",
     "text": [
      "The autoreload extension is already loaded. To reload it, use:\n",
      "  %reload_ext autoreload\n"
     ]
    }
   ],
   "source": [
    "%load_ext autoreload\n",
    "\n",
    "%autoreload 2\n",
    "\n",
    "plt.style.use('default')\n",
    "import matplotlib as mpl\n",
    "plt.style.use('default')\n",
    "\n",
    "mpl.rcParams['svg.fonttype']='none'\n",
    "mpl.rcParams['text.usetex']=False\n"
   ],
   "metadata": {
    "collapsed": false,
    "ExecuteTime": {
     "end_time": "2023-11-21T15:15:47.889484Z",
     "start_time": "2023-11-21T15:15:47.836891Z"
    }
   }
  },
  {
   "cell_type": "code",
   "execution_count": 62,
   "outputs": [
    {
     "data": {
      "text/plain": "['Solarize_Light2',\n '_classic_test_patch',\n '_mpl-gallery',\n '_mpl-gallery-nogrid',\n 'bmh',\n 'classic',\n 'dark_background',\n 'fast',\n 'fivethirtyeight',\n 'ggplot',\n 'grayscale',\n 'seaborn-v0_8',\n 'seaborn-v0_8-bright',\n 'seaborn-v0_8-colorblind',\n 'seaborn-v0_8-dark',\n 'seaborn-v0_8-dark-palette',\n 'seaborn-v0_8-darkgrid',\n 'seaborn-v0_8-deep',\n 'seaborn-v0_8-muted',\n 'seaborn-v0_8-notebook',\n 'seaborn-v0_8-paper',\n 'seaborn-v0_8-pastel',\n 'seaborn-v0_8-poster',\n 'seaborn-v0_8-talk',\n 'seaborn-v0_8-ticks',\n 'seaborn-v0_8-white',\n 'seaborn-v0_8-whitegrid',\n 'tableau-colorblind10']"
     },
     "execution_count": 62,
     "metadata": {},
     "output_type": "execute_result"
    }
   ],
   "source": [
    "plt.style.available"
   ],
   "metadata": {
    "collapsed": false,
    "ExecuteTime": {
     "end_time": "2023-11-21T15:15:48.447766Z",
     "start_time": "2023-11-21T15:15:48.389349Z"
    }
   }
  },
  {
   "cell_type": "markdown",
   "source": [],
   "metadata": {
    "collapsed": false
   }
  },
  {
   "cell_type": "code",
   "execution_count": 107,
   "outputs": [],
   "source": [
    "n_clus=5\n",
    "cond='rsp_phase'\n",
    "micro_type='wholegfp'\n",
    "param_path='ana/prestate/param df/'\n",
    "param_fn=f'{micro_type}/{cond}_{n_clus}_clusters_tsk_n_prestate_{micro_type}.feather'\n",
    "param_fp=param_path+param_fn"
   ],
   "metadata": {
    "collapsed": false,
    "ExecuteTime": {
     "end_time": "2023-11-21T15:35:43.966982Z",
     "start_time": "2023-11-21T15:35:43.814420Z"
    }
   }
  },
  {
   "cell_type": "code",
   "execution_count": 108,
   "outputs": [],
   "source": [
    "if cond=='cardiac_phase':\n",
    "    palette=None\n",
    "else:\n",
    "    palette=['tab:pink','g']"
   ],
   "metadata": {
    "collapsed": false,
    "ExecuteTime": {
     "end_time": "2023-11-21T15:35:44.402486Z",
     "start_time": "2023-11-21T15:35:44.348648Z"
    }
   }
  },
  {
   "cell_type": "code",
   "execution_count": 109,
   "outputs": [
    {
     "data": {
      "text/plain": "'wholegfp/rsp_phase_5_clusters_tsk_n_prestate_wholegfp.feather'"
     },
     "execution_count": 109,
     "metadata": {},
     "output_type": "execute_result"
    }
   ],
   "source": [
    "param_fn"
   ],
   "metadata": {
    "collapsed": false,
    "ExecuteTime": {
     "end_time": "2023-11-21T15:35:44.670943Z",
     "start_time": "2023-11-21T15:35:44.595244Z"
    }
   }
  },
  {
   "cell_type": "code",
   "execution_count": 110,
   "outputs": [],
   "source": [
    "df=pd.read_feather(param_fp)"
   ],
   "metadata": {
    "collapsed": false,
    "ExecuteTime": {
     "end_time": "2023-11-21T15:35:45.002852Z",
     "start_time": "2023-11-21T15:35:44.794208Z"
    }
   }
  },
  {
   "cell_type": "code",
   "execution_count": 111,
   "outputs": [
    {
     "data": {
      "text/plain": "Index(['id', 'map', 'g_num', 'phy_cond', 'awareness', 'corr_mean_', 'gev_',\n       'occurrences_', 'meandurs_', 'timecov_'],\n      dtype='object')"
     },
     "execution_count": 111,
     "metadata": {},
     "output_type": "execute_result"
    }
   ],
   "source": [
    "df.columns"
   ],
   "metadata": {
    "collapsed": false,
    "ExecuteTime": {
     "end_time": "2023-11-21T15:35:45.065418Z",
     "start_time": "2023-11-21T15:35:44.997679Z"
    }
   }
  },
  {
   "cell_type": "code",
   "execution_count": 112,
   "outputs": [
    {
     "data": {
      "text/plain": "      id  map g_num phy_cond awareness  corr_mean_      gev_  occurrences_  \\\n0      0    0   g01      inh     aware    0.601534  0.065071     34.765432   \n1      1    0   g01      inh   unaware    0.659848  0.097641     33.129412   \n2      2    0   g01      exh     aware    0.589717  0.083505     42.965035   \n3      3    0   g01      exh   unaware    0.583009  0.075591     41.056604   \n4      4    0   g03      inh     aware    0.641108  0.057804     32.768000   \n..   ...  ...   ...      ...       ...         ...       ...           ...   \n575  111    4   g51      exh   unaware    0.724348  0.091740     33.645714   \n576  112    4   g52      inh     aware    0.647575  0.076969     36.173913   \n577  113    4   g52      inh   unaware    0.624656  0.063132     36.821918   \n578  114    4   g52      exh     aware    0.650073  0.068501     40.778761   \n579  115    4   g52      exh   unaware    0.635559  0.070350     39.152941   \n\n     meandurs_  timecov_  \n0     0.004616  0.160494  \n1     0.006392  0.211765  \n2     0.005046  0.216783  \n3     0.004825  0.198113  \n4     0.004150  0.136000  \n..         ...       ...  \n575   0.005095  0.171429  \n576   0.004808  0.173913  \n577   0.004464  0.164384  \n578   0.004340  0.176991  \n579   0.004357  0.170588  \n\n[580 rows x 10 columns]",
      "text/html": "<div>\n<style scoped>\n    .dataframe tbody tr th:only-of-type {\n        vertical-align: middle;\n    }\n\n    .dataframe tbody tr th {\n        vertical-align: top;\n    }\n\n    .dataframe thead th {\n        text-align: right;\n    }\n</style>\n<table border=\"1\" class=\"dataframe\">\n  <thead>\n    <tr style=\"text-align: right;\">\n      <th></th>\n      <th>id</th>\n      <th>map</th>\n      <th>g_num</th>\n      <th>phy_cond</th>\n      <th>awareness</th>\n      <th>corr_mean_</th>\n      <th>gev_</th>\n      <th>occurrences_</th>\n      <th>meandurs_</th>\n      <th>timecov_</th>\n    </tr>\n  </thead>\n  <tbody>\n    <tr>\n      <th>0</th>\n      <td>0</td>\n      <td>0</td>\n      <td>g01</td>\n      <td>inh</td>\n      <td>aware</td>\n      <td>0.601534</td>\n      <td>0.065071</td>\n      <td>34.765432</td>\n      <td>0.004616</td>\n      <td>0.160494</td>\n    </tr>\n    <tr>\n      <th>1</th>\n      <td>1</td>\n      <td>0</td>\n      <td>g01</td>\n      <td>inh</td>\n      <td>unaware</td>\n      <td>0.659848</td>\n      <td>0.097641</td>\n      <td>33.129412</td>\n      <td>0.006392</td>\n      <td>0.211765</td>\n    </tr>\n    <tr>\n      <th>2</th>\n      <td>2</td>\n      <td>0</td>\n      <td>g01</td>\n      <td>exh</td>\n      <td>aware</td>\n      <td>0.589717</td>\n      <td>0.083505</td>\n      <td>42.965035</td>\n      <td>0.005046</td>\n      <td>0.216783</td>\n    </tr>\n    <tr>\n      <th>3</th>\n      <td>3</td>\n      <td>0</td>\n      <td>g01</td>\n      <td>exh</td>\n      <td>unaware</td>\n      <td>0.583009</td>\n      <td>0.075591</td>\n      <td>41.056604</td>\n      <td>0.004825</td>\n      <td>0.198113</td>\n    </tr>\n    <tr>\n      <th>4</th>\n      <td>4</td>\n      <td>0</td>\n      <td>g03</td>\n      <td>inh</td>\n      <td>aware</td>\n      <td>0.641108</td>\n      <td>0.057804</td>\n      <td>32.768000</td>\n      <td>0.004150</td>\n      <td>0.136000</td>\n    </tr>\n    <tr>\n      <th>...</th>\n      <td>...</td>\n      <td>...</td>\n      <td>...</td>\n      <td>...</td>\n      <td>...</td>\n      <td>...</td>\n      <td>...</td>\n      <td>...</td>\n      <td>...</td>\n      <td>...</td>\n    </tr>\n    <tr>\n      <th>575</th>\n      <td>111</td>\n      <td>4</td>\n      <td>g51</td>\n      <td>exh</td>\n      <td>unaware</td>\n      <td>0.724348</td>\n      <td>0.091740</td>\n      <td>33.645714</td>\n      <td>0.005095</td>\n      <td>0.171429</td>\n    </tr>\n    <tr>\n      <th>576</th>\n      <td>112</td>\n      <td>4</td>\n      <td>g52</td>\n      <td>inh</td>\n      <td>aware</td>\n      <td>0.647575</td>\n      <td>0.076969</td>\n      <td>36.173913</td>\n      <td>0.004808</td>\n      <td>0.173913</td>\n    </tr>\n    <tr>\n      <th>577</th>\n      <td>113</td>\n      <td>4</td>\n      <td>g52</td>\n      <td>inh</td>\n      <td>unaware</td>\n      <td>0.624656</td>\n      <td>0.063132</td>\n      <td>36.821918</td>\n      <td>0.004464</td>\n      <td>0.164384</td>\n    </tr>\n    <tr>\n      <th>578</th>\n      <td>114</td>\n      <td>4</td>\n      <td>g52</td>\n      <td>exh</td>\n      <td>aware</td>\n      <td>0.650073</td>\n      <td>0.068501</td>\n      <td>40.778761</td>\n      <td>0.004340</td>\n      <td>0.176991</td>\n    </tr>\n    <tr>\n      <th>579</th>\n      <td>115</td>\n      <td>4</td>\n      <td>g52</td>\n      <td>exh</td>\n      <td>unaware</td>\n      <td>0.635559</td>\n      <td>0.070350</td>\n      <td>39.152941</td>\n      <td>0.004357</td>\n      <td>0.170588</td>\n    </tr>\n  </tbody>\n</table>\n<p>580 rows × 10 columns</p>\n</div>"
     },
     "execution_count": 112,
     "metadata": {},
     "output_type": "execute_result"
    }
   ],
   "source": [
    "df"
   ],
   "metadata": {
    "collapsed": false,
    "ExecuteTime": {
     "end_time": "2023-11-21T15:35:45.415251Z",
     "start_time": "2023-11-21T15:35:45.313683Z"
    }
   }
  },
  {
   "cell_type": "code",
   "execution_count": 113,
   "outputs": [],
   "source": [
    "dv_columns=['timecov_','gev_']"
   ],
   "metadata": {
    "collapsed": false,
    "ExecuteTime": {
     "end_time": "2023-11-21T15:35:45.908179Z",
     "start_time": "2023-11-21T15:35:45.841536Z"
    }
   }
  },
  {
   "cell_type": "code",
   "execution_count": 114,
   "outputs": [],
   "source": [
    "figpath='ana/results_report/images/prestate/'"
   ],
   "metadata": {
    "collapsed": false,
    "ExecuteTime": {
     "end_time": "2023-11-21T15:35:46.487022Z",
     "start_time": "2023-11-21T15:35:46.429020Z"
    }
   }
  },
  {
   "cell_type": "code",
   "execution_count": 115,
   "outputs": [
    {
     "name": "stdout",
     "output_type": "stream",
     "text": [
      "results for dv timecov_\n",
      "Map n 0\n",
      "                    timecov_\n",
      "awareness phy_cond          \n",
      "aware     exh       0.161625\n",
      "          inh       0.163744\n",
      "unaware   exh       0.180594\n",
      "          inh       0.178093\n",
      "                 Source        SS  ddof1  ddof2        MS         F     p-unc  \\\n",
      "0              phy_cond  0.000001      1     28  0.000001  0.001835  0.966135   \n",
      "1             awareness  0.008048      1     28  0.008048  4.938567  0.034517   \n",
      "2  phy_cond * awareness  0.000155      1     28  0.000155  0.180830  0.673912   \n",
      "\n",
      "   p-GG-corr       ng2  eps  \n",
      "0   0.966135  0.000004  1.0  \n",
      "1   0.034517  0.030757  1.0  \n",
      "2   0.673912  0.000610  1.0  \n"
     ]
    },
    {
     "name": "stderr",
     "output_type": "stream",
     "text": [
      "/Applications/anaconda3/envs/mne_1_3/lib/python3.9/site-packages/pingouin/distribution.py:507: FutureWarning: DataFrame.groupby with axis=1 is deprecated. Do `frame.T.groupby(...)` without axis instead.\n",
      "  data.groupby(level=1, axis=1, observed=True, group_keys=False)\n",
      "/Applications/anaconda3/envs/mne_1_3/lib/python3.9/site-packages/pingouin/distribution.py:507: FutureWarning: DataFrameGroupBy.diff with axis=1 is deprecated and will be removed in a future version. Operate on the un-grouped DataFrame instead\n",
      "  data.groupby(level=1, axis=1, observed=True, group_keys=False)\n"
     ]
    },
    {
     "name": "stdout",
     "output_type": "stream",
     "text": [
      "results for dv timecov_\n",
      "Map n 1\n",
      "                    timecov_\n",
      "awareness phy_cond          \n",
      "aware     exh       0.184152\n",
      "          inh       0.198474\n",
      "unaware   exh       0.180420\n",
      "          inh       0.188324\n",
      "                 Source        SS  ddof1  ddof2        MS         F     p-unc  \\\n",
      "0              phy_cond  0.003581      1     28  0.003581  2.794286  0.105742   \n",
      "1             awareness  0.001397      1     28  0.001397  1.076397  0.308382   \n",
      "2  phy_cond * awareness  0.000299      1     28  0.000299  0.167236  0.685692   \n",
      "\n",
      "   p-GG-corr       ng2  eps  \n",
      "0   0.105742  0.016681  1.0  \n",
      "1   0.308382  0.006574  1.0  \n",
      "2   0.685692  0.001413  1.0  \n"
     ]
    },
    {
     "name": "stderr",
     "output_type": "stream",
     "text": [
      "/Applications/anaconda3/envs/mne_1_3/lib/python3.9/site-packages/pingouin/distribution.py:507: FutureWarning: DataFrame.groupby with axis=1 is deprecated. Do `frame.T.groupby(...)` without axis instead.\n",
      "  data.groupby(level=1, axis=1, observed=True, group_keys=False)\n",
      "/Applications/anaconda3/envs/mne_1_3/lib/python3.9/site-packages/pingouin/distribution.py:507: FutureWarning: DataFrameGroupBy.diff with axis=1 is deprecated and will be removed in a future version. Operate on the un-grouped DataFrame instead\n",
      "  data.groupby(level=1, axis=1, observed=True, group_keys=False)\n"
     ]
    },
    {
     "name": "stdout",
     "output_type": "stream",
     "text": [
      "results for dv timecov_\n",
      "Map n 2\n",
      "                    timecov_\n",
      "awareness phy_cond          \n",
      "aware     exh       0.215785\n",
      "          inh       0.204959\n",
      "unaware   exh       0.218474\n",
      "          inh       0.211091\n",
      "                 Source        SS  ddof1  ddof2        MS         F     p-unc  \\\n",
      "0              phy_cond  0.002404      1     28  0.002404  1.951856  0.173362   \n",
      "1             awareness  0.000564      1     28  0.000564  0.331255  0.569518   \n",
      "2  phy_cond * awareness  0.000086      1     28  0.000086  0.065695  0.799585   \n",
      "\n",
      "   p-GG-corr       ng2  eps  \n",
      "0   0.173362  0.005382  1.0  \n",
      "1   0.569518  0.001268  1.0  \n",
      "2   0.799585  0.000193  1.0  \n"
     ]
    },
    {
     "name": "stderr",
     "output_type": "stream",
     "text": [
      "/Applications/anaconda3/envs/mne_1_3/lib/python3.9/site-packages/pingouin/distribution.py:507: FutureWarning: DataFrame.groupby with axis=1 is deprecated. Do `frame.T.groupby(...)` without axis instead.\n",
      "  data.groupby(level=1, axis=1, observed=True, group_keys=False)\n",
      "/Applications/anaconda3/envs/mne_1_3/lib/python3.9/site-packages/pingouin/distribution.py:507: FutureWarning: DataFrameGroupBy.diff with axis=1 is deprecated and will be removed in a future version. Operate on the un-grouped DataFrame instead\n",
      "  data.groupby(level=1, axis=1, observed=True, group_keys=False)\n"
     ]
    },
    {
     "name": "stdout",
     "output_type": "stream",
     "text": [
      "results for dv timecov_\n",
      "Map n 3\n",
      "                    timecov_\n",
      "awareness phy_cond          \n",
      "aware     exh       0.262798\n",
      "          inh       0.266302\n",
      "unaware   exh       0.257238\n",
      "          inh       0.253213\n",
      "                 Source        SS  ddof1  ddof2        MS         F     p-unc  \\\n",
      "0              phy_cond  0.000002      1     28  0.000002  0.000910  0.976148   \n",
      "1             awareness  0.002522      1     28  0.002522  1.471687  0.235215   \n",
      "2  phy_cond * awareness  0.000411      1     28  0.000411  0.279555  0.601159   \n",
      "\n",
      "   p-GG-corr       ng2  eps  \n",
      "0   0.976148  0.000004  1.0  \n",
      "1   0.235215  0.005425  1.0  \n",
      "2   0.601159  0.000888  1.0  \n"
     ]
    },
    {
     "name": "stderr",
     "output_type": "stream",
     "text": [
      "/Applications/anaconda3/envs/mne_1_3/lib/python3.9/site-packages/pingouin/distribution.py:507: FutureWarning: DataFrame.groupby with axis=1 is deprecated. Do `frame.T.groupby(...)` without axis instead.\n",
      "  data.groupby(level=1, axis=1, observed=True, group_keys=False)\n",
      "/Applications/anaconda3/envs/mne_1_3/lib/python3.9/site-packages/pingouin/distribution.py:507: FutureWarning: DataFrameGroupBy.diff with axis=1 is deprecated and will be removed in a future version. Operate on the un-grouped DataFrame instead\n",
      "  data.groupby(level=1, axis=1, observed=True, group_keys=False)\n"
     ]
    },
    {
     "name": "stdout",
     "output_type": "stream",
     "text": [
      "results for dv timecov_\n",
      "Map n 4\n",
      "                    timecov_\n",
      "awareness phy_cond          \n",
      "aware     exh       0.175640\n",
      "          inh       0.166521\n",
      "unaware   exh       0.163273\n",
      "          inh       0.169280\n",
      "                 Source        SS  ddof1  ddof2        MS         F     p-unc  \\\n",
      "0              phy_cond  0.000070      1     28  0.000070  0.076870  0.783622   \n",
      "1             awareness  0.000669      1     28  0.000669  0.445961  0.509726   \n",
      "2  phy_cond * awareness  0.001659      1     28  0.001659  1.352045  0.254736   \n",
      "\n",
      "   p-GG-corr       ng2  eps  \n",
      "0   0.783622  0.000279  1.0  \n",
      "1   0.509726  0.002649  1.0  \n",
      "2   0.254736  0.006539  1.0  \n"
     ]
    },
    {
     "name": "stderr",
     "output_type": "stream",
     "text": [
      "/Applications/anaconda3/envs/mne_1_3/lib/python3.9/site-packages/pingouin/distribution.py:507: FutureWarning: DataFrame.groupby with axis=1 is deprecated. Do `frame.T.groupby(...)` without axis instead.\n",
      "  data.groupby(level=1, axis=1, observed=True, group_keys=False)\n",
      "/Applications/anaconda3/envs/mne_1_3/lib/python3.9/site-packages/pingouin/distribution.py:507: FutureWarning: DataFrameGroupBy.diff with axis=1 is deprecated and will be removed in a future version. Operate on the un-grouped DataFrame instead\n",
      "  data.groupby(level=1, axis=1, observed=True, group_keys=False)\n"
     ]
    },
    {
     "name": "stdout",
     "output_type": "stream",
     "text": [
      "results for dv gev_\n",
      "Map n 0\n",
      "                        gev_\n",
      "awareness phy_cond          \n",
      "aware     exh       0.066625\n",
      "          inh       0.063411\n",
      "unaware   exh       0.068599\n",
      "          inh       0.073189\n",
      "                 Source        SS  ddof1  ddof2        MS         F     p-unc  \\\n",
      "0              phy_cond  0.000014      1     28  0.000014  0.070015  0.793253   \n",
      "1             awareness  0.001001      1     28  0.001001  2.025580  0.165717   \n",
      "2  phy_cond * awareness  0.000441      1     28  0.000441  1.739682  0.197865   \n",
      "\n",
      "   p-GG-corr       ng2  eps  \n",
      "0   0.793253  0.000153  1.0  \n",
      "1   0.165717  0.011063  1.0  \n",
      "2   0.197865  0.004908  1.0  \n"
     ]
    },
    {
     "name": "stderr",
     "output_type": "stream",
     "text": [
      "/Applications/anaconda3/envs/mne_1_3/lib/python3.9/site-packages/pingouin/distribution.py:507: FutureWarning: DataFrame.groupby with axis=1 is deprecated. Do `frame.T.groupby(...)` without axis instead.\n",
      "  data.groupby(level=1, axis=1, observed=True, group_keys=False)\n",
      "/Applications/anaconda3/envs/mne_1_3/lib/python3.9/site-packages/pingouin/distribution.py:507: FutureWarning: DataFrameGroupBy.diff with axis=1 is deprecated and will be removed in a future version. Operate on the un-grouped DataFrame instead\n",
      "  data.groupby(level=1, axis=1, observed=True, group_keys=False)\n"
     ]
    },
    {
     "name": "stdout",
     "output_type": "stream",
     "text": [
      "results for dv gev_\n",
      "Map n 1\n",
      "                        gev_\n",
      "awareness phy_cond          \n",
      "aware     exh       0.097155\n",
      "          inh       0.109164\n",
      "unaware   exh       0.094147\n",
      "          inh       0.108047\n",
      "                 Source        SS  ddof1  ddof2        MS         F     p-unc  \\\n",
      "0              phy_cond  0.004867      1     28  0.004867  5.866334  0.022158   \n",
      "1             awareness  0.000123      1     28  0.000123  0.143470  0.707713   \n",
      "2  phy_cond * awareness  0.000026      1     28  0.000026  0.023493  0.879280   \n",
      "\n",
      "   p-GG-corr       ng2  eps  \n",
      "0   0.022158  0.030681  1.0  \n",
      "1   0.707713  0.000801  1.0  \n",
      "2   0.879280  0.000168  1.0  \n"
     ]
    },
    {
     "name": "stderr",
     "output_type": "stream",
     "text": [
      "/Applications/anaconda3/envs/mne_1_3/lib/python3.9/site-packages/pingouin/distribution.py:507: FutureWarning: DataFrame.groupby with axis=1 is deprecated. Do `frame.T.groupby(...)` without axis instead.\n",
      "  data.groupby(level=1, axis=1, observed=True, group_keys=False)\n",
      "/Applications/anaconda3/envs/mne_1_3/lib/python3.9/site-packages/pingouin/distribution.py:507: FutureWarning: DataFrameGroupBy.diff with axis=1 is deprecated and will be removed in a future version. Operate on the un-grouped DataFrame instead\n",
      "  data.groupby(level=1, axis=1, observed=True, group_keys=False)\n"
     ]
    },
    {
     "name": "stdout",
     "output_type": "stream",
     "text": [
      "results for dv gev_\n",
      "Map n 2\n",
      "                        gev_\n",
      "awareness phy_cond          \n",
      "aware     exh       0.159282\n",
      "          inh       0.142332\n",
      "unaware   exh       0.146858\n",
      "          inh       0.143017\n",
      "                 Source        SS  ddof1  ddof2        MS         F     p-unc  \\\n",
      "0              phy_cond  0.003134      1     28  0.003134  3.393303  0.076076   \n",
      "1             awareness  0.000999      1     28  0.000999  0.792455  0.380944   \n",
      "2  phy_cond * awareness  0.001246      1     28  0.001246  1.255311  0.272059   \n",
      "\n",
      "   p-GG-corr       ng2  eps  \n",
      "0   0.076076  0.005909  1.0  \n",
      "1   0.380944  0.001891  1.0  \n",
      "2   0.272059  0.002357  1.0  \n"
     ]
    },
    {
     "name": "stderr",
     "output_type": "stream",
     "text": [
      "/Applications/anaconda3/envs/mne_1_3/lib/python3.9/site-packages/pingouin/distribution.py:507: FutureWarning: DataFrame.groupby with axis=1 is deprecated. Do `frame.T.groupby(...)` without axis instead.\n",
      "  data.groupby(level=1, axis=1, observed=True, group_keys=False)\n",
      "/Applications/anaconda3/envs/mne_1_3/lib/python3.9/site-packages/pingouin/distribution.py:507: FutureWarning: DataFrameGroupBy.diff with axis=1 is deprecated and will be removed in a future version. Operate on the un-grouped DataFrame instead\n",
      "  data.groupby(level=1, axis=1, observed=True, group_keys=False)\n"
     ]
    },
    {
     "name": "stdout",
     "output_type": "stream",
     "text": [
      "results for dv gev_\n",
      "Map n 3\n",
      "                        gev_\n",
      "awareness phy_cond          \n",
      "aware     exh       0.216234\n",
      "          inh       0.227628\n",
      "unaware   exh       0.221490\n",
      "          inh       0.209213\n",
      "                 Source        SS  ddof1  ddof2        MS         F     p-unc  \\\n",
      "0              phy_cond  0.000006      1     28  0.000006  0.003464  0.953482   \n",
      "1             awareness  0.001255      1     28  0.001255  0.693020  0.412184   \n",
      "2  phy_cond * awareness  0.004063      1     28  0.004063  2.695299  0.111831   \n",
      "\n",
      "   p-GG-corr       ng2  eps  \n",
      "0   0.953482  0.000009  1.0  \n",
      "1   0.412184  0.001981  1.0  \n",
      "2   0.111831  0.006383  1.0  \n"
     ]
    },
    {
     "name": "stderr",
     "output_type": "stream",
     "text": [
      "/Applications/anaconda3/envs/mne_1_3/lib/python3.9/site-packages/pingouin/distribution.py:507: FutureWarning: DataFrame.groupby with axis=1 is deprecated. Do `frame.T.groupby(...)` without axis instead.\n",
      "  data.groupby(level=1, axis=1, observed=True, group_keys=False)\n",
      "/Applications/anaconda3/envs/mne_1_3/lib/python3.9/site-packages/pingouin/distribution.py:507: FutureWarning: DataFrameGroupBy.diff with axis=1 is deprecated and will be removed in a future version. Operate on the un-grouped DataFrame instead\n",
      "  data.groupby(level=1, axis=1, observed=True, group_keys=False)\n"
     ]
    },
    {
     "name": "stdout",
     "output_type": "stream",
     "text": [
      "results for dv gev_\n",
      "Map n 4\n",
      "                        gev_\n",
      "awareness phy_cond          \n",
      "aware     exh       0.072931\n",
      "          inh       0.070877\n",
      "unaware   exh       0.073016\n",
      "          inh       0.073049\n",
      "                 Source        SS  ddof1  ddof2        MS         F     p-unc  \\\n",
      "0              phy_cond  0.000030      1     28  0.000030  0.062222  0.804839   \n",
      "1             awareness  0.000037      1     28  0.000037  0.093163  0.762451   \n",
      "2  phy_cond * awareness  0.000032      1     28  0.000032  0.095779  0.759247   \n",
      "\n",
      "   p-GG-corr       ng2  eps  \n",
      "0   0.804839  0.000317  1.0  \n",
      "1   0.762451  0.000395  1.0  \n",
      "2   0.759247  0.000338  1.0  \n"
     ]
    },
    {
     "name": "stderr",
     "output_type": "stream",
     "text": [
      "/Applications/anaconda3/envs/mne_1_3/lib/python3.9/site-packages/pingouin/distribution.py:507: FutureWarning: DataFrame.groupby with axis=1 is deprecated. Do `frame.T.groupby(...)` without axis instead.\n",
      "  data.groupby(level=1, axis=1, observed=True, group_keys=False)\n",
      "/Applications/anaconda3/envs/mne_1_3/lib/python3.9/site-packages/pingouin/distribution.py:507: FutureWarning: DataFrameGroupBy.diff with axis=1 is deprecated and will be removed in a future version. Operate on the un-grouped DataFrame instead\n",
      "  data.groupby(level=1, axis=1, observed=True, group_keys=False)\n"
     ]
    }
   ],
   "source": [
    "%matplotlib qt\n",
    "for dvs in dv_columns:\n",
    "    for maps in df['map'].unique():\n",
    "        df_map=df[df['map']==maps]\n",
    "        print(f'results for dv {dvs}')\n",
    "        print(f'Map n {maps}')\n",
    "        print(pd.pivot_table(df_map,values=dvs,index=['awareness','phy_cond']))\n",
    "        print(pg.rm_anova(df_map,dv=dvs,subject='g_num',within=['phy_cond','awareness']))\n",
    "        #print(pg.pairwise_tests(df_map,dv=dvs, subject='g_num',within=['phy_cond','awareness']))\n",
    "        #print(pg.pairwise_tests(df_map,dv=dvs, subject='g_num',within=['awareness','phy_cond']))\n",
    "\n",
    "        fig, [ax1,ax2] = plt.subplots(1,2)\n",
    "        title= f'Map: {maps}'\n",
    "        sns.boxplot(data=df_map,x='phy_cond',y=dvs, hue='awareness',fill=False,palette=palette, ax=ax1)\n",
    "        sns.boxplot(data=df_map,x='awareness',y=dvs, hue='phy_cond', fill=False,palette=palette,ax=ax2)\n",
    "        ax1.set_title(title)\n",
    "        figname=f'map{maps}_{dvs}{cond[:3]}.svg'\n",
    "        figpathname=figpath+figname\n",
    "        plt.savefig(figpathname,dpi=1000,format='svg')\n",
    "\n"
   ],
   "metadata": {
    "collapsed": false,
    "ExecuteTime": {
     "end_time": "2023-11-21T15:35:52.384071Z",
     "start_time": "2023-11-21T15:35:47.052709Z"
    }
   }
  },
  {
   "cell_type": "markdown",
   "source": [
    "## Interindividual differences\n",
    "first merge with interindividual diff dataframe, then compute difference as a function of awareness and correlate"
   ],
   "metadata": {
    "collapsed": false
   }
  },
  {
   "cell_type": "code",
   "execution_count": 11,
   "outputs": [
    {
     "data": {
      "text/plain": "'/Volumes/BBC/BBC/WP1/data/EEG/tsk'"
     },
     "execution_count": 11,
     "metadata": {},
     "output_type": "execute_result"
    }
   ],
   "source": [
    "os.getcwd()"
   ],
   "metadata": {
    "collapsed": false,
    "ExecuteTime": {
     "end_time": "2023-10-10T07:29:01.097139Z",
     "start_time": "2023-10-10T07:29:00.824843Z"
    }
   }
  },
  {
   "cell_type": "code",
   "execution_count": 35,
   "outputs": [],
   "source": [
    "base_path='ana/behavioral/'\n",
    "quest_fn='participant_info_cut.csv'\n",
    "quest_fp=base_path+quest_fn\n",
    "rsa_fn='RSA/RSA_long.csv'\n",
    "rsa_fp=base_path+rsa_fn"
   ],
   "metadata": {
    "collapsed": false,
    "ExecuteTime": {
     "end_time": "2023-10-10T07:52:15.948274Z",
     "start_time": "2023-10-10T07:52:15.820565Z"
    }
   }
  },
  {
   "cell_type": "code",
   "execution_count": 36,
   "outputs": [],
   "source": [
    "quest_df=pd.read_csv(quest_fp)\n",
    "rsa_df=pd.read_csv(rsa_fp)"
   ],
   "metadata": {
    "collapsed": false,
    "ExecuteTime": {
     "end_time": "2023-10-10T07:52:17.053615Z",
     "start_time": "2023-10-10T07:52:16.377241Z"
    }
   }
  },
  {
   "cell_type": "code",
   "execution_count": 55,
   "outputs": [],
   "source": [
    "rsa_df=rsa_df[rsa_df['cond']=='n']\n",
    "rsa_df=rsa_df[rsa_df['exp']=='tsk']"
   ],
   "metadata": {
    "collapsed": false,
    "ExecuteTime": {
     "end_time": "2023-10-10T08:04:25.901456Z",
     "start_time": "2023-10-10T08:04:25.839991Z"
    }
   }
  },
  {
   "cell_type": "code",
   "execution_count": 56,
   "outputs": [
    {
     "data": {
      "text/plain": "Index(['Unnamed: 0', 'index', 'HRV_MeanNN', 'HRV_SDNN', 'HRV_SDANN1',\n       'HRV_SDNNI1', 'HRV_SDANN2', 'HRV_SDNNI2', 'HRV_SDANN5', 'HRV_SDNNI5',\n       ...\n       'HRV_CMSE', 'HRV_RCMSE', 'RRV_DFA_alpha1_ExpRange',\n       'RRV_DFA_alpha1_ExpMean', 'RRV_DFA_alpha1_DimRange',\n       'RRV_DFA_alpha1_DimMean', 'RRV_DFA_alpha2_ExpRange',\n       'RRV_DFA_alpha2_ExpMean', 'RRV_DFA_alpha2_DimRange',\n       'RRV_DFA_alpha2_DimMean'],\n      dtype='object', length=153)"
     },
     "execution_count": 56,
     "metadata": {},
     "output_type": "execute_result"
    }
   ],
   "source": [
    "rsa_df.columns"
   ],
   "metadata": {
    "collapsed": false,
    "ExecuteTime": {
     "end_time": "2023-10-10T08:05:14.797840Z",
     "start_time": "2023-10-10T08:05:14.753892Z"
    }
   }
  },
  {
   "cell_type": "code",
   "execution_count": 58,
   "outputs": [],
   "source": [
    "rsa_df=rsa_df[['g_num','HRV_MeanNN','HRV_SDNN','HRV_RMSSD','HRV_pNN50','HRV_LF','HRV_HF','HRV_LFHF','HRV_SD1','HRV_SD2','HRV_SD1SD2','HRV_DFA_alpha1','HRV_DFA_alpha2','RSA_P2T_Mean','RSA_P2T_Mean_log','RSA_PorgesBohrer','RSA_Gates_Mean','RRV_RMSSD','RRV_MeanBB','RRV_SDBB']]"
   ],
   "metadata": {
    "collapsed": false,
    "ExecuteTime": {
     "end_time": "2023-10-10T08:09:30.883366Z",
     "start_time": "2023-10-10T08:09:30.824612Z"
    }
   }
  },
  {
   "cell_type": "code",
   "execution_count": 59,
   "outputs": [
    {
     "data": {
      "text/plain": "    g_num   HRV_MeanNN    HRV_SDNN   HRV_RMSSD  HRV_pNN50    HRV_LF    HRV_HF  \\\n119   g01   974.608072   69.373325   41.911865  22.948632  0.003964  0.001894   \n120   g03   743.924386   69.505921   53.001273   9.642857  0.002966  0.001154   \n121   g08   950.450142  130.168063   47.206762  29.830706  0.005496  0.000377   \n122   g10  1090.547823  161.899935   87.035557  57.712305  0.000928  0.000999   \n123   g11   846.742858  108.244455   71.451697  43.411596  0.001937  0.004014   \n124   g12   521.470014   24.259480    9.706608   0.306373  0.022022  0.002206   \n125   g15   717.445927   41.094350   21.571348   3.132162  0.018258  0.004106   \n126   g16   674.626751   48.369761   23.631840   3.934987  0.008343  0.002271   \n127   g17   837.837158   61.365301   32.443578  10.950081  0.034843  0.005418   \n128   g19   791.107245   58.793576   33.954705  13.634371  0.006282  0.003088   \n129   g23   986.324521  130.957114  107.994710  65.867159  0.003409  0.007826   \n130   g24   810.037269   85.490411   44.749782  21.388578  0.026104  0.003407   \n131   g25   790.978722   74.112215   41.544846  26.452064  0.003807  0.003009   \n132   g28   927.760824   75.508111   41.150260  22.135417  0.004503  0.001765   \n133   g32   856.260508   70.111866   56.863655  36.672851  0.006522  0.004412   \n134   g33   788.821586   67.609359   39.407569  22.089364  0.004450  0.003104   \n135   g34   868.987877   28.212079   21.089220   1.700155  0.002966  0.002032   \n136   g37   770.423926   69.098969   48.498677  13.560238  0.003489  0.001332   \n137   g38   683.038291   52.347843   23.220585   4.616805  0.015274  0.001153   \n138   g39   775.854345   84.955098   66.795480  37.927565  0.012772  0.015958   \n139   g40  1323.819968   96.506956  109.915640  68.445476  0.010092  0.011118   \n140   g41   965.656328   99.520943   70.401074  38.471178  0.002155  0.001514   \n141   g42   871.523821   60.836352   54.027879  33.239832  0.025477  0.021128   \n142   g44   842.010147   67.985764   41.298461  23.809524  0.002980  0.001541   \n143   g45   879.581938   84.735008   61.276208  46.185207  0.001341  0.001876   \n144   g46   961.794311   61.973842   29.734024  10.189983  0.018209  0.001159   \n145   g47   907.819155   78.285616   43.566538  25.098296  0.005567  0.001707   \n146   g49   869.455893  108.483509   55.262570  37.795276  0.000705  0.000504   \n147   g51   786.298017   39.533784   34.988104  13.163539  0.010430  0.011025   \n148   g52   800.544655   85.504105   45.363025  21.660555  0.000456  0.000520   \n\n      HRV_LFHF    HRV_SD1     HRV_SD2  HRV_SD1SD2  HRV_DFA_alpha1  \\\n119   2.092990  29.645498   93.267941    0.317853        1.278332   \n120   2.570386  37.488719   90.893955    0.412445        1.093929   \n121  14.594782  33.389861  181.034182    0.184440        1.628925   \n122   0.929588  61.569809  220.466086    0.279271        1.069303   \n123   0.482557  50.536094  144.444692    0.349865        0.884804   \n124   9.980751   6.864657   33.617126    0.204201        1.635247   \n125   4.446603  15.259066   56.046033    0.272260        1.432849   \n126   3.673447  16.713810   66.340109    0.251941        1.465228   \n127   6.431075  22.959281   83.368512    0.275395        1.479157   \n128   2.034235  24.014869   79.621310    0.301614        1.281874   \n129   0.435591  76.398857  168.556859    0.453253        0.763457   \n130   7.662536  31.651741  116.712938    0.271193        1.620266   \n131   1.265435  29.386913  100.591399    0.292141        1.006640   \n132   2.551272  29.105187  102.699906    0.283400        1.279044   \n133   1.478347  40.214896   90.642212    0.443666        1.081420   \n134   1.433698  27.874051   91.429830    0.304868        1.143176   \n135   1.459336  14.914636   37.006245    0.403030        1.039548   \n136   2.619836  34.302950   91.381950    0.375380        1.109063   \n137  13.244680  16.423221   72.201334    0.227464        1.706388   \n138   0.800390  47.254969  110.326111    0.428321        0.978781   \n139   0.907734  77.812371  112.226589    0.693351        0.755345   \n140   1.423234  49.812293  131.706917    0.378206        0.978574   \n141   1.205833  38.216824   77.058072    0.495948        0.982174   \n142   1.933579  29.208420   91.622596    0.318791        1.312040   \n143   0.715065  43.341452  111.755794    0.387823        0.844890   \n144  15.708533  21.043165   85.094370    0.247292        1.604835   \n145   3.260579  30.816298  106.369257    0.289711        1.298011   \n146   1.399231  39.086092  148.341020    0.263488        1.119687   \n147   0.946095  24.743644   50.142705    0.493464        0.951240   \n148   0.876947  32.080684  116.579554    0.275183        1.044153   \n\n     HRV_DFA_alpha2  RSA_P2T_Mean  RSA_P2T_Mean_log  RSA_PorgesBohrer  \\\n119        0.874957     30.831988          3.428553         -6.349918   \n120        0.882400     55.698529          4.019954         -5.549146   \n121        1.043225     30.493164          3.417503         -6.389312   \n122        1.261689    118.194111          4.772328         -5.222487   \n123        1.044565    140.234375          4.943315         -4.073337   \n124        0.623758     10.123329          2.314843         -7.310514   \n125        0.842214     31.694504          3.456143         -6.137203   \n126        0.730365     47.141887          3.853162         -5.327862   \n127        0.757055     39.903846          3.686473         -6.475529   \n128        0.753139     73.282637          4.294324         -4.910556   \n129        1.166027    162.222600          5.088969         -4.185546   \n130        0.676202    108.519049          4.686926         -5.179560   \n131        1.154084     69.830560          4.246072         -5.384715   \n132        0.970779     64.221398          4.162336         -5.994278   \n133        0.804263      0.069776         -2.662463         -5.413024   \n134        1.032384     49.961835          3.911259         -5.287905   \n135        0.976865      0.021628         -3.833785         -7.972122   \n136        0.917502     27.774439          3.324116         -6.155065   \n137        0.658062     30.332880          3.412232         -6.575581   \n138        0.816788    131.635919          4.880040         -3.739776   \n139        1.036684    108.798668          4.689499         -6.277493   \n140        1.069505     60.088965          4.095826         -5.602894   \n141        0.780679     92.908249          4.531612         -5.027747   \n142        0.732933     89.179575          4.490652         -4.933765   \n143        1.208464     52.765751          3.965862         -5.513202   \n144        0.767003     35.497272          3.569456         -7.244611   \n145        0.947940     56.561597          4.035330         -5.956272   \n146        1.185087     56.313306          4.030931         -5.929798   \n147        0.828049      0.055019         -2.900083         -5.445330   \n148        0.941294      0.065619         -2.723896         -4.853661   \n\n     RSA_Gates_Mean    RRV_RMSSD   RRV_MeanBB     RRV_SDBB  \n119        8.278322  2430.630609  3269.338565  1891.858979  \n120        7.793237  1099.275301  3576.966751   827.755860  \n121        8.306331  1486.685856  2892.446063  1162.706515  \n122        8.682412  2037.805529  4166.627604  1838.803668  \n123        8.334510  1772.976691  4618.318257  1427.434044  \n124        6.972773  1996.103262  2747.157364  1703.619509  \n125        7.648039  1442.365750  3152.356992  1152.425696  \n126        7.566319  3150.355055  4847.438564  2241.378356  \n127        8.001390  1496.250997  3921.243990  1442.802464  \n128        7.944285  3363.018412  5103.098291  2478.123309  \n129        8.709948  1050.247428  3777.329849   784.317325  \n130        8.118458  3529.761863  5723.994646  3128.528092  \n131        7.912044   962.073242  3647.575081   851.874208  \n132        8.209340  1265.610478  4234.925045  1136.841750  \n133        8.120217   781.932551  3224.143314   628.490829  \n134        7.917762  1158.088545  3546.462054   878.864316  \n135        7.974621   949.490806  2936.543889   711.214911  \n136        7.835435  1229.702381  2522.603425   979.527756  \n137        7.622233   847.595905  3189.220106   748.048529  \n138        8.208077  2163.204972  4582.784262  1546.366932  \n139        8.984872   789.468728  3428.996761   575.542203  \n140        8.375275  1227.756012  3555.581922   882.495637  \n141        8.173484   938.317460  4157.486322   911.901375  \n142        8.139880  1986.490432  5893.371758  1585.743233  \n143        8.171620   568.426369  2964.158037   529.667494  \n144        8.223329  2592.577757  4167.051373  1821.660297  \n145        8.175653  1552.955318  3812.673130  1242.491918  \n146        8.107764  1611.575341  2987.830274  1303.031378  \n147        7.862556   714.306530  3831.784230   564.057134  \n148        7.998357  1731.792813  3771.753897  1387.557352  ",
      "text/html": "<div>\n<style scoped>\n    .dataframe tbody tr th:only-of-type {\n        vertical-align: middle;\n    }\n\n    .dataframe tbody tr th {\n        vertical-align: top;\n    }\n\n    .dataframe thead th {\n        text-align: right;\n    }\n</style>\n<table border=\"1\" class=\"dataframe\">\n  <thead>\n    <tr style=\"text-align: right;\">\n      <th></th>\n      <th>g_num</th>\n      <th>HRV_MeanNN</th>\n      <th>HRV_SDNN</th>\n      <th>HRV_RMSSD</th>\n      <th>HRV_pNN50</th>\n      <th>HRV_LF</th>\n      <th>HRV_HF</th>\n      <th>HRV_LFHF</th>\n      <th>HRV_SD1</th>\n      <th>HRV_SD2</th>\n      <th>HRV_SD1SD2</th>\n      <th>HRV_DFA_alpha1</th>\n      <th>HRV_DFA_alpha2</th>\n      <th>RSA_P2T_Mean</th>\n      <th>RSA_P2T_Mean_log</th>\n      <th>RSA_PorgesBohrer</th>\n      <th>RSA_Gates_Mean</th>\n      <th>RRV_RMSSD</th>\n      <th>RRV_MeanBB</th>\n      <th>RRV_SDBB</th>\n    </tr>\n  </thead>\n  <tbody>\n    <tr>\n      <th>119</th>\n      <td>g01</td>\n      <td>974.608072</td>\n      <td>69.373325</td>\n      <td>41.911865</td>\n      <td>22.948632</td>\n      <td>0.003964</td>\n      <td>0.001894</td>\n      <td>2.092990</td>\n      <td>29.645498</td>\n      <td>93.267941</td>\n      <td>0.317853</td>\n      <td>1.278332</td>\n      <td>0.874957</td>\n      <td>30.831988</td>\n      <td>3.428553</td>\n      <td>-6.349918</td>\n      <td>8.278322</td>\n      <td>2430.630609</td>\n      <td>3269.338565</td>\n      <td>1891.858979</td>\n    </tr>\n    <tr>\n      <th>120</th>\n      <td>g03</td>\n      <td>743.924386</td>\n      <td>69.505921</td>\n      <td>53.001273</td>\n      <td>9.642857</td>\n      <td>0.002966</td>\n      <td>0.001154</td>\n      <td>2.570386</td>\n      <td>37.488719</td>\n      <td>90.893955</td>\n      <td>0.412445</td>\n      <td>1.093929</td>\n      <td>0.882400</td>\n      <td>55.698529</td>\n      <td>4.019954</td>\n      <td>-5.549146</td>\n      <td>7.793237</td>\n      <td>1099.275301</td>\n      <td>3576.966751</td>\n      <td>827.755860</td>\n    </tr>\n    <tr>\n      <th>121</th>\n      <td>g08</td>\n      <td>950.450142</td>\n      <td>130.168063</td>\n      <td>47.206762</td>\n      <td>29.830706</td>\n      <td>0.005496</td>\n      <td>0.000377</td>\n      <td>14.594782</td>\n      <td>33.389861</td>\n      <td>181.034182</td>\n      <td>0.184440</td>\n      <td>1.628925</td>\n      <td>1.043225</td>\n      <td>30.493164</td>\n      <td>3.417503</td>\n      <td>-6.389312</td>\n      <td>8.306331</td>\n      <td>1486.685856</td>\n      <td>2892.446063</td>\n      <td>1162.706515</td>\n    </tr>\n    <tr>\n      <th>122</th>\n      <td>g10</td>\n      <td>1090.547823</td>\n      <td>161.899935</td>\n      <td>87.035557</td>\n      <td>57.712305</td>\n      <td>0.000928</td>\n      <td>0.000999</td>\n      <td>0.929588</td>\n      <td>61.569809</td>\n      <td>220.466086</td>\n      <td>0.279271</td>\n      <td>1.069303</td>\n      <td>1.261689</td>\n      <td>118.194111</td>\n      <td>4.772328</td>\n      <td>-5.222487</td>\n      <td>8.682412</td>\n      <td>2037.805529</td>\n      <td>4166.627604</td>\n      <td>1838.803668</td>\n    </tr>\n    <tr>\n      <th>123</th>\n      <td>g11</td>\n      <td>846.742858</td>\n      <td>108.244455</td>\n      <td>71.451697</td>\n      <td>43.411596</td>\n      <td>0.001937</td>\n      <td>0.004014</td>\n      <td>0.482557</td>\n      <td>50.536094</td>\n      <td>144.444692</td>\n      <td>0.349865</td>\n      <td>0.884804</td>\n      <td>1.044565</td>\n      <td>140.234375</td>\n      <td>4.943315</td>\n      <td>-4.073337</td>\n      <td>8.334510</td>\n      <td>1772.976691</td>\n      <td>4618.318257</td>\n      <td>1427.434044</td>\n    </tr>\n    <tr>\n      <th>124</th>\n      <td>g12</td>\n      <td>521.470014</td>\n      <td>24.259480</td>\n      <td>9.706608</td>\n      <td>0.306373</td>\n      <td>0.022022</td>\n      <td>0.002206</td>\n      <td>9.980751</td>\n      <td>6.864657</td>\n      <td>33.617126</td>\n      <td>0.204201</td>\n      <td>1.635247</td>\n      <td>0.623758</td>\n      <td>10.123329</td>\n      <td>2.314843</td>\n      <td>-7.310514</td>\n      <td>6.972773</td>\n      <td>1996.103262</td>\n      <td>2747.157364</td>\n      <td>1703.619509</td>\n    </tr>\n    <tr>\n      <th>125</th>\n      <td>g15</td>\n      <td>717.445927</td>\n      <td>41.094350</td>\n      <td>21.571348</td>\n      <td>3.132162</td>\n      <td>0.018258</td>\n      <td>0.004106</td>\n      <td>4.446603</td>\n      <td>15.259066</td>\n      <td>56.046033</td>\n      <td>0.272260</td>\n      <td>1.432849</td>\n      <td>0.842214</td>\n      <td>31.694504</td>\n      <td>3.456143</td>\n      <td>-6.137203</td>\n      <td>7.648039</td>\n      <td>1442.365750</td>\n      <td>3152.356992</td>\n      <td>1152.425696</td>\n    </tr>\n    <tr>\n      <th>126</th>\n      <td>g16</td>\n      <td>674.626751</td>\n      <td>48.369761</td>\n      <td>23.631840</td>\n      <td>3.934987</td>\n      <td>0.008343</td>\n      <td>0.002271</td>\n      <td>3.673447</td>\n      <td>16.713810</td>\n      <td>66.340109</td>\n      <td>0.251941</td>\n      <td>1.465228</td>\n      <td>0.730365</td>\n      <td>47.141887</td>\n      <td>3.853162</td>\n      <td>-5.327862</td>\n      <td>7.566319</td>\n      <td>3150.355055</td>\n      <td>4847.438564</td>\n      <td>2241.378356</td>\n    </tr>\n    <tr>\n      <th>127</th>\n      <td>g17</td>\n      <td>837.837158</td>\n      <td>61.365301</td>\n      <td>32.443578</td>\n      <td>10.950081</td>\n      <td>0.034843</td>\n      <td>0.005418</td>\n      <td>6.431075</td>\n      <td>22.959281</td>\n      <td>83.368512</td>\n      <td>0.275395</td>\n      <td>1.479157</td>\n      <td>0.757055</td>\n      <td>39.903846</td>\n      <td>3.686473</td>\n      <td>-6.475529</td>\n      <td>8.001390</td>\n      <td>1496.250997</td>\n      <td>3921.243990</td>\n      <td>1442.802464</td>\n    </tr>\n    <tr>\n      <th>128</th>\n      <td>g19</td>\n      <td>791.107245</td>\n      <td>58.793576</td>\n      <td>33.954705</td>\n      <td>13.634371</td>\n      <td>0.006282</td>\n      <td>0.003088</td>\n      <td>2.034235</td>\n      <td>24.014869</td>\n      <td>79.621310</td>\n      <td>0.301614</td>\n      <td>1.281874</td>\n      <td>0.753139</td>\n      <td>73.282637</td>\n      <td>4.294324</td>\n      <td>-4.910556</td>\n      <td>7.944285</td>\n      <td>3363.018412</td>\n      <td>5103.098291</td>\n      <td>2478.123309</td>\n    </tr>\n    <tr>\n      <th>129</th>\n      <td>g23</td>\n      <td>986.324521</td>\n      <td>130.957114</td>\n      <td>107.994710</td>\n      <td>65.867159</td>\n      <td>0.003409</td>\n      <td>0.007826</td>\n      <td>0.435591</td>\n      <td>76.398857</td>\n      <td>168.556859</td>\n      <td>0.453253</td>\n      <td>0.763457</td>\n      <td>1.166027</td>\n      <td>162.222600</td>\n      <td>5.088969</td>\n      <td>-4.185546</td>\n      <td>8.709948</td>\n      <td>1050.247428</td>\n      <td>3777.329849</td>\n      <td>784.317325</td>\n    </tr>\n    <tr>\n      <th>130</th>\n      <td>g24</td>\n      <td>810.037269</td>\n      <td>85.490411</td>\n      <td>44.749782</td>\n      <td>21.388578</td>\n      <td>0.026104</td>\n      <td>0.003407</td>\n      <td>7.662536</td>\n      <td>31.651741</td>\n      <td>116.712938</td>\n      <td>0.271193</td>\n      <td>1.620266</td>\n      <td>0.676202</td>\n      <td>108.519049</td>\n      <td>4.686926</td>\n      <td>-5.179560</td>\n      <td>8.118458</td>\n      <td>3529.761863</td>\n      <td>5723.994646</td>\n      <td>3128.528092</td>\n    </tr>\n    <tr>\n      <th>131</th>\n      <td>g25</td>\n      <td>790.978722</td>\n      <td>74.112215</td>\n      <td>41.544846</td>\n      <td>26.452064</td>\n      <td>0.003807</td>\n      <td>0.003009</td>\n      <td>1.265435</td>\n      <td>29.386913</td>\n      <td>100.591399</td>\n      <td>0.292141</td>\n      <td>1.006640</td>\n      <td>1.154084</td>\n      <td>69.830560</td>\n      <td>4.246072</td>\n      <td>-5.384715</td>\n      <td>7.912044</td>\n      <td>962.073242</td>\n      <td>3647.575081</td>\n      <td>851.874208</td>\n    </tr>\n    <tr>\n      <th>132</th>\n      <td>g28</td>\n      <td>927.760824</td>\n      <td>75.508111</td>\n      <td>41.150260</td>\n      <td>22.135417</td>\n      <td>0.004503</td>\n      <td>0.001765</td>\n      <td>2.551272</td>\n      <td>29.105187</td>\n      <td>102.699906</td>\n      <td>0.283400</td>\n      <td>1.279044</td>\n      <td>0.970779</td>\n      <td>64.221398</td>\n      <td>4.162336</td>\n      <td>-5.994278</td>\n      <td>8.209340</td>\n      <td>1265.610478</td>\n      <td>4234.925045</td>\n      <td>1136.841750</td>\n    </tr>\n    <tr>\n      <th>133</th>\n      <td>g32</td>\n      <td>856.260508</td>\n      <td>70.111866</td>\n      <td>56.863655</td>\n      <td>36.672851</td>\n      <td>0.006522</td>\n      <td>0.004412</td>\n      <td>1.478347</td>\n      <td>40.214896</td>\n      <td>90.642212</td>\n      <td>0.443666</td>\n      <td>1.081420</td>\n      <td>0.804263</td>\n      <td>0.069776</td>\n      <td>-2.662463</td>\n      <td>-5.413024</td>\n      <td>8.120217</td>\n      <td>781.932551</td>\n      <td>3224.143314</td>\n      <td>628.490829</td>\n    </tr>\n    <tr>\n      <th>134</th>\n      <td>g33</td>\n      <td>788.821586</td>\n      <td>67.609359</td>\n      <td>39.407569</td>\n      <td>22.089364</td>\n      <td>0.004450</td>\n      <td>0.003104</td>\n      <td>1.433698</td>\n      <td>27.874051</td>\n      <td>91.429830</td>\n      <td>0.304868</td>\n      <td>1.143176</td>\n      <td>1.032384</td>\n      <td>49.961835</td>\n      <td>3.911259</td>\n      <td>-5.287905</td>\n      <td>7.917762</td>\n      <td>1158.088545</td>\n      <td>3546.462054</td>\n      <td>878.864316</td>\n    </tr>\n    <tr>\n      <th>135</th>\n      <td>g34</td>\n      <td>868.987877</td>\n      <td>28.212079</td>\n      <td>21.089220</td>\n      <td>1.700155</td>\n      <td>0.002966</td>\n      <td>0.002032</td>\n      <td>1.459336</td>\n      <td>14.914636</td>\n      <td>37.006245</td>\n      <td>0.403030</td>\n      <td>1.039548</td>\n      <td>0.976865</td>\n      <td>0.021628</td>\n      <td>-3.833785</td>\n      <td>-7.972122</td>\n      <td>7.974621</td>\n      <td>949.490806</td>\n      <td>2936.543889</td>\n      <td>711.214911</td>\n    </tr>\n    <tr>\n      <th>136</th>\n      <td>g37</td>\n      <td>770.423926</td>\n      <td>69.098969</td>\n      <td>48.498677</td>\n      <td>13.560238</td>\n      <td>0.003489</td>\n      <td>0.001332</td>\n      <td>2.619836</td>\n      <td>34.302950</td>\n      <td>91.381950</td>\n      <td>0.375380</td>\n      <td>1.109063</td>\n      <td>0.917502</td>\n      <td>27.774439</td>\n      <td>3.324116</td>\n      <td>-6.155065</td>\n      <td>7.835435</td>\n      <td>1229.702381</td>\n      <td>2522.603425</td>\n      <td>979.527756</td>\n    </tr>\n    <tr>\n      <th>137</th>\n      <td>g38</td>\n      <td>683.038291</td>\n      <td>52.347843</td>\n      <td>23.220585</td>\n      <td>4.616805</td>\n      <td>0.015274</td>\n      <td>0.001153</td>\n      <td>13.244680</td>\n      <td>16.423221</td>\n      <td>72.201334</td>\n      <td>0.227464</td>\n      <td>1.706388</td>\n      <td>0.658062</td>\n      <td>30.332880</td>\n      <td>3.412232</td>\n      <td>-6.575581</td>\n      <td>7.622233</td>\n      <td>847.595905</td>\n      <td>3189.220106</td>\n      <td>748.048529</td>\n    </tr>\n    <tr>\n      <th>138</th>\n      <td>g39</td>\n      <td>775.854345</td>\n      <td>84.955098</td>\n      <td>66.795480</td>\n      <td>37.927565</td>\n      <td>0.012772</td>\n      <td>0.015958</td>\n      <td>0.800390</td>\n      <td>47.254969</td>\n      <td>110.326111</td>\n      <td>0.428321</td>\n      <td>0.978781</td>\n      <td>0.816788</td>\n      <td>131.635919</td>\n      <td>4.880040</td>\n      <td>-3.739776</td>\n      <td>8.208077</td>\n      <td>2163.204972</td>\n      <td>4582.784262</td>\n      <td>1546.366932</td>\n    </tr>\n    <tr>\n      <th>139</th>\n      <td>g40</td>\n      <td>1323.819968</td>\n      <td>96.506956</td>\n      <td>109.915640</td>\n      <td>68.445476</td>\n      <td>0.010092</td>\n      <td>0.011118</td>\n      <td>0.907734</td>\n      <td>77.812371</td>\n      <td>112.226589</td>\n      <td>0.693351</td>\n      <td>0.755345</td>\n      <td>1.036684</td>\n      <td>108.798668</td>\n      <td>4.689499</td>\n      <td>-6.277493</td>\n      <td>8.984872</td>\n      <td>789.468728</td>\n      <td>3428.996761</td>\n      <td>575.542203</td>\n    </tr>\n    <tr>\n      <th>140</th>\n      <td>g41</td>\n      <td>965.656328</td>\n      <td>99.520943</td>\n      <td>70.401074</td>\n      <td>38.471178</td>\n      <td>0.002155</td>\n      <td>0.001514</td>\n      <td>1.423234</td>\n      <td>49.812293</td>\n      <td>131.706917</td>\n      <td>0.378206</td>\n      <td>0.978574</td>\n      <td>1.069505</td>\n      <td>60.088965</td>\n      <td>4.095826</td>\n      <td>-5.602894</td>\n      <td>8.375275</td>\n      <td>1227.756012</td>\n      <td>3555.581922</td>\n      <td>882.495637</td>\n    </tr>\n    <tr>\n      <th>141</th>\n      <td>g42</td>\n      <td>871.523821</td>\n      <td>60.836352</td>\n      <td>54.027879</td>\n      <td>33.239832</td>\n      <td>0.025477</td>\n      <td>0.021128</td>\n      <td>1.205833</td>\n      <td>38.216824</td>\n      <td>77.058072</td>\n      <td>0.495948</td>\n      <td>0.982174</td>\n      <td>0.780679</td>\n      <td>92.908249</td>\n      <td>4.531612</td>\n      <td>-5.027747</td>\n      <td>8.173484</td>\n      <td>938.317460</td>\n      <td>4157.486322</td>\n      <td>911.901375</td>\n    </tr>\n    <tr>\n      <th>142</th>\n      <td>g44</td>\n      <td>842.010147</td>\n      <td>67.985764</td>\n      <td>41.298461</td>\n      <td>23.809524</td>\n      <td>0.002980</td>\n      <td>0.001541</td>\n      <td>1.933579</td>\n      <td>29.208420</td>\n      <td>91.622596</td>\n      <td>0.318791</td>\n      <td>1.312040</td>\n      <td>0.732933</td>\n      <td>89.179575</td>\n      <td>4.490652</td>\n      <td>-4.933765</td>\n      <td>8.139880</td>\n      <td>1986.490432</td>\n      <td>5893.371758</td>\n      <td>1585.743233</td>\n    </tr>\n    <tr>\n      <th>143</th>\n      <td>g45</td>\n      <td>879.581938</td>\n      <td>84.735008</td>\n      <td>61.276208</td>\n      <td>46.185207</td>\n      <td>0.001341</td>\n      <td>0.001876</td>\n      <td>0.715065</td>\n      <td>43.341452</td>\n      <td>111.755794</td>\n      <td>0.387823</td>\n      <td>0.844890</td>\n      <td>1.208464</td>\n      <td>52.765751</td>\n      <td>3.965862</td>\n      <td>-5.513202</td>\n      <td>8.171620</td>\n      <td>568.426369</td>\n      <td>2964.158037</td>\n      <td>529.667494</td>\n    </tr>\n    <tr>\n      <th>144</th>\n      <td>g46</td>\n      <td>961.794311</td>\n      <td>61.973842</td>\n      <td>29.734024</td>\n      <td>10.189983</td>\n      <td>0.018209</td>\n      <td>0.001159</td>\n      <td>15.708533</td>\n      <td>21.043165</td>\n      <td>85.094370</td>\n      <td>0.247292</td>\n      <td>1.604835</td>\n      <td>0.767003</td>\n      <td>35.497272</td>\n      <td>3.569456</td>\n      <td>-7.244611</td>\n      <td>8.223329</td>\n      <td>2592.577757</td>\n      <td>4167.051373</td>\n      <td>1821.660297</td>\n    </tr>\n    <tr>\n      <th>145</th>\n      <td>g47</td>\n      <td>907.819155</td>\n      <td>78.285616</td>\n      <td>43.566538</td>\n      <td>25.098296</td>\n      <td>0.005567</td>\n      <td>0.001707</td>\n      <td>3.260579</td>\n      <td>30.816298</td>\n      <td>106.369257</td>\n      <td>0.289711</td>\n      <td>1.298011</td>\n      <td>0.947940</td>\n      <td>56.561597</td>\n      <td>4.035330</td>\n      <td>-5.956272</td>\n      <td>8.175653</td>\n      <td>1552.955318</td>\n      <td>3812.673130</td>\n      <td>1242.491918</td>\n    </tr>\n    <tr>\n      <th>146</th>\n      <td>g49</td>\n      <td>869.455893</td>\n      <td>108.483509</td>\n      <td>55.262570</td>\n      <td>37.795276</td>\n      <td>0.000705</td>\n      <td>0.000504</td>\n      <td>1.399231</td>\n      <td>39.086092</td>\n      <td>148.341020</td>\n      <td>0.263488</td>\n      <td>1.119687</td>\n      <td>1.185087</td>\n      <td>56.313306</td>\n      <td>4.030931</td>\n      <td>-5.929798</td>\n      <td>8.107764</td>\n      <td>1611.575341</td>\n      <td>2987.830274</td>\n      <td>1303.031378</td>\n    </tr>\n    <tr>\n      <th>147</th>\n      <td>g51</td>\n      <td>786.298017</td>\n      <td>39.533784</td>\n      <td>34.988104</td>\n      <td>13.163539</td>\n      <td>0.010430</td>\n      <td>0.011025</td>\n      <td>0.946095</td>\n      <td>24.743644</td>\n      <td>50.142705</td>\n      <td>0.493464</td>\n      <td>0.951240</td>\n      <td>0.828049</td>\n      <td>0.055019</td>\n      <td>-2.900083</td>\n      <td>-5.445330</td>\n      <td>7.862556</td>\n      <td>714.306530</td>\n      <td>3831.784230</td>\n      <td>564.057134</td>\n    </tr>\n    <tr>\n      <th>148</th>\n      <td>g52</td>\n      <td>800.544655</td>\n      <td>85.504105</td>\n      <td>45.363025</td>\n      <td>21.660555</td>\n      <td>0.000456</td>\n      <td>0.000520</td>\n      <td>0.876947</td>\n      <td>32.080684</td>\n      <td>116.579554</td>\n      <td>0.275183</td>\n      <td>1.044153</td>\n      <td>0.941294</td>\n      <td>0.065619</td>\n      <td>-2.723896</td>\n      <td>-4.853661</td>\n      <td>7.998357</td>\n      <td>1731.792813</td>\n      <td>3771.753897</td>\n      <td>1387.557352</td>\n    </tr>\n  </tbody>\n</table>\n</div>"
     },
     "execution_count": 59,
     "metadata": {},
     "output_type": "execute_result"
    }
   ],
   "source": [
    "rsa_df"
   ],
   "metadata": {
    "collapsed": false,
    "ExecuteTime": {
     "end_time": "2023-10-10T08:09:42.800338Z",
     "start_time": "2023-10-10T08:09:42.716231Z"
    }
   }
  },
  {
   "cell_type": "code",
   "execution_count": 37,
   "outputs": [],
   "source": [
    "merge_quest=df.merge(quest_df,on='g_num')"
   ],
   "metadata": {
    "collapsed": false,
    "ExecuteTime": {
     "end_time": "2023-10-10T07:52:17.563413Z",
     "start_time": "2023-10-10T07:52:17.498680Z"
    }
   }
  },
  {
   "cell_type": "code",
   "execution_count": 38,
   "outputs": [
    {
     "data": {
      "text/plain": "Index(['id', 'map', 'g_num', 'phy_cond', 'awareness', 'corr_mean_', 'gev_',\n       'occurrences_', 'meandurs_', 'timecov_', 'Unnamed: 0', 'TAS-20',\n       'STAI-Y', 'NEO-FFI N', 'NEO FFI E', 'NEO FFI O', 'NEO FFI A',\n       'NEO FFI C', 'BPQ', 'Code', 'Sexe: ', 'Age'],\n      dtype='object')"
     },
     "execution_count": 38,
     "metadata": {},
     "output_type": "execute_result"
    }
   ],
   "source": [
    "merge_quest.columns"
   ],
   "metadata": {
    "collapsed": false,
    "ExecuteTime": {
     "end_time": "2023-10-10T07:52:18.393319Z",
     "start_time": "2023-10-10T07:52:18.329768Z"
    }
   }
  },
  {
   "cell_type": "code",
   "execution_count": 70,
   "outputs": [],
   "source": [
    "dv_map='gev_'"
   ],
   "metadata": {
    "collapsed": false,
    "ExecuteTime": {
     "end_time": "2023-10-10T08:28:01.246298Z",
     "start_time": "2023-10-10T08:28:01.007585Z"
    }
   }
  },
  {
   "cell_type": "code",
   "execution_count": 71,
   "outputs": [
    {
     "data": {
      "text/plain": "awareness g_num phy_cond  TAS-20  NEO-FFI N  NEO FFI E  NEO FFI O  NEO FFI A  \\\n0           g01      dia    27.0   0.583333   3.500000   3.416667   3.416667   \n1           g01      dia    27.0   0.583333   3.500000   3.416667   3.416667   \n2           g01      dia    27.0   0.583333   3.500000   3.416667   3.416667   \n3           g01      dia    27.0   0.583333   3.500000   3.416667   3.416667   \n4           g01      dia    27.0   0.583333   3.500000   3.416667   3.416667   \n..          ...      ...     ...        ...        ...        ...        ...   \n285         g52      sys    44.0   3.083333   2.083333   2.166667   2.083333   \n286         g52      sys    44.0   3.083333   2.083333   2.166667   2.083333   \n287         g52      sys    44.0   3.083333   2.083333   2.166667   2.083333   \n288         g52      sys    44.0   3.083333   2.083333   2.166667   2.083333   \n289         g52      sys    44.0   3.083333   2.083333   2.166667   2.083333   \n\nawareness  NEO FFI C    BPQ Sexe:   Age  map     aware   unaware  \n0               3.00  109.0      M   24    0  0.087350  0.082113  \n1               3.00  109.0      M   24    1  0.102692  0.087521  \n2               3.00  109.0      M   24    2  0.144036  0.229659  \n3               3.00  109.0      M   24    3  0.093148  0.053223  \n4               3.00  109.0      M   24    4  0.041212  0.061161  \n..               ...    ...    ...  ...  ...       ...       ...  \n285             1.75   62.0      F   26    0  0.094080  0.080662  \n286             1.75   62.0      F   26    1  0.081930  0.085567  \n287             1.75   62.0      F   26    2  0.128839  0.109790  \n288             1.75   62.0      F   26    3  0.174627  0.223230  \n289             1.75   62.0      F   26    4  0.103763  0.065998  \n\n[290 rows x 14 columns]",
      "text/html": "<div>\n<style scoped>\n    .dataframe tbody tr th:only-of-type {\n        vertical-align: middle;\n    }\n\n    .dataframe tbody tr th {\n        vertical-align: top;\n    }\n\n    .dataframe thead th {\n        text-align: right;\n    }\n</style>\n<table border=\"1\" class=\"dataframe\">\n  <thead>\n    <tr style=\"text-align: right;\">\n      <th>awareness</th>\n      <th>g_num</th>\n      <th>phy_cond</th>\n      <th>TAS-20</th>\n      <th>NEO-FFI N</th>\n      <th>NEO FFI E</th>\n      <th>NEO FFI O</th>\n      <th>NEO FFI A</th>\n      <th>NEO FFI C</th>\n      <th>BPQ</th>\n      <th>Sexe:</th>\n      <th>Age</th>\n      <th>map</th>\n      <th>aware</th>\n      <th>unaware</th>\n    </tr>\n  </thead>\n  <tbody>\n    <tr>\n      <th>0</th>\n      <td>g01</td>\n      <td>dia</td>\n      <td>27.0</td>\n      <td>0.583333</td>\n      <td>3.500000</td>\n      <td>3.416667</td>\n      <td>3.416667</td>\n      <td>3.00</td>\n      <td>109.0</td>\n      <td>M</td>\n      <td>24</td>\n      <td>0</td>\n      <td>0.087350</td>\n      <td>0.082113</td>\n    </tr>\n    <tr>\n      <th>1</th>\n      <td>g01</td>\n      <td>dia</td>\n      <td>27.0</td>\n      <td>0.583333</td>\n      <td>3.500000</td>\n      <td>3.416667</td>\n      <td>3.416667</td>\n      <td>3.00</td>\n      <td>109.0</td>\n      <td>M</td>\n      <td>24</td>\n      <td>1</td>\n      <td>0.102692</td>\n      <td>0.087521</td>\n    </tr>\n    <tr>\n      <th>2</th>\n      <td>g01</td>\n      <td>dia</td>\n      <td>27.0</td>\n      <td>0.583333</td>\n      <td>3.500000</td>\n      <td>3.416667</td>\n      <td>3.416667</td>\n      <td>3.00</td>\n      <td>109.0</td>\n      <td>M</td>\n      <td>24</td>\n      <td>2</td>\n      <td>0.144036</td>\n      <td>0.229659</td>\n    </tr>\n    <tr>\n      <th>3</th>\n      <td>g01</td>\n      <td>dia</td>\n      <td>27.0</td>\n      <td>0.583333</td>\n      <td>3.500000</td>\n      <td>3.416667</td>\n      <td>3.416667</td>\n      <td>3.00</td>\n      <td>109.0</td>\n      <td>M</td>\n      <td>24</td>\n      <td>3</td>\n      <td>0.093148</td>\n      <td>0.053223</td>\n    </tr>\n    <tr>\n      <th>4</th>\n      <td>g01</td>\n      <td>dia</td>\n      <td>27.0</td>\n      <td>0.583333</td>\n      <td>3.500000</td>\n      <td>3.416667</td>\n      <td>3.416667</td>\n      <td>3.00</td>\n      <td>109.0</td>\n      <td>M</td>\n      <td>24</td>\n      <td>4</td>\n      <td>0.041212</td>\n      <td>0.061161</td>\n    </tr>\n    <tr>\n      <th>...</th>\n      <td>...</td>\n      <td>...</td>\n      <td>...</td>\n      <td>...</td>\n      <td>...</td>\n      <td>...</td>\n      <td>...</td>\n      <td>...</td>\n      <td>...</td>\n      <td>...</td>\n      <td>...</td>\n      <td>...</td>\n      <td>...</td>\n      <td>...</td>\n    </tr>\n    <tr>\n      <th>285</th>\n      <td>g52</td>\n      <td>sys</td>\n      <td>44.0</td>\n      <td>3.083333</td>\n      <td>2.083333</td>\n      <td>2.166667</td>\n      <td>2.083333</td>\n      <td>1.75</td>\n      <td>62.0</td>\n      <td>F</td>\n      <td>26</td>\n      <td>0</td>\n      <td>0.094080</td>\n      <td>0.080662</td>\n    </tr>\n    <tr>\n      <th>286</th>\n      <td>g52</td>\n      <td>sys</td>\n      <td>44.0</td>\n      <td>3.083333</td>\n      <td>2.083333</td>\n      <td>2.166667</td>\n      <td>2.083333</td>\n      <td>1.75</td>\n      <td>62.0</td>\n      <td>F</td>\n      <td>26</td>\n      <td>1</td>\n      <td>0.081930</td>\n      <td>0.085567</td>\n    </tr>\n    <tr>\n      <th>287</th>\n      <td>g52</td>\n      <td>sys</td>\n      <td>44.0</td>\n      <td>3.083333</td>\n      <td>2.083333</td>\n      <td>2.166667</td>\n      <td>2.083333</td>\n      <td>1.75</td>\n      <td>62.0</td>\n      <td>F</td>\n      <td>26</td>\n      <td>2</td>\n      <td>0.128839</td>\n      <td>0.109790</td>\n    </tr>\n    <tr>\n      <th>288</th>\n      <td>g52</td>\n      <td>sys</td>\n      <td>44.0</td>\n      <td>3.083333</td>\n      <td>2.083333</td>\n      <td>2.166667</td>\n      <td>2.083333</td>\n      <td>1.75</td>\n      <td>62.0</td>\n      <td>F</td>\n      <td>26</td>\n      <td>3</td>\n      <td>0.174627</td>\n      <td>0.223230</td>\n    </tr>\n    <tr>\n      <th>289</th>\n      <td>g52</td>\n      <td>sys</td>\n      <td>44.0</td>\n      <td>3.083333</td>\n      <td>2.083333</td>\n      <td>2.166667</td>\n      <td>2.083333</td>\n      <td>1.75</td>\n      <td>62.0</td>\n      <td>F</td>\n      <td>26</td>\n      <td>4</td>\n      <td>0.103763</td>\n      <td>0.065998</td>\n    </tr>\n  </tbody>\n</table>\n<p>290 rows × 14 columns</p>\n</div>"
     },
     "execution_count": 71,
     "metadata": {},
     "output_type": "execute_result"
    }
   ],
   "source": [
    "merge_quest_piv=pd.pivot_table(merge_quest,values=dv_map,index=['g_num','phy_cond','TAS-20','NEO-FFI N', 'NEO FFI E', 'NEO FFI O', 'NEO FFI A','NEO FFI C', 'BPQ', 'Sexe: ', 'Age','map'],columns='awareness')\n",
    "merge_quest_piv.reset_index(inplace=True)\n",
    "merge_quest_piv"
   ],
   "metadata": {
    "collapsed": false,
    "ExecuteTime": {
     "end_time": "2023-10-10T08:28:02.621001Z",
     "start_time": "2023-10-10T08:28:02.498106Z"
    }
   }
  },
  {
   "cell_type": "code",
   "execution_count": 72,
   "outputs": [],
   "source": [
    "merge_quest_piv['aware_diff']=merge_quest_piv['aware']-merge_quest_piv['unaware']"
   ],
   "metadata": {
    "collapsed": false,
    "ExecuteTime": {
     "end_time": "2023-10-10T08:28:03.910277Z",
     "start_time": "2023-10-10T08:28:03.852969Z"
    }
   }
  },
  {
   "cell_type": "code",
   "execution_count": 74,
   "outputs": [
    {
     "data": {
      "text/plain": "    g_num phy_cond  TAS-20  NEO-FFI N  NEO FFI E  NEO FFI O  NEO FFI A  \\\n0     g01      dia    27.0   0.583333   3.500000   3.416667   3.416667   \n1     g01      dia    27.0   0.583333   3.500000   3.416667   3.416667   \n2     g01      dia    27.0   0.583333   3.500000   3.416667   3.416667   \n3     g01      dia    27.0   0.583333   3.500000   3.416667   3.416667   \n4     g01      dia    27.0   0.583333   3.500000   3.416667   3.416667   \n..    ...      ...     ...        ...        ...        ...        ...   \n285   g52      sys    44.0   3.083333   2.083333   2.166667   2.083333   \n286   g52      sys    44.0   3.083333   2.083333   2.166667   2.083333   \n287   g52      sys    44.0   3.083333   2.083333   2.166667   2.083333   \n288   g52      sys    44.0   3.083333   2.083333   2.166667   2.083333   \n289   g52      sys    44.0   3.083333   2.083333   2.166667   2.083333   \n\n     NEO FFI C    BPQ Sexe:   ...  HRV_SD1SD2  HRV_DFA_alpha1  HRV_DFA_alpha2  \\\n0         3.00  109.0      M  ...    0.317853        1.278332        0.874957   \n1         3.00  109.0      M  ...    0.317853        1.278332        0.874957   \n2         3.00  109.0      M  ...    0.317853        1.278332        0.874957   \n3         3.00  109.0      M  ...    0.317853        1.278332        0.874957   \n4         3.00  109.0      M  ...    0.317853        1.278332        0.874957   \n..         ...    ...    ...  ...         ...             ...             ...   \n285       1.75   62.0      F  ...    0.275183        1.044153        0.941294   \n286       1.75   62.0      F  ...    0.275183        1.044153        0.941294   \n287       1.75   62.0      F  ...    0.275183        1.044153        0.941294   \n288       1.75   62.0      F  ...    0.275183        1.044153        0.941294   \n289       1.75   62.0      F  ...    0.275183        1.044153        0.941294   \n\n     RSA_P2T_Mean  RSA_P2T_Mean_log  RSA_PorgesBohrer  RSA_Gates_Mean  \\\n0       30.831988          3.428553         -6.349918        8.278322   \n1       30.831988          3.428553         -6.349918        8.278322   \n2       30.831988          3.428553         -6.349918        8.278322   \n3       30.831988          3.428553         -6.349918        8.278322   \n4       30.831988          3.428553         -6.349918        8.278322   \n..            ...               ...               ...             ...   \n285      0.065619         -2.723896         -4.853661        7.998357   \n286      0.065619         -2.723896         -4.853661        7.998357   \n287      0.065619         -2.723896         -4.853661        7.998357   \n288      0.065619         -2.723896         -4.853661        7.998357   \n289      0.065619         -2.723896         -4.853661        7.998357   \n\n       RRV_RMSSD   RRV_MeanBB     RRV_SDBB  \n0    2430.630609  3269.338565  1891.858979  \n1    2430.630609  3269.338565  1891.858979  \n2    2430.630609  3269.338565  1891.858979  \n3    2430.630609  3269.338565  1891.858979  \n4    2430.630609  3269.338565  1891.858979  \n..           ...          ...          ...  \n285  1731.792813  3771.753897  1387.557352  \n286  1731.792813  3771.753897  1387.557352  \n287  1731.792813  3771.753897  1387.557352  \n288  1731.792813  3771.753897  1387.557352  \n289  1731.792813  3771.753897  1387.557352  \n\n[290 rows x 34 columns]",
      "text/html": "<div>\n<style scoped>\n    .dataframe tbody tr th:only-of-type {\n        vertical-align: middle;\n    }\n\n    .dataframe tbody tr th {\n        vertical-align: top;\n    }\n\n    .dataframe thead th {\n        text-align: right;\n    }\n</style>\n<table border=\"1\" class=\"dataframe\">\n  <thead>\n    <tr style=\"text-align: right;\">\n      <th></th>\n      <th>g_num</th>\n      <th>phy_cond</th>\n      <th>TAS-20</th>\n      <th>NEO-FFI N</th>\n      <th>NEO FFI E</th>\n      <th>NEO FFI O</th>\n      <th>NEO FFI A</th>\n      <th>NEO FFI C</th>\n      <th>BPQ</th>\n      <th>Sexe:</th>\n      <th>...</th>\n      <th>HRV_SD1SD2</th>\n      <th>HRV_DFA_alpha1</th>\n      <th>HRV_DFA_alpha2</th>\n      <th>RSA_P2T_Mean</th>\n      <th>RSA_P2T_Mean_log</th>\n      <th>RSA_PorgesBohrer</th>\n      <th>RSA_Gates_Mean</th>\n      <th>RRV_RMSSD</th>\n      <th>RRV_MeanBB</th>\n      <th>RRV_SDBB</th>\n    </tr>\n  </thead>\n  <tbody>\n    <tr>\n      <th>0</th>\n      <td>g01</td>\n      <td>dia</td>\n      <td>27.0</td>\n      <td>0.583333</td>\n      <td>3.500000</td>\n      <td>3.416667</td>\n      <td>3.416667</td>\n      <td>3.00</td>\n      <td>109.0</td>\n      <td>M</td>\n      <td>...</td>\n      <td>0.317853</td>\n      <td>1.278332</td>\n      <td>0.874957</td>\n      <td>30.831988</td>\n      <td>3.428553</td>\n      <td>-6.349918</td>\n      <td>8.278322</td>\n      <td>2430.630609</td>\n      <td>3269.338565</td>\n      <td>1891.858979</td>\n    </tr>\n    <tr>\n      <th>1</th>\n      <td>g01</td>\n      <td>dia</td>\n      <td>27.0</td>\n      <td>0.583333</td>\n      <td>3.500000</td>\n      <td>3.416667</td>\n      <td>3.416667</td>\n      <td>3.00</td>\n      <td>109.0</td>\n      <td>M</td>\n      <td>...</td>\n      <td>0.317853</td>\n      <td>1.278332</td>\n      <td>0.874957</td>\n      <td>30.831988</td>\n      <td>3.428553</td>\n      <td>-6.349918</td>\n      <td>8.278322</td>\n      <td>2430.630609</td>\n      <td>3269.338565</td>\n      <td>1891.858979</td>\n    </tr>\n    <tr>\n      <th>2</th>\n      <td>g01</td>\n      <td>dia</td>\n      <td>27.0</td>\n      <td>0.583333</td>\n      <td>3.500000</td>\n      <td>3.416667</td>\n      <td>3.416667</td>\n      <td>3.00</td>\n      <td>109.0</td>\n      <td>M</td>\n      <td>...</td>\n      <td>0.317853</td>\n      <td>1.278332</td>\n      <td>0.874957</td>\n      <td>30.831988</td>\n      <td>3.428553</td>\n      <td>-6.349918</td>\n      <td>8.278322</td>\n      <td>2430.630609</td>\n      <td>3269.338565</td>\n      <td>1891.858979</td>\n    </tr>\n    <tr>\n      <th>3</th>\n      <td>g01</td>\n      <td>dia</td>\n      <td>27.0</td>\n      <td>0.583333</td>\n      <td>3.500000</td>\n      <td>3.416667</td>\n      <td>3.416667</td>\n      <td>3.00</td>\n      <td>109.0</td>\n      <td>M</td>\n      <td>...</td>\n      <td>0.317853</td>\n      <td>1.278332</td>\n      <td>0.874957</td>\n      <td>30.831988</td>\n      <td>3.428553</td>\n      <td>-6.349918</td>\n      <td>8.278322</td>\n      <td>2430.630609</td>\n      <td>3269.338565</td>\n      <td>1891.858979</td>\n    </tr>\n    <tr>\n      <th>4</th>\n      <td>g01</td>\n      <td>dia</td>\n      <td>27.0</td>\n      <td>0.583333</td>\n      <td>3.500000</td>\n      <td>3.416667</td>\n      <td>3.416667</td>\n      <td>3.00</td>\n      <td>109.0</td>\n      <td>M</td>\n      <td>...</td>\n      <td>0.317853</td>\n      <td>1.278332</td>\n      <td>0.874957</td>\n      <td>30.831988</td>\n      <td>3.428553</td>\n      <td>-6.349918</td>\n      <td>8.278322</td>\n      <td>2430.630609</td>\n      <td>3269.338565</td>\n      <td>1891.858979</td>\n    </tr>\n    <tr>\n      <th>...</th>\n      <td>...</td>\n      <td>...</td>\n      <td>...</td>\n      <td>...</td>\n      <td>...</td>\n      <td>...</td>\n      <td>...</td>\n      <td>...</td>\n      <td>...</td>\n      <td>...</td>\n      <td>...</td>\n      <td>...</td>\n      <td>...</td>\n      <td>...</td>\n      <td>...</td>\n      <td>...</td>\n      <td>...</td>\n      <td>...</td>\n      <td>...</td>\n      <td>...</td>\n      <td>...</td>\n    </tr>\n    <tr>\n      <th>285</th>\n      <td>g52</td>\n      <td>sys</td>\n      <td>44.0</td>\n      <td>3.083333</td>\n      <td>2.083333</td>\n      <td>2.166667</td>\n      <td>2.083333</td>\n      <td>1.75</td>\n      <td>62.0</td>\n      <td>F</td>\n      <td>...</td>\n      <td>0.275183</td>\n      <td>1.044153</td>\n      <td>0.941294</td>\n      <td>0.065619</td>\n      <td>-2.723896</td>\n      <td>-4.853661</td>\n      <td>7.998357</td>\n      <td>1731.792813</td>\n      <td>3771.753897</td>\n      <td>1387.557352</td>\n    </tr>\n    <tr>\n      <th>286</th>\n      <td>g52</td>\n      <td>sys</td>\n      <td>44.0</td>\n      <td>3.083333</td>\n      <td>2.083333</td>\n      <td>2.166667</td>\n      <td>2.083333</td>\n      <td>1.75</td>\n      <td>62.0</td>\n      <td>F</td>\n      <td>...</td>\n      <td>0.275183</td>\n      <td>1.044153</td>\n      <td>0.941294</td>\n      <td>0.065619</td>\n      <td>-2.723896</td>\n      <td>-4.853661</td>\n      <td>7.998357</td>\n      <td>1731.792813</td>\n      <td>3771.753897</td>\n      <td>1387.557352</td>\n    </tr>\n    <tr>\n      <th>287</th>\n      <td>g52</td>\n      <td>sys</td>\n      <td>44.0</td>\n      <td>3.083333</td>\n      <td>2.083333</td>\n      <td>2.166667</td>\n      <td>2.083333</td>\n      <td>1.75</td>\n      <td>62.0</td>\n      <td>F</td>\n      <td>...</td>\n      <td>0.275183</td>\n      <td>1.044153</td>\n      <td>0.941294</td>\n      <td>0.065619</td>\n      <td>-2.723896</td>\n      <td>-4.853661</td>\n      <td>7.998357</td>\n      <td>1731.792813</td>\n      <td>3771.753897</td>\n      <td>1387.557352</td>\n    </tr>\n    <tr>\n      <th>288</th>\n      <td>g52</td>\n      <td>sys</td>\n      <td>44.0</td>\n      <td>3.083333</td>\n      <td>2.083333</td>\n      <td>2.166667</td>\n      <td>2.083333</td>\n      <td>1.75</td>\n      <td>62.0</td>\n      <td>F</td>\n      <td>...</td>\n      <td>0.275183</td>\n      <td>1.044153</td>\n      <td>0.941294</td>\n      <td>0.065619</td>\n      <td>-2.723896</td>\n      <td>-4.853661</td>\n      <td>7.998357</td>\n      <td>1731.792813</td>\n      <td>3771.753897</td>\n      <td>1387.557352</td>\n    </tr>\n    <tr>\n      <th>289</th>\n      <td>g52</td>\n      <td>sys</td>\n      <td>44.0</td>\n      <td>3.083333</td>\n      <td>2.083333</td>\n      <td>2.166667</td>\n      <td>2.083333</td>\n      <td>1.75</td>\n      <td>62.0</td>\n      <td>F</td>\n      <td>...</td>\n      <td>0.275183</td>\n      <td>1.044153</td>\n      <td>0.941294</td>\n      <td>0.065619</td>\n      <td>-2.723896</td>\n      <td>-4.853661</td>\n      <td>7.998357</td>\n      <td>1731.792813</td>\n      <td>3771.753897</td>\n      <td>1387.557352</td>\n    </tr>\n  </tbody>\n</table>\n<p>290 rows × 34 columns</p>\n</div>"
     },
     "execution_count": 74,
     "metadata": {},
     "output_type": "execute_result"
    }
   ],
   "source": [
    "merge_rsa=merge_quest_piv.merge(rsa_df,on='g_num')\n",
    "merge_rsa"
   ],
   "metadata": {
    "collapsed": false,
    "ExecuteTime": {
     "end_time": "2023-10-10T08:28:14.411830Z",
     "start_time": "2023-10-10T08:28:14.344713Z"
    }
   }
  },
  {
   "cell_type": "code",
   "execution_count": 93,
   "outputs": [],
   "source": [
    "merge_rsa_R=merge_quest.merge(rsa_df,on='g_num')\n",
    "merge_rsa_R.to_csv(base_path+'/prestate_cardiac_inter.csv')"
   ],
   "metadata": {
    "collapsed": false,
    "ExecuteTime": {
     "end_time": "2023-10-10T09:08:23.947423Z",
     "start_time": "2023-10-10T09:08:23.398844Z"
    }
   }
  },
  {
   "cell_type": "code",
   "execution_count": 77,
   "outputs": [],
   "source": [
    "map=0\n",
    "phy_cond='sys'\n",
    "merge_rsa_selection=merge_rsa[merge_rsa['map']==map]\n",
    "merge_rsa_selection=merge_rsa_selection[merge_rsa_selection['phy_cond']==phy_cond]"
   ],
   "metadata": {
    "collapsed": false,
    "ExecuteTime": {
     "end_time": "2023-10-10T08:29:42.599037Z",
     "start_time": "2023-10-10T08:29:42.559003Z"
    }
   }
  },
  {
   "cell_type": "code",
   "execution_count": 87,
   "outputs": [
    {
     "data": {
      "text/plain": "<AxesSubplot:>"
     },
     "execution_count": 87,
     "metadata": {},
     "output_type": "execute_result"
    }
   ],
   "source": [
    "%matplotlib qt\n",
    "corr=merge_rsa_selection.corr()\n",
    "sns.heatmap(corr,annot=True,xticklabels=True,yticklabels=True)"
   ],
   "metadata": {
    "collapsed": false,
    "ExecuteTime": {
     "end_time": "2023-10-10T08:34:44.808236Z",
     "start_time": "2023-10-10T08:34:44.205005Z"
    }
   }
  },
  {
   "cell_type": "code",
   "execution_count": 84,
   "outputs": [
    {
     "ename": "KeyError",
     "evalue": "'diff_aware'",
     "output_type": "error",
     "traceback": [
      "\u001B[0;31m---------------------------------------------------------------------------\u001B[0m",
      "\u001B[0;31mKeyError\u001B[0m                                  Traceback (most recent call last)",
      "File \u001B[0;32m/Applications/anaconda3/envs/mne_1_3/lib/python3.9/site-packages/pandas/core/indexes/base.py:3621\u001B[0m, in \u001B[0;36mIndex.get_loc\u001B[0;34m(self, key, method, tolerance)\u001B[0m\n\u001B[1;32m   3620\u001B[0m \u001B[38;5;28;01mtry\u001B[39;00m:\n\u001B[0;32m-> 3621\u001B[0m     \u001B[38;5;28;01mreturn\u001B[39;00m \u001B[38;5;28;43mself\u001B[39;49m\u001B[38;5;241;43m.\u001B[39;49m\u001B[43m_engine\u001B[49m\u001B[38;5;241;43m.\u001B[39;49m\u001B[43mget_loc\u001B[49m\u001B[43m(\u001B[49m\u001B[43mcasted_key\u001B[49m\u001B[43m)\u001B[49m\n\u001B[1;32m   3622\u001B[0m \u001B[38;5;28;01mexcept\u001B[39;00m \u001B[38;5;167;01mKeyError\u001B[39;00m \u001B[38;5;28;01mas\u001B[39;00m err:\n",
      "File \u001B[0;32m/Applications/anaconda3/envs/mne_1_3/lib/python3.9/site-packages/pandas/_libs/index.pyx:136\u001B[0m, in \u001B[0;36mpandas._libs.index.IndexEngine.get_loc\u001B[0;34m()\u001B[0m\n",
      "File \u001B[0;32m/Applications/anaconda3/envs/mne_1_3/lib/python3.9/site-packages/pandas/_libs/index.pyx:163\u001B[0m, in \u001B[0;36mpandas._libs.index.IndexEngine.get_loc\u001B[0;34m()\u001B[0m\n",
      "File \u001B[0;32mpandas/_libs/hashtable_class_helper.pxi:5198\u001B[0m, in \u001B[0;36mpandas._libs.hashtable.PyObjectHashTable.get_item\u001B[0;34m()\u001B[0m\n",
      "File \u001B[0;32mpandas/_libs/hashtable_class_helper.pxi:5206\u001B[0m, in \u001B[0;36mpandas._libs.hashtable.PyObjectHashTable.get_item\u001B[0;34m()\u001B[0m\n",
      "\u001B[0;31mKeyError\u001B[0m: 'diff_aware'",
      "\nThe above exception was the direct cause of the following exception:\n",
      "\u001B[0;31mKeyError\u001B[0m                                  Traceback (most recent call last)",
      "Input \u001B[0;32mIn [84]\u001B[0m, in \u001B[0;36m<cell line: 1>\u001B[0;34m()\u001B[0m\n\u001B[0;32m----> 1\u001B[0m \u001B[43mmerge_rsa_selection\u001B[49m\u001B[43m[\u001B[49m\u001B[38;5;124;43m'\u001B[39;49m\u001B[38;5;124;43mdiff_aware\u001B[39;49m\u001B[38;5;124;43m'\u001B[39;49m\u001B[43m]\u001B[49m\n",
      "File \u001B[0;32m/Applications/anaconda3/envs/mne_1_3/lib/python3.9/site-packages/pandas/core/frame.py:3505\u001B[0m, in \u001B[0;36mDataFrame.__getitem__\u001B[0;34m(self, key)\u001B[0m\n\u001B[1;32m   3503\u001B[0m \u001B[38;5;28;01mif\u001B[39;00m \u001B[38;5;28mself\u001B[39m\u001B[38;5;241m.\u001B[39mcolumns\u001B[38;5;241m.\u001B[39mnlevels \u001B[38;5;241m>\u001B[39m \u001B[38;5;241m1\u001B[39m:\n\u001B[1;32m   3504\u001B[0m     \u001B[38;5;28;01mreturn\u001B[39;00m \u001B[38;5;28mself\u001B[39m\u001B[38;5;241m.\u001B[39m_getitem_multilevel(key)\n\u001B[0;32m-> 3505\u001B[0m indexer \u001B[38;5;241m=\u001B[39m \u001B[38;5;28;43mself\u001B[39;49m\u001B[38;5;241;43m.\u001B[39;49m\u001B[43mcolumns\u001B[49m\u001B[38;5;241;43m.\u001B[39;49m\u001B[43mget_loc\u001B[49m\u001B[43m(\u001B[49m\u001B[43mkey\u001B[49m\u001B[43m)\u001B[49m\n\u001B[1;32m   3506\u001B[0m \u001B[38;5;28;01mif\u001B[39;00m is_integer(indexer):\n\u001B[1;32m   3507\u001B[0m     indexer \u001B[38;5;241m=\u001B[39m [indexer]\n",
      "File \u001B[0;32m/Applications/anaconda3/envs/mne_1_3/lib/python3.9/site-packages/pandas/core/indexes/base.py:3623\u001B[0m, in \u001B[0;36mIndex.get_loc\u001B[0;34m(self, key, method, tolerance)\u001B[0m\n\u001B[1;32m   3621\u001B[0m     \u001B[38;5;28;01mreturn\u001B[39;00m \u001B[38;5;28mself\u001B[39m\u001B[38;5;241m.\u001B[39m_engine\u001B[38;5;241m.\u001B[39mget_loc(casted_key)\n\u001B[1;32m   3622\u001B[0m \u001B[38;5;28;01mexcept\u001B[39;00m \u001B[38;5;167;01mKeyError\u001B[39;00m \u001B[38;5;28;01mas\u001B[39;00m err:\n\u001B[0;32m-> 3623\u001B[0m     \u001B[38;5;28;01mraise\u001B[39;00m \u001B[38;5;167;01mKeyError\u001B[39;00m(key) \u001B[38;5;28;01mfrom\u001B[39;00m \u001B[38;5;21;01merr\u001B[39;00m\n\u001B[1;32m   3624\u001B[0m \u001B[38;5;28;01mexcept\u001B[39;00m \u001B[38;5;167;01mTypeError\u001B[39;00m:\n\u001B[1;32m   3625\u001B[0m     \u001B[38;5;66;03m# If we have a listlike key, _check_indexing_error will raise\u001B[39;00m\n\u001B[1;32m   3626\u001B[0m     \u001B[38;5;66;03m#  InvalidIndexError. Otherwise we fall through and re-raise\u001B[39;00m\n\u001B[1;32m   3627\u001B[0m     \u001B[38;5;66;03m#  the TypeError.\u001B[39;00m\n\u001B[1;32m   3628\u001B[0m     \u001B[38;5;28mself\u001B[39m\u001B[38;5;241m.\u001B[39m_check_indexing_error(key)\n",
      "\u001B[0;31mKeyError\u001B[0m: 'diff_aware'"
     ]
    }
   ],
   "source": [
    "merge_rsa_selection['diff_aware']"
   ],
   "metadata": {
    "collapsed": false,
    "ExecuteTime": {
     "end_time": "2023-10-10T08:33:46.993105Z",
     "start_time": "2023-10-10T08:33:46.879383Z"
    }
   }
  },
  {
   "cell_type": "code",
   "execution_count": 88,
   "outputs": [
    {
     "data": {
      "text/plain": "<AxesSubplot:xlabel='HRV_HF', ylabel='aware_diff'>"
     },
     "execution_count": 88,
     "metadata": {},
     "output_type": "execute_result"
    }
   ],
   "source": [
    "sns.scatterplot(data=merge_rsa_selection, x='HRV_HF',y='aware_diff')"
   ],
   "metadata": {
    "collapsed": false,
    "ExecuteTime": {
     "end_time": "2023-10-10T08:35:07.958134Z",
     "start_time": "2023-10-10T08:35:07.794913Z"
    }
   }
  },
  {
   "cell_type": "code",
   "execution_count": 72,
   "outputs": [],
   "source": [
    "#is the fitting contextual or does it depend? exa CA_sys + CA_dia == CA_ing + CA_exh ??"
   ],
   "metadata": {
    "collapsed": false,
    "ExecuteTime": {
     "end_time": "2023-10-09T13:34:40.798065Z",
     "start_time": "2023-10-09T13:34:40.748740Z"
    }
   }
  },
  {
   "cell_type": "code",
   "execution_count": 73,
   "outputs": [
    {
     "name": "stdout",
     "output_type": "stream",
     "text": [
      "results for dv timecov_\n",
      "Map n 0\n",
      "                    timecov_\n",
      "awareness phy_cond          \n",
      "aware     exh       0.244489\n",
      "unaware   exh       0.234710\n",
      "    Contrast      A        B  Paired  Parametric         T   dof alternative  \\\n",
      "0  awareness  aware  unaware    True        True  0.996853  28.0   two-sided   \n",
      "\n",
      "      p-unc  BF10    hedges  \n",
      "0  0.327373  0.31  0.184364  \n",
      "results for dv gev_\n",
      "Map n 0\n",
      "                        gev_\n",
      "awareness phy_cond          \n",
      "aware     exh       0.122540\n",
      "unaware   exh       0.118034\n",
      "    Contrast      A        B  Paired  Parametric        T   dof alternative  \\\n",
      "0  awareness  aware  unaware    True        True  0.56964  28.0   two-sided   \n",
      "\n",
      "      p-unc   BF10    hedges  \n",
      "0  0.573464  0.229  0.094691  \n",
      "results for dv timecov_\n",
      "Map n 1\n",
      "                    timecov_\n",
      "awareness phy_cond          \n",
      "aware     exh       0.300227\n",
      "unaware   exh       0.295295\n",
      "    Contrast      A        B  Paired  Parametric         T   dof alternative  \\\n",
      "0  awareness  aware  unaware    True        True  0.497455  28.0   two-sided   \n",
      "\n",
      "      p-unc   BF10    hedges  \n",
      "0  0.622753  0.221  0.075719  \n",
      "results for dv gev_\n",
      "Map n 1\n",
      "                        gev_\n",
      "awareness phy_cond          \n",
      "aware     exh       0.237705\n",
      "unaware   exh       0.241836\n",
      "    Contrast      A        B  Paired  Parametric         T   dof alternative  \\\n",
      "0  awareness  aware  unaware    True        True -0.415772  28.0   two-sided   \n",
      "\n",
      "      p-unc   BF10   hedges  \n",
      "0  0.680746  0.214 -0.05503  \n",
      "results for dv timecov_\n",
      "Map n 2\n",
      "                    timecov_\n",
      "awareness phy_cond          \n",
      "aware     exh       0.195738\n",
      "unaware   exh       0.209630\n",
      "    Contrast      A        B  Paired  Parametric         T   dof alternative  \\\n",
      "0  awareness  aware  unaware    True        True -1.661295  28.0   two-sided   \n",
      "\n",
      "      p-unc   BF10    hedges  \n",
      "0  0.107812  0.669 -0.277162  \n",
      "results for dv gev_\n",
      "Map n 2\n",
      "                        gev_\n",
      "awareness phy_cond          \n",
      "aware     exh       0.078127\n",
      "unaware   exh       0.078325\n",
      "    Contrast      A        B  Paired  Parametric         T   dof alternative  \\\n",
      "0  awareness  aware  unaware    True        True -0.041157  28.0   two-sided   \n",
      "\n",
      "      p-unc   BF10    hedges  \n",
      "0  0.967463  0.198 -0.006078  \n",
      "results for dv timecov_\n",
      "Map n 3\n",
      "                    timecov_\n",
      "awareness phy_cond          \n",
      "aware     exh       0.259547\n",
      "unaware   exh       0.260365\n",
      "    Contrast      A        B  Paired  Parametric         T   dof alternative  \\\n",
      "0  awareness  aware  unaware    True        True -0.079179  28.0   two-sided   \n",
      "\n",
      "      p-unc   BF10    hedges  \n",
      "0  0.937453  0.198 -0.015428  \n",
      "results for dv gev_\n",
      "Map n 3\n",
      "                        gev_\n",
      "awareness phy_cond          \n",
      "aware     exh       0.153058\n",
      "unaware   exh       0.143691\n",
      "    Contrast      A        B  Paired  Parametric         T   dof alternative  \\\n",
      "0  awareness  aware  unaware    True        True  0.884271  28.0   two-sided   \n",
      "\n",
      "     p-unc   BF10   hedges  \n",
      "0  0.38408  0.282  0.14155  \n"
     ]
    }
   ],
   "source": [
    "%matplotlib qt\n",
    "for maps in df['map'].unique():\n",
    "    for dvs in dv_columns:\n",
    "\n",
    "        if 'aware' in cond1:\n",
    "            print(f'results for dv {dvs}')\n",
    "            print(f'Map n {maps}')\n",
    "            print(pd.pivot_table(df[df['map']==maps],values=dvs,index=['awareness','phy_cond']))\n",
    "            print(pg.pairwise_tests(df[df['map']==maps],dv=dvs, subject='g_num',within=['phy_cond']))\n",
    "\n",
    "\n",
    "            fig,ax = plt.subplots(1)\n",
    "            sns.barplot(data=df[df['map']==maps],x='phy_cond',y=dvs, ax=ax)\n",
    "            ax.set_title(maps)\n",
    "        else:\n",
    "            print(f'results for dv {dvs}')\n",
    "            print(f'Map n {maps}')\n",
    "            print(pd.pivot_table(df[df['map']==maps],values=dvs,index=['awareness','phy_cond']))\n",
    "            print(pg.pairwise_tests(df[df['map']==maps],dv=dvs, subject='g_num',within=['awareness']))\n",
    "\n",
    "\n",
    "            fig,ax = plt.subplots(1)\n",
    "            sns.barplot(data=df[df['map']==maps],x='awareness',y=dvs, ax=ax)\n",
    "            ax.set_title(maps)\n",
    "\n",
    "\n"
   ],
   "metadata": {
    "collapsed": false,
    "ExecuteTime": {
     "end_time": "2023-10-09T13:34:42.124366Z",
     "start_time": "2023-10-09T13:34:41.173014Z"
    }
   }
  },
  {
   "cell_type": "code",
   "execution_count": null,
   "outputs": [],
   "source": [],
   "metadata": {
    "collapsed": false
   }
  },
  {
   "cell_type": "code",
   "execution_count": 45,
   "outputs": [],
   "source": [
    "\n",
    "\n",
    "df_piv_awareness=df.pivot_table(index=['g_num','map','phy_cond'],columns='awareness',values='timecov_').reset_index()\n"
   ],
   "metadata": {
    "collapsed": false,
    "ExecuteTime": {
     "end_time": "2023-09-25T09:08:11.652703Z",
     "start_time": "2023-09-25T09:08:11.560997Z"
    }
   }
  },
  {
   "cell_type": "code",
   "execution_count": 46,
   "outputs": [],
   "source": [
    "df_piv_awareness['timecov_diff']=df_piv_awareness['aware']-df_piv_awareness['unaware']"
   ],
   "metadata": {
    "collapsed": false,
    "ExecuteTime": {
     "end_time": "2023-09-25T09:08:12.263265Z",
     "start_time": "2023-09-25T09:08:12.175309Z"
    }
   }
  },
  {
   "cell_type": "code",
   "execution_count": 51,
   "outputs": [],
   "source": [
    "df_piv_awareness_map1=df_piv_awareness[df_piv_awareness['map']==1]"
   ],
   "metadata": {
    "collapsed": false,
    "ExecuteTime": {
     "end_time": "2023-09-25T09:21:55.679678Z",
     "start_time": "2023-09-25T09:21:55.595771Z"
    }
   }
  },
  {
   "cell_type": "code",
   "execution_count": 65,
   "outputs": [],
   "source": [
    "def plotlabel(xvar, yvar, label):\n",
    "    ax_sys.text(xvar+2, yvar, label)"
   ],
   "metadata": {
    "collapsed": false,
    "ExecuteTime": {
     "end_time": "2023-09-25T09:32:44.214030Z",
     "start_time": "2023-09-25T09:32:44.135622Z"
    }
   }
  },
  {
   "cell_type": "code",
   "execution_count": 66,
   "outputs": [
    {
     "data": {
      "text/plain": "3      None\n13     None\n23     None\n33     None\n43     None\n53     None\n63     None\n73     None\n83     None\n93     None\n103    None\n113    None\n123    None\n133    None\n143    None\n153    None\n163    None\n173    None\n183    None\n193    None\n203    None\n213    None\n223    None\n233    None\n243    None\n253    None\n263    None\n273    None\n283    None\ndtype: object"
     },
     "execution_count": 66,
     "metadata": {},
     "output_type": "execute_result"
    }
   ],
   "source": [
    "fig,ax_sys=plt.subplots()\n",
    "sns.stripplot(data=df_piv_awareness_map1[df_piv_awareness_map1['phy_cond']=='sys'],y='timecov_diff',hue='g_num',ax=ax_sys)\n",
    "df_piv_awareness_map1[df_piv_awareness_map1['phy_cond']=='sys'].apply(lambda x: plotlabel(0, x['timecov_diff'], x['g_num']), axis=1)\n",
    "\n"
   ],
   "metadata": {
    "collapsed": false,
    "ExecuteTime": {
     "end_time": "2023-09-25T09:32:46.374128Z",
     "start_time": "2023-09-25T09:32:45.929130Z"
    }
   }
  },
  {
   "cell_type": "code",
   "execution_count": 58,
   "outputs": [],
   "source": [
    "def plotlabel(xvar, yvar, label):\n",
    "    ax_sys.text(xvar+0.002, yvar, label)"
   ],
   "metadata": {
    "collapsed": false,
    "ExecuteTime": {
     "end_time": "2023-09-25T09:27:53.793494Z",
     "start_time": "2023-09-25T09:27:53.711807Z"
    }
   }
  },
  {
   "cell_type": "code",
   "execution_count": 22,
   "outputs": [
    {
     "data": {
      "text/plain": "116    0.245283\n118    0.186441\n120    0.220126\n122    0.190789\n124    0.203008\n126    0.151079\n128    0.283582\n130    0.192661\n132    0.143939\n134    0.146853\n136    0.296296\n138    0.191304\n140    0.201835\n142    0.189781\n144    0.126984\n146    0.208333\n148    0.185393\n150    0.213018\n152    0.140845\n154    0.145695\n156    0.191781\n158    0.205479\n160    0.202206\n162    0.229839\n164    0.213115\n166    0.156250\n168    0.280303\n170    0.182609\n172    0.176871\n174    0.239130\n176    0.229814\n178    0.240260\n180    0.158879\n182    0.221154\n184    0.200000\n186    0.184932\n188    0.250000\n190    0.195876\n192    0.200000\n194    0.144928\n196    0.197917\n198    0.200000\n200    0.148148\n202    0.166667\n204    0.222222\n206    0.188034\n208    0.157895\n210    0.188235\n212    0.173469\n214    0.165138\n216    0.201220\n218    0.168605\n220    0.168067\n222    0.126126\n224    0.168831\n226    0.129032\n228    0.137255\n230    0.194175\nName: timecov_, dtype: float64"
     },
     "execution_count": 22,
     "metadata": {},
     "output_type": "execute_result"
    }
   ],
   "source": [
    "df_map1[df_map1['awareness']=='aware']['timecov_']"
   ],
   "metadata": {
    "collapsed": false,
    "ExecuteTime": {
     "end_time": "2023-09-25T08:51:59.733505Z",
     "start_time": "2023-09-25T08:51:59.634768Z"
    }
   }
  },
  {
   "cell_type": "code",
   "execution_count": 23,
   "outputs": [
    {
     "name": "stdout",
     "output_type": "stream",
     "text": [
      "results for dv gev_\n",
      "Map n 0\n",
      "                             gev_\n",
      "cardiac_phase rsp_phase          \n",
      "dia           exh        0.067508\n",
      "              inh        0.064486\n",
      "sys           exh        0.066361\n",
      "              inh        0.070161\n",
      "                      Source        SS  ddof1  ddof2        MS         F  \\\n",
      "0              cardiac_phase  0.000149      1     28  0.000149  0.348648   \n",
      "1                  rsp_phase  0.000004      1     28  0.000004  0.026781   \n",
      "2  cardiac_phase * rsp_phase  0.000337      1     28  0.000337  0.639200   \n",
      "\n",
      "      p-unc  p-GG-corr       ng2  eps  \n",
      "0  0.559616   0.559616  0.001576  1.0  \n",
      "1  0.871182   0.871182  0.000047  1.0  \n",
      "2  0.430731   0.430731  0.003570  1.0  \n",
      "                    Contrast cardiac_phase    A    B Paired  Parametric  \\\n",
      "0              cardiac_phase             -  dia  sys   True        True   \n",
      "1                  rsp_phase             -  exh  inh   True        True   \n",
      "2  cardiac_phase * rsp_phase           dia  exh  inh   True        True   \n",
      "3  cardiac_phase * rsp_phase           sys  exh  inh   True        True   \n",
      "\n",
      "          T   dof alternative     p-unc   BF10    hedges  \n",
      "0 -0.590464  28.0   two-sided  0.559616  0.232 -0.086431  \n",
      "1 -0.163650  28.0   two-sided  0.871182    0.2 -0.015630  \n",
      "2  0.606076  28.0   two-sided  0.549347  0.234  0.102119  \n",
      "3 -0.795298  28.0   two-sided  0.433131  0.264 -0.130194  \n",
      "                    Contrast cardiac_phase    A    B Paired  Parametric  \\\n",
      "0              cardiac_phase             -  dia  sys   True        True   \n",
      "1                  rsp_phase             -  exh  inh   True        True   \n",
      "2  cardiac_phase * rsp_phase           dia  exh  inh   True        True   \n",
      "3  cardiac_phase * rsp_phase           sys  exh  inh   True        True   \n",
      "\n",
      "          T   dof alternative     p-unc   BF10    hedges  \n",
      "0 -0.590464  28.0   two-sided  0.559616  0.232 -0.086431  \n",
      "1 -0.163650  28.0   two-sided  0.871182    0.2 -0.015630  \n",
      "2  0.606076  28.0   two-sided  0.549347  0.234  0.102119  \n",
      "3 -0.795298  28.0   two-sided  0.433131  0.264 -0.130194  \n",
      "results for dv gev_\n",
      "Map n 1\n",
      "                             gev_\n",
      "cardiac_phase rsp_phase          \n",
      "dia           exh        0.091471\n",
      "              inh        0.103140\n",
      "sys           exh        0.099958\n",
      "              inh        0.113082\n",
      "                      Source        SS  ddof1  ddof2        MS         F  \\\n",
      "0              cardiac_phase  0.002462      1     28  0.002462  3.544179   \n",
      "1                  rsp_phase  0.004456      1     28  0.004456  6.141403   \n",
      "2  cardiac_phase * rsp_phase  0.000015      1     28  0.000015  0.020126   \n",
      "\n",
      "      p-unc  p-GG-corr       ng2  eps  \n",
      "0  0.070184   0.070184  0.017891  1.0  \n",
      "1  0.019502   0.019502  0.031916  1.0  \n",
      "2  0.888202   0.888202  0.000113  1.0  \n",
      "                    Contrast cardiac_phase    A    B Paired  Parametric  \\\n",
      "0              cardiac_phase             -  dia  sys   True        True   \n",
      "1                  rsp_phase             -  exh  inh   True        True   \n",
      "2  cardiac_phase * rsp_phase           dia  exh  inh   True        True   \n",
      "3  cardiac_phase * rsp_phase           sys  exh  inh   True        True   \n",
      "\n",
      "          T   dof alternative     p-unc   BF10    hedges  \n",
      "0 -1.882599  28.0   two-sided  0.070184  0.929 -0.314617  \n",
      "1 -2.478185  28.0   two-sided  0.019502  2.604 -0.421304  \n",
      "2 -2.069354  28.0   two-sided  0.047855  1.255 -0.394093  \n",
      "3 -1.559425  28.0   two-sided  0.130129  0.582 -0.327747  \n",
      "                    Contrast cardiac_phase    A    B Paired  Parametric  \\\n",
      "0              cardiac_phase             -  dia  sys   True        True   \n",
      "1                  rsp_phase             -  exh  inh   True        True   \n",
      "2  cardiac_phase * rsp_phase           dia  exh  inh   True        True   \n",
      "3  cardiac_phase * rsp_phase           sys  exh  inh   True        True   \n",
      "\n",
      "          T   dof alternative     p-unc   BF10    hedges  \n",
      "0 -1.882599  28.0   two-sided  0.070184  0.929 -0.314617  \n",
      "1 -2.478185  28.0   two-sided  0.019502  2.604 -0.421304  \n",
      "2 -2.069354  28.0   two-sided  0.047855  1.255 -0.394093  \n",
      "3 -1.559425  28.0   two-sided  0.130129  0.582 -0.327747  \n",
      "results for dv gev_\n",
      "Map n 2\n",
      "                             gev_\n",
      "cardiac_phase rsp_phase          \n",
      "dia           exh        0.150442\n",
      "              inh        0.146847\n",
      "sys           exh        0.155877\n",
      "              inh        0.139739\n",
      "                      Source        SS  ddof1  ddof2        MS         F  \\\n",
      "0              cardiac_phase  0.000020      1     28  0.000020  0.024907   \n",
      "1                  rsp_phase  0.002823      1     28  0.002823  3.208422   \n",
      "2  cardiac_phase * rsp_phase  0.001141      1     28  0.001141  0.571919   \n",
      "\n",
      "      p-unc  p-GG-corr       ng2  eps  \n",
      "0  0.875732   0.875732  0.000036  1.0  \n",
      "1  0.084077   0.084077  0.005025  1.0  \n",
      "2  0.455814   0.455814  0.002036  1.0  \n",
      "                    Contrast cardiac_phase    A    B Paired  Parametric  \\\n",
      "0              cardiac_phase             -  dia  sys   True        True   \n",
      "1                  rsp_phase             -  exh  inh   True        True   \n",
      "2  cardiac_phase * rsp_phase           dia  exh  inh   True        True   \n",
      "3  cardiac_phase * rsp_phase           sys  exh  inh   True        True   \n",
      "\n",
      "          T   dof alternative     p-unc   BF10    hedges  \n",
      "0  0.157819  28.0   two-sided  0.875732    0.2  0.012628  \n",
      "1  1.791207  28.0   two-sided  0.084077  0.808  0.148634  \n",
      "2  0.341137  28.0   two-sided  0.735547  0.208  0.050124  \n",
      "3  1.728277  28.0   two-sided  0.094953  0.736  0.225699  \n",
      "                    Contrast cardiac_phase    A    B Paired  Parametric  \\\n",
      "0              cardiac_phase             -  dia  sys   True        True   \n",
      "1                  rsp_phase             -  exh  inh   True        True   \n",
      "2  cardiac_phase * rsp_phase           dia  exh  inh   True        True   \n",
      "3  cardiac_phase * rsp_phase           sys  exh  inh   True        True   \n",
      "\n",
      "          T   dof alternative     p-unc   BF10    hedges  \n",
      "0  0.157819  28.0   two-sided  0.875732    0.2  0.012628  \n",
      "1  1.791207  28.0   two-sided  0.084077  0.808  0.148634  \n",
      "2  0.341137  28.0   two-sided  0.735547  0.208  0.050124  \n",
      "3  1.728277  28.0   two-sided  0.094953  0.736  0.225699  \n",
      "results for dv gev_\n",
      "Map n 3\n",
      "                             gev_\n",
      "cardiac_phase rsp_phase          \n",
      "dia           exh        0.221076\n",
      "              inh        0.233516\n",
      "sys           exh        0.218151\n",
      "              inh        0.206811\n",
      "                      Source        SS  ddof1  ddof2        MS         F  \\\n",
      "0              cardiac_phase  0.006366      1     28  0.006366  2.966994   \n",
      "1                  rsp_phase  0.000009      1     28  0.000009  0.005811   \n",
      "2  cardiac_phase * rsp_phase  0.004100      1     28  0.004100  3.419631   \n",
      "\n",
      "      p-unc  p-GG-corr       ng2  eps  \n",
      "0  0.096010   0.096010  0.009323  1.0  \n",
      "1  0.939780   0.939780  0.000013  1.0  \n",
      "2  0.075009   0.075009  0.006025  1.0  \n",
      "                    Contrast cardiac_phase    A    B Paired  Parametric  \\\n",
      "0              cardiac_phase             -  dia  sys   True        True   \n",
      "1                  rsp_phase             -  exh  inh   True        True   \n",
      "2  cardiac_phase * rsp_phase           dia  exh  inh   True        True   \n",
      "3  cardiac_phase * rsp_phase           sys  exh  inh   True        True   \n",
      "\n",
      "          T   dof alternative     p-unc   BF10    hedges  \n",
      "0  1.722497  28.0   two-sided  0.096010   0.73  0.199602  \n",
      "1 -0.076227  28.0   two-sided  0.939780  0.198 -0.007521  \n",
      "2 -1.174155  28.0   two-sided  0.250223  0.368 -0.155744  \n",
      "3  1.313645  28.0   two-sided  0.199628  0.429  0.146030  \n",
      "                    Contrast cardiac_phase    A    B Paired  Parametric  \\\n",
      "0              cardiac_phase             -  dia  sys   True        True   \n",
      "1                  rsp_phase             -  exh  inh   True        True   \n",
      "2  cardiac_phase * rsp_phase           dia  exh  inh   True        True   \n",
      "3  cardiac_phase * rsp_phase           sys  exh  inh   True        True   \n",
      "\n",
      "          T   dof alternative     p-unc   BF10    hedges  \n",
      "0  1.722497  28.0   two-sided  0.096010   0.73  0.199602  \n",
      "1 -0.076227  28.0   two-sided  0.939780  0.198 -0.007521  \n",
      "2 -1.174155  28.0   two-sided  0.250223  0.368 -0.155744  \n",
      "3  1.313645  28.0   two-sided  0.199628  0.429  0.146030  \n",
      "results for dv gev_\n",
      "Map n 4\n",
      "                             gev_\n",
      "cardiac_phase rsp_phase          \n",
      "dia           exh        0.076148\n",
      "              inh        0.067997\n",
      "sys           exh        0.069914\n",
      "              inh        0.074112\n",
      "                      Source            SS  ddof1  ddof2            MS  \\\n",
      "0              cardiac_phase  1.027031e-07      1     28  1.027031e-07   \n",
      "1                  rsp_phase  1.133154e-04      1     28  1.133154e-04   \n",
      "2  cardiac_phase * rsp_phase  1.105726e-03      1     28  1.105726e-03   \n",
      "\n",
      "          F     p-unc  p-GG-corr       ng2  eps  \n",
      "0  0.000305  0.986179   0.986179  0.000001  1.0  \n",
      "1  0.311435  0.581236   0.581236  0.001265  1.0  \n",
      "2  3.113571  0.088550   0.088550  0.012213  1.0  \n",
      "                    Contrast cardiac_phase    A    B Paired  Parametric  \\\n",
      "0              cardiac_phase             -  dia  sys   True        True   \n",
      "1                  rsp_phase             -  exh  inh   True        True   \n",
      "2  cardiac_phase * rsp_phase           dia  exh  inh   True        True   \n",
      "3  cardiac_phase * rsp_phase           sys  exh  inh   True        True   \n",
      "\n",
      "          T   dof alternative     p-unc   BF10    hedges  \n",
      "0  0.017478  28.0   two-sided  0.986179  0.197  0.002360  \n",
      "1  0.558064  28.0   two-sided  0.581236  0.228  0.077963  \n",
      "2  1.558332  28.0   two-sided  0.130387  0.581  0.299721  \n",
      "3 -0.890556  28.0   two-sided  0.380756  0.284 -0.139844  \n",
      "                    Contrast cardiac_phase    A    B Paired  Parametric  \\\n",
      "0              cardiac_phase             -  dia  sys   True        True   \n",
      "1                  rsp_phase             -  exh  inh   True        True   \n",
      "2  cardiac_phase * rsp_phase           dia  exh  inh   True        True   \n",
      "3  cardiac_phase * rsp_phase           sys  exh  inh   True        True   \n",
      "\n",
      "          T   dof alternative     p-unc   BF10    hedges  \n",
      "0  0.017478  28.0   two-sided  0.986179  0.197  0.002360  \n",
      "1  0.558064  28.0   two-sided  0.581236  0.228  0.077963  \n",
      "2  1.558332  28.0   two-sided  0.130387  0.581  0.299721  \n",
      "3 -0.890556  28.0   two-sided  0.380756  0.284 -0.139844  \n"
     ]
    }
   ],
   "source": [
    "%matplotlib qt\n",
    "for dvs in dv_columns:\n",
    "    for maps in df['map'].unique():\n",
    "        print(f'results for dv {dvs}')\n",
    "        print(f'Map n {maps}')\n",
    "        print(pd.pivot_table(df[df['map']==maps],values=dvs,index=['cardiac_phase','rsp_phase']))\n",
    "        print(pg.rm_anova(df[df['map']==maps],dv=dvs,subject='g_num',within=['cardiac_phase','rsp_phase']))\n",
    "        print(pg.pairwise_tests(df[df['map']==maps],dv=dvs, subject='g_num',within=['cardiac_phase','rsp_phase']))\n",
    "        print(pg.pairwise_tests(df[df['map']==maps],dv=dvs, subject='g_num',within=['cardiac_phase','rsp_phase']))\n",
    "\n",
    "        fig, [ax1,ax2] = plt.subplots(1,2)\n",
    "        title= f'Map: {maps}'\n",
    "        sns.barplot(data=df[df['map']==maps],x='cardiac_phase',y=dvs, hue='rsp_phase', ax=ax1)\n",
    "        sns.barplot(data=df[df['map']==maps],x='rsp_phase',y=dvs, hue='cardiac_phase', ax=ax2)\n",
    "        ax1.set_title(title)\n",
    "\n"
   ],
   "metadata": {
    "collapsed": false,
    "ExecuteTime": {
     "start_time": "2023-05-24T17:01:04.323234Z",
     "end_time": "2023-05-24T17:01:06.288010Z"
    }
   }
  },
  {
   "cell_type": "code",
   "execution_count": 9,
   "outputs": [
    {
     "data": {
      "text/plain": "                 Source        SS  ddof1  ddof2        MS         F     p-unc  \\\n0              phy_cond  0.000811      1     28  0.000811  0.913125  0.347465   \n1             awareness  0.000916      1     28  0.000916  1.120944  0.298764   \n2  phy_cond * awareness  0.000230      1     28  0.000230  0.323842  0.573845   \n\n   p-GG-corr       ng2  eps  \n0   0.347465  0.005649  1.0  \n1   0.298764  0.006380  1.0  \n2   0.573845  0.001607  1.0  ",
      "text/html": "<div>\n<style scoped>\n    .dataframe tbody tr th:only-of-type {\n        vertical-align: middle;\n    }\n\n    .dataframe tbody tr th {\n        vertical-align: top;\n    }\n\n    .dataframe thead th {\n        text-align: right;\n    }\n</style>\n<table border=\"1\" class=\"dataframe\">\n  <thead>\n    <tr style=\"text-align: right;\">\n      <th></th>\n      <th>Source</th>\n      <th>SS</th>\n      <th>ddof1</th>\n      <th>ddof2</th>\n      <th>MS</th>\n      <th>F</th>\n      <th>p-unc</th>\n      <th>p-GG-corr</th>\n      <th>ng2</th>\n      <th>eps</th>\n    </tr>\n  </thead>\n  <tbody>\n    <tr>\n      <th>0</th>\n      <td>phy_cond</td>\n      <td>0.000811</td>\n      <td>1</td>\n      <td>28</td>\n      <td>0.000811</td>\n      <td>0.913125</td>\n      <td>0.347465</td>\n      <td>0.347465</td>\n      <td>0.005649</td>\n      <td>1.0</td>\n    </tr>\n    <tr>\n      <th>1</th>\n      <td>awareness</td>\n      <td>0.000916</td>\n      <td>1</td>\n      <td>28</td>\n      <td>0.000916</td>\n      <td>1.120944</td>\n      <td>0.298764</td>\n      <td>0.298764</td>\n      <td>0.006380</td>\n      <td>1.0</td>\n    </tr>\n    <tr>\n      <th>2</th>\n      <td>phy_cond * awareness</td>\n      <td>0.000230</td>\n      <td>1</td>\n      <td>28</td>\n      <td>0.000230</td>\n      <td>0.323842</td>\n      <td>0.573845</td>\n      <td>0.573845</td>\n      <td>0.001607</td>\n      <td>1.0</td>\n    </tr>\n  </tbody>\n</table>\n</div>"
     },
     "execution_count": 9,
     "metadata": {},
     "output_type": "execute_result"
    }
   ],
   "source": [
    "pg.rm_anova(df[df['map']==maps],dv=dvs,subject='g_num',within=['phy_cond','awareness'])"
   ],
   "metadata": {
    "collapsed": false,
    "ExecuteTime": {
     "start_time": "2023-04-27T09:30:58.879888Z",
     "end_time": "2023-04-27T09:30:59.027594Z"
    }
   }
  },
  {
   "cell_type": "code",
   "execution_count": null,
   "outputs": [],
   "source": [],
   "metadata": {
    "collapsed": false
   }
  }
 ],
 "metadata": {
  "kernelspec": {
   "name": "mne",
   "language": "python",
   "display_name": "Python (mne)"
  },
  "language_info": {
   "codemirror_mode": {
    "name": "ipython",
    "version": 2
   },
   "file_extension": ".py",
   "mimetype": "text/x-python",
   "name": "python",
   "nbconvert_exporter": "python",
   "pygments_lexer": "ipython2",
   "version": "2.7.6"
  }
 },
 "nbformat": 4,
 "nbformat_minor": 0
}
