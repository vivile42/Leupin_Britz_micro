{
 "cells": [
  {
   "cell_type": "code",
   "execution_count": 1,
   "metadata": {
    "collapsed": true,
    "ExecuteTime": {
     "end_time": "2025-01-22T13:09:50.529536600Z",
     "start_time": "2025-01-22T13:09:49.847478400Z"
    }
   },
   "outputs": [],
   "source": [
    "import numpy as np\n",
    "import pandas as pd\n",
    "import mne\n",
    "import sys\n",
    "import platform\n",
    "import os\n",
    "\n",
    "if platform.system()=='Darwin':\n",
    "    os.chdir('/Volumes/BBC/BBC/WP1/data/EEG/tsk/')\n",
    "    sys.path.append('/Users/leupinv/BBC/WP1/data/Code/python/BBC')\n",
    "    #if this doesn't work pound line right above this, restart the kernel, rerun the cell.\n",
    "    #Then uncomment the same line and rerun\n",
    "\n",
    "else:\n",
    "    #os.chdir('Z:/BBC/WP1/data/EEG/tsk')\n",
    "    sys.path.append('C:/Users/Vivi/switchdrive/BBC/WP1/data/Code/python/BBC')\n",
    "    os.chdir('Z:/BBC/WP1/data/EEG/tsk')\n",
    "from base.files_in_out import getListOfFiles,GetFiles"
   ]
  },
  {
   "cell_type": "markdown",
   "source": [
    "## Code to plot and save the figures of the cluster centers"
   ],
   "metadata": {
    "collapsed": false
   }
  },
  {
   "cell_type": "code",
   "outputs": [
    {
     "name": "stdout",
     "output_type": "stream",
     "text": [
      "Reading /Volumes/BBC/BBC/WP1/data/EEG/tsk/ana/prestate/clus_center/wholegfp/cfa_n_vep_prestate_wholegfp_cluster_centers_5_epo.fif ...\n",
      "    Read a total of 1 projection items:\n",
      "        Average EEG reference (1 x 128) active\n",
      "    Found the data of interest:\n",
      "        t =       0.00 ...       0.00 ms\n",
      "        0 CTF compensation matrices available\n",
      "Not setting metadata\n",
      "5 matching events found\n",
      "No baseline correction applied\n",
      "Created an SSP operator (subspace dimension = 1)\n",
      "1 projection items activated\n",
      "Reading /Volumes/BBC/BBC/WP1/data/EEG/tsk/preproc/g01/g01_prestate/g01_n_tsk_cfa_vep_gfp_epo.fif ...\n",
      "    Read a total of 1 projection items:\n",
      "        Average EEG reference (1 x 128) active\n",
      "    Found the data of interest:\n",
      "        t =       0.00 ...       0.00 ms\n",
      "        0 CTF compensation matrices available\n",
      "Adding metadata with 40 columns\n",
      "415 matching events found\n",
      "No baseline correction applied\n",
      "Created an SSP operator (subspace dimension = 1)\n",
      "1 projection items activated\n"
     ]
    }
   ],
   "source": [
    "cluster_epo= mne.read_epochs('ana/prestate/clus_center/wholegfp/cfa_n_vep_prestate_wholegfp_cluster_centers_5_epo.fif')\n",
    "info_epo=mne.read_epochs('preproc/g01/g01_prestate/g01_n_tsk_cfa_vep_gfp_epo.fif').info"
   ],
   "metadata": {
    "collapsed": false,
    "ExecuteTime": {
     "end_time": "2024-03-29T11:05:18.917971Z",
     "start_time": "2024-03-29T11:05:18.564672Z"
    }
   },
   "execution_count": 5
  },
  {
   "cell_type": "code",
   "outputs": [
    {
     "ename": "NameError",
     "evalue": "name 'cluster_epo' is not defined",
     "output_type": "error",
     "traceback": [
      "\u001B[1;31m---------------------------------------------------------------------------\u001B[0m",
      "\u001B[1;31mNameError\u001B[0m                                 Traceback (most recent call last)",
      "Input \u001B[1;32mIn [3]\u001B[0m, in \u001B[0;36m<cell line: 4>\u001B[1;34m()\u001B[0m\n\u001B[0;32m      1\u001B[0m get_ipython()\u001B[38;5;241m.\u001B[39mrun_line_magic(\u001B[38;5;124m'\u001B[39m\u001B[38;5;124mmatplotlib\u001B[39m\u001B[38;5;124m'\u001B[39m, \u001B[38;5;124m'\u001B[39m\u001B[38;5;124mqt\u001B[39m\u001B[38;5;124m'\u001B[39m)\n\u001B[0;32m      3\u001B[0m \u001B[38;5;28;01mimport\u001B[39;00m \u001B[38;5;21;01mmatplotlib\u001B[39;00m\u001B[38;5;21;01m.\u001B[39;00m\u001B[38;5;21;01mpyplot\u001B[39;00m \u001B[38;5;28;01mas\u001B[39;00m \u001B[38;5;21;01mplt\u001B[39;00m\n\u001B[1;32m----> 4\u001B[0m \u001B[38;5;28;01mfor\u001B[39;00m n,topo \u001B[38;5;129;01min\u001B[39;00m \u001B[38;5;28menumerate\u001B[39m(\u001B[43mcluster_epo\u001B[49m\u001B[38;5;241m.\u001B[39mget_data()):\n\u001B[0;32m      5\u001B[0m     map_data\u001B[38;5;241m=\u001B[39mtopo\u001B[38;5;241m.\u001B[39mflatten()\n\u001B[0;32m      6\u001B[0m     \u001B[38;5;28;01mif\u001B[39;00m n \u001B[38;5;241m==\u001B[39m\u001B[38;5;241m3\u001B[39m:\n",
      "\u001B[1;31mNameError\u001B[0m: name 'cluster_epo' is not defined"
     ]
    }
   ],
   "source": [
    "%matplotlib qt\n",
    "\n",
    "import matplotlib.pyplot as plt\n",
    "for n,topo in enumerate(cluster_epo.get_data()):\n",
    "    map_data=topo.flatten()\n",
    "    if n ==3:\n",
    "        map_data=map_data*-1\n",
    "    mne.viz.plot_topomap(map_data,info_epo)\n",
    "    plt.savefig(f'ana/prestate/clus_center/wholegfp/whole_gfp_clus5_map{n}.svg',format='svg',dpi=900)"
   ],
   "metadata": {
    "collapsed": false,
    "ExecuteTime": {
     "end_time": "2025-01-22T08:13:55.432976Z",
     "start_time": "2025-01-22T08:13:54.889688700Z"
    }
   },
   "execution_count": 3
  },
  {
   "cell_type": "code",
   "execution_count": 3,
   "outputs": [],
   "source": [
    "\n",
    "import matplotlib.pyplot as plt\n",
    "import seaborn as sns\n",
    "%matplotlib qt"
   ],
   "metadata": {
    "collapsed": false,
    "ExecuteTime": {
     "end_time": "2025-01-22T13:10:03.860374900Z",
     "start_time": "2025-01-22T13:10:03.643481700Z"
    }
   }
  },
  {
   "cell_type": "markdown",
   "source": [],
   "metadata": {
    "collapsed": false
   }
  },
  {
   "cell_type": "code",
   "execution_count": 4,
   "outputs": [],
   "source": [
    "%load_ext autoreload\n",
    "\n",
    "%autoreload 2\n",
    "\n",
    "plt.style.use('default')\n",
    "import matplotlib as mpl\n",
    "plt.style.use('default')\n",
    "\n",
    "mpl.rcParams['svg.fonttype']='none'\n",
    "mpl.rcParams['text.usetex']=False\n"
   ],
   "metadata": {
    "collapsed": false,
    "ExecuteTime": {
     "end_time": "2025-01-22T13:10:05.499592500Z",
     "start_time": "2025-01-22T13:10:05.337447100Z"
    }
   }
  },
  {
   "cell_type": "markdown",
   "source": [
    "## Code to plo the figures of the gev and time coverage means\n",
    "obtains box plots"
   ],
   "metadata": {
    "collapsed": false
   }
  },
  {
   "cell_type": "markdown",
   "source": [],
   "metadata": {
    "collapsed": false
   }
  },
  {
   "cell_type": "code",
   "execution_count": 5,
   "outputs": [],
   "source": [
    "n_clus=5\n",
    "phy_phase='rsp_phase'\n",
    "micro_type='wholegfp'\n",
    "param_path='ana/prestate/param df/'\n",
    "param_fn=f'{micro_type}/{phy_phase}_{n_clus}_clusters_tsk_n_prestate_{micro_type}.feather'\n",
    "param_fp=param_path+param_fn"
   ],
   "metadata": {
    "collapsed": false,
    "ExecuteTime": {
     "end_time": "2025-01-22T13:10:11.924234100Z",
     "start_time": "2025-01-22T13:10:11.814443100Z"
    }
   }
  },
  {
   "cell_type": "code",
   "execution_count": 6,
   "outputs": [
    {
     "data": {
      "text/plain": "'wholegfp/rsp_phase_5_clusters_tsk_n_prestate_wholegfp.feather'"
     },
     "execution_count": 6,
     "metadata": {},
     "output_type": "execute_result"
    }
   ],
   "source": [
    "param_fn"
   ],
   "metadata": {
    "collapsed": false,
    "ExecuteTime": {
     "end_time": "2025-01-22T13:10:12.482474900Z",
     "start_time": "2025-01-22T13:10:12.322031500Z"
    }
   }
  },
  {
   "cell_type": "code",
   "execution_count": 7,
   "outputs": [],
   "source": [
    "df=pd.read_feather(param_fp)"
   ],
   "metadata": {
    "collapsed": false,
    "ExecuteTime": {
     "end_time": "2025-01-22T13:10:13.108227700Z",
     "start_time": "2025-01-22T13:10:12.908592600Z"
    }
   }
  },
  {
   "cell_type": "code",
   "execution_count": 8,
   "outputs": [
    {
     "data": {
      "text/plain": "Index(['id', 'map', 'g_num', 'phy_cond', 'awareness', 'corr_mean_', 'gev_',\n       'occurrences_', 'meandurs_', 'timecov_'],\n      dtype='object')"
     },
     "execution_count": 8,
     "metadata": {},
     "output_type": "execute_result"
    }
   ],
   "source": [
    "df.columns"
   ],
   "metadata": {
    "collapsed": false,
    "ExecuteTime": {
     "end_time": "2025-01-22T13:10:13.445365300Z",
     "start_time": "2025-01-22T13:10:13.334957100Z"
    }
   }
  },
  {
   "cell_type": "code",
   "execution_count": 12,
   "outputs": [
    {
     "data": {
      "text/plain": "      id  map g_num phy_cond awareness  corr_mean_      gev_  occurrences_  \\\n0      0    0   g01      inh     aware    0.601534  0.065071     34.765432   \n1      1    0   g01      inh   unaware    0.659848  0.097641     33.129412   \n2      2    0   g01      exh     aware    0.589717  0.083505     42.965035   \n3      3    0   g01      exh   unaware    0.583009  0.075591     41.056604   \n4      4    0   g03      inh     aware    0.641108  0.057804     32.768000   \n..   ...  ...   ...      ...       ...         ...       ...           ...   \n575  111    4   g51      exh   unaware    0.724348  0.091740     33.645714   \n576  112    4   g52      inh     aware    0.647575  0.076969     36.173913   \n577  113    4   g52      inh   unaware    0.624656  0.063132     36.821918   \n578  114    4   g52      exh     aware    0.650073  0.068501     40.778761   \n579  115    4   g52      exh   unaware    0.635559  0.070350     39.152941   \n\n     meandurs_  timecov_  \n0     0.004616  0.160494  \n1     0.006392  0.211765  \n2     0.005046  0.216783  \n3     0.004825  0.198113  \n4     0.004150  0.136000  \n..         ...       ...  \n575   0.005095  0.171429  \n576   0.004808  0.173913  \n577   0.004464  0.164384  \n578   0.004340  0.176991  \n579   0.004357  0.170588  \n\n[580 rows x 10 columns]",
      "text/html": "<div>\n<style scoped>\n    .dataframe tbody tr th:only-of-type {\n        vertical-align: middle;\n    }\n\n    .dataframe tbody tr th {\n        vertical-align: top;\n    }\n\n    .dataframe thead th {\n        text-align: right;\n    }\n</style>\n<table border=\"1\" class=\"dataframe\">\n  <thead>\n    <tr style=\"text-align: right;\">\n      <th></th>\n      <th>id</th>\n      <th>map</th>\n      <th>g_num</th>\n      <th>phy_cond</th>\n      <th>awareness</th>\n      <th>corr_mean_</th>\n      <th>gev_</th>\n      <th>occurrences_</th>\n      <th>meandurs_</th>\n      <th>timecov_</th>\n    </tr>\n  </thead>\n  <tbody>\n    <tr>\n      <th>0</th>\n      <td>0</td>\n      <td>0</td>\n      <td>g01</td>\n      <td>inh</td>\n      <td>aware</td>\n      <td>0.601534</td>\n      <td>0.065071</td>\n      <td>34.765432</td>\n      <td>0.004616</td>\n      <td>0.160494</td>\n    </tr>\n    <tr>\n      <th>1</th>\n      <td>1</td>\n      <td>0</td>\n      <td>g01</td>\n      <td>inh</td>\n      <td>unaware</td>\n      <td>0.659848</td>\n      <td>0.097641</td>\n      <td>33.129412</td>\n      <td>0.006392</td>\n      <td>0.211765</td>\n    </tr>\n    <tr>\n      <th>2</th>\n      <td>2</td>\n      <td>0</td>\n      <td>g01</td>\n      <td>exh</td>\n      <td>aware</td>\n      <td>0.589717</td>\n      <td>0.083505</td>\n      <td>42.965035</td>\n      <td>0.005046</td>\n      <td>0.216783</td>\n    </tr>\n    <tr>\n      <th>3</th>\n      <td>3</td>\n      <td>0</td>\n      <td>g01</td>\n      <td>exh</td>\n      <td>unaware</td>\n      <td>0.583009</td>\n      <td>0.075591</td>\n      <td>41.056604</td>\n      <td>0.004825</td>\n      <td>0.198113</td>\n    </tr>\n    <tr>\n      <th>4</th>\n      <td>4</td>\n      <td>0</td>\n      <td>g03</td>\n      <td>inh</td>\n      <td>aware</td>\n      <td>0.641108</td>\n      <td>0.057804</td>\n      <td>32.768000</td>\n      <td>0.004150</td>\n      <td>0.136000</td>\n    </tr>\n    <tr>\n      <th>...</th>\n      <td>...</td>\n      <td>...</td>\n      <td>...</td>\n      <td>...</td>\n      <td>...</td>\n      <td>...</td>\n      <td>...</td>\n      <td>...</td>\n      <td>...</td>\n      <td>...</td>\n    </tr>\n    <tr>\n      <th>575</th>\n      <td>111</td>\n      <td>4</td>\n      <td>g51</td>\n      <td>exh</td>\n      <td>unaware</td>\n      <td>0.724348</td>\n      <td>0.091740</td>\n      <td>33.645714</td>\n      <td>0.005095</td>\n      <td>0.171429</td>\n    </tr>\n    <tr>\n      <th>576</th>\n      <td>112</td>\n      <td>4</td>\n      <td>g52</td>\n      <td>inh</td>\n      <td>aware</td>\n      <td>0.647575</td>\n      <td>0.076969</td>\n      <td>36.173913</td>\n      <td>0.004808</td>\n      <td>0.173913</td>\n    </tr>\n    <tr>\n      <th>577</th>\n      <td>113</td>\n      <td>4</td>\n      <td>g52</td>\n      <td>inh</td>\n      <td>unaware</td>\n      <td>0.624656</td>\n      <td>0.063132</td>\n      <td>36.821918</td>\n      <td>0.004464</td>\n      <td>0.164384</td>\n    </tr>\n    <tr>\n      <th>578</th>\n      <td>114</td>\n      <td>4</td>\n      <td>g52</td>\n      <td>exh</td>\n      <td>aware</td>\n      <td>0.650073</td>\n      <td>0.068501</td>\n      <td>40.778761</td>\n      <td>0.004340</td>\n      <td>0.176991</td>\n    </tr>\n    <tr>\n      <th>579</th>\n      <td>115</td>\n      <td>4</td>\n      <td>g52</td>\n      <td>exh</td>\n      <td>unaware</td>\n      <td>0.635559</td>\n      <td>0.070350</td>\n      <td>39.152941</td>\n      <td>0.004357</td>\n      <td>0.170588</td>\n    </tr>\n  </tbody>\n</table>\n<p>580 rows × 10 columns</p>\n</div>"
     },
     "execution_count": 12,
     "metadata": {},
     "output_type": "execute_result"
    }
   ],
   "source": [
    "df"
   ],
   "metadata": {
    "collapsed": false,
    "ExecuteTime": {
     "end_time": "2025-01-22T08:14:34.742540400Z",
     "start_time": "2025-01-22T08:14:34.645095600Z"
    }
   }
  },
  {
   "cell_type": "code",
   "execution_count": 9,
   "outputs": [],
   "source": [
    "dv_columns=['timecov_','gev_']"
   ],
   "metadata": {
    "collapsed": false,
    "ExecuteTime": {
     "end_time": "2025-01-22T13:10:17.091621200Z",
     "start_time": "2025-01-22T13:10:16.989167400Z"
    }
   }
  },
  {
   "cell_type": "code",
   "execution_count": 10,
   "outputs": [],
   "source": [
    "figpath='ana/results_report/images/prestate/'"
   ],
   "metadata": {
    "collapsed": false,
    "ExecuteTime": {
     "end_time": "2025-01-22T13:10:17.491534700Z",
     "start_time": "2025-01-22T13:10:17.394283100Z"
    }
   }
  },
  {
   "cell_type": "code",
   "execution_count": 11,
   "outputs": [],
   "source": [
    "if phy_phase=='cardiac_phase':\n",
    "    palette=dict(sys='tab:orange',dia='b')\n",
    "else:\n",
    "    palette=dict(inh='g',exh='tab:pink')\n",
    "\n",
    "fill_styles=dict(aware='filled',unaware='empty')"
   ],
   "metadata": {
    "collapsed": false,
    "ExecuteTime": {
     "end_time": "2025-01-22T13:10:17.915761Z",
     "start_time": "2025-01-22T13:10:17.811818100Z"
    }
   }
  },
  {
   "cell_type": "code",
   "execution_count": 26,
   "outputs": [],
   "source": [
    "for maps in df['map'].unique()[:1]:\n",
    "    #select map to loop into\n",
    "    df_map= df[df['map']==maps]\n",
    "    for dv_col in dv_columns[:1]:\n",
    "        #define df with awa and phy cond as columns\n",
    "        df_awa=df_map.pivot_table(index=['g_num'],values=[dv_col],columns=['awareness','phy_cond'])\n",
    "        df_awa=df_awa[dv_col]\n",
    "        df_phy_cond=df_map.pivot_table(index=['g_num'],values=[dv_col],columns=['phy_cond','awareness'])\n",
    "        df_phy_cond=df_phy_cond[dv_col]\n",
    "\n",
    "        # plot section\n",
    "        ## generate image and axes, ax1 = plot for awareness as X, ax2 plot for phy cond as X\n",
    "        fig, [ax1,ax2] = plt.subplots(1,2)\n",
    "        # place boxplots in pairs\n",
    "        positions= [1,2,4,5]\n",
    "\n",
    "        # draw first boxplot for awareness\n",
    "        boxplot_1=ax1.boxplot(df_awa, positions=positions,patch_artist=True)\n",
    "        # define palette based on colum label = sanity check to have that condition right\n",
    "        colors_awa = [palette[k] for col in df_awa.columns for k, item in palette.items() if k in col]\n",
    "        # simply double colors from palette to be able to color whiskers which are double\n",
    "        double_color_awa=[item for item in colors_awa for _ in range(2)]\n",
    "        #determines whether it should be filled (aware) or empty (unaware)\n",
    "        fill_awa = [fill_styles[k] for col in df_awa.columns for k, item in fill_styles.items() if k in col]\n",
    "\n",
    "        # draw black median\n",
    "        for median in boxplot_1['medians']:\n",
    "            median.set_color('black')\n",
    "            median.set_linewidth(2)\n",
    "\n",
    "        # color boxplot and outliers based on list generated before\n",
    "        for patch,outlier,color, fill in zip(boxplot_1['boxes'], boxplot_1['fliers'],colors_awa, fill_awa):\n",
    "            patch.set_edgecolor(color)\n",
    "            patch.set_linewidth(2)\n",
    "            outlier.set_markersize(5)\n",
    "            outlier.set_markeredgecolor(color)\n",
    "            if fill== 'filled':\n",
    "                patch.set_facecolor(color)\n",
    "            else:\n",
    "                patch.set_facecolor('white')\n",
    "        # color whiskers\n",
    "        for whisker, cap, color in zip(boxplot_1['whiskers'],boxplot_1['caps'], double_color_awa):\n",
    "            whisker.set_color(color)\n",
    "            cap.set_color(color)\n",
    "\n",
    "    #repeat exact same procedure for complementary boxplot (phy_cond as X axis)\n",
    "\n",
    "        boxplot_2= ax2.boxplot(df_phy_cond,positions=positions ,patch_artist=True)\n",
    "        colors_phy_cond = [palette[k] for col in df_phy_cond.columns for k, item in palette.items() if k in col]\n",
    "        double_color_phy_cond=[item for item in colors_phy_cond for _ in range(2)]\n",
    "        fill_phy_cond = [fill_styles[k] for col in df_phy_cond.columns for k, item in fill_styles.items() if k in col]\n",
    "\n",
    "        for patch,outlier, color, fill in zip(boxplot_2['boxes'], boxplot_2['fliers'],colors_phy_cond, fill_phy_cond):\n",
    "            patch.set_edgecolor(color)\n",
    "            patch.set_linewidth(2)\n",
    "            outlier.set_markersize(5)\n",
    "            outlier.set_markeredgecolor(color)\n",
    "            if fill== 'filled':\n",
    "                patch.set_facecolor(color)\n",
    "            else:\n",
    "                patch.set_facecolor('white')\n",
    "\n",
    "        for whisker, cap, color in zip(boxplot_2['whiskers'],boxplot_2['caps'], double_color_phy_cond):\n",
    "            whisker.set_color(color)\n",
    "            #whisker.set_linewidth(2)\n",
    "            cap.set_color(color)\n",
    "\n",
    "\n",
    "\n",
    "        for median in boxplot_2['medians']:\n",
    "            median.set_color('black')\n",
    "            median.set_linewidth(2)\n",
    "\n",
    "\n",
    "\n"
   ],
   "metadata": {
    "collapsed": false,
    "ExecuteTime": {
     "end_time": "2025-01-22T13:22:21.220203100Z",
     "start_time": "2025-01-22T13:22:21.035710600Z"
    }
   }
  },
  {
   "cell_type": "code",
   "execution_count": null,
   "outputs": [],
   "source": [
    "def plot_boxplot(ax, df, positions, palette, fill_styles, box_width=0.5, linewidth=2):\n",
    "    \"\"\"\n",
    "    Function to generate and style boxplots with the given data.\n",
    "    Arguments:\n",
    "    - ax: the axis where the boxplot will be drawn\n",
    "    - df: the dataframe for the boxplot\n",
    "    - positions: positions for the boxes\n",
    "    - palette: color palette for styling\n",
    "    - fill_styles: fill styles for boxes\n",
    "    - box_width: width of the boxes (default is 0.5)\n",
    "\n",
    "    - linewidth: the width of the lines for all components (default is 2)\n",
    "    \"\"\"\n",
    "    boxplot = ax.boxplot(df, positions=positions, patch_artist=True, widths=box_width)\n",
    "\n",
    "    # Prepare the color palette and fill styles based on the columns\n",
    "    colors = [palette[k] for col in df.columns for k, item in palette.items() if k in col]\n",
    "    double_color = [item for item in colors for _ in range(2)]\n",
    "    fills = [fill_styles[k] for col in df.columns for k, item in fill_styles.items() if k in col]\n",
    "\n",
    "\n",
    "    # Style boxplot components (boxes, fliers, whiskers, etc.) with linewidth\n",
    "    for patch, outlier, color, fill in zip(boxplot['boxes'], boxplot['fliers'], colors, fills):\n",
    "        patch.set_edgecolor(color)\n",
    "        patch.set_linewidth(linewidth)\n",
    "        outlier.set_markersize(5)\n",
    "        outlier.set_markeredgewidth(linewidth)\n",
    "        outlier.set_markeredgecolor(color)\n",
    "        outlier.set_markerfacecolor('white')  # Optional, change as per your preference\n",
    "        patch.set_facecolor(color if fill == 'filled' else 'white')\n",
    "\n",
    "    # Style whiskers and caps with linewidth\n",
    "    for whisker, cap, color in zip(boxplot['whiskers'], boxplot['caps'], double_color):\n",
    "        whisker.set_color(color)\n",
    "        cap.set_color(color)\n",
    "        whisker.set_linewidth(linewidth)\n",
    "        cap.set_linewidth(linewidth)\n",
    "\n",
    "    # Style the medians with linewidth\n",
    "    for median in boxplot['medians']:\n",
    "        median.set_color('black')\n",
    "        median.set_linewidth(linewidth)\n"
   ],
   "metadata": {
    "collapsed": false
   }
  },
  {
   "cell_type": "code",
   "execution_count": 42,
   "outputs": [],
   "source": [
    "\n",
    "# Main loop to generate plots for maps and dv_columns\n",
    "for maps in df['map'].unique()[:1]:\n",
    "    # Select map to loop into\n",
    "    df_map = df[df['map'] == maps]\n",
    "\n",
    "    for dv_col in dv_columns[:1]:\n",
    "        # Define df with awa and phy cond as columns\n",
    "        df_awa = df_map.pivot_table(index=['g_num'], values=[dv_col], columns=['awareness', 'phy_cond'])[dv_col]\n",
    "        df_phy_cond = df_map.pivot_table(index=['g_num'], values=[dv_col], columns=['phy_cond', 'awareness'])[dv_col]\n",
    "\n",
    "        # Create the figure and axes\n",
    "        fig, [ax1, ax2] = plt.subplots(1, 2)\n",
    "\n",
    "        # Set positions for the boxplots\n",
    "        positions = [1, 2, 4, 5]\n",
    "\n",
    "        # Plot first boxplot for awareness\n",
    "        plot_boxplot(ax1, df_awa, positions, palette, fill_styles, box_width=0.8,  linewidth=2)\n",
    "\n",
    "        # Plot second boxplot for phy_cond\n",
    "        plot_boxplot(ax2, df_phy_cond, positions, palette, fill_styles, box_width=0.8, linewidth=2)"
   ],
   "metadata": {
    "collapsed": false,
    "ExecuteTime": {
     "end_time": "2025-01-22T13:48:13.204242900Z",
     "start_time": "2025-01-22T13:48:13.042602200Z"
    }
   }
  },
  {
   "cell_type": "code",
   "execution_count": 50,
   "outputs": [],
   "source": [
    "%matplotlib qt\n",
    "\n",
    "fig, [ax1,ax2] = plt.subplots(1,2)\n",
    "ax1.boxplot(df_awa[dv_col], patch_artist=True, showmeans=True, meanline=True)\n",
    "#ax1.boxplot((2,[df_map[df_map['awareness']=='unaware']['timecov_']]))\n",
    "\n",
    "plt.show()"
   ],
   "metadata": {
    "collapsed": false,
    "ExecuteTime": {
     "end_time": "2025-01-22T08:59:09.979701200Z",
     "start_time": "2025-01-22T08:59:09.812850200Z"
    }
   }
  },
  {
   "cell_type": "code",
   "execution_count": 40,
   "outputs": [],
   "source": [
    "outlier.set_markeredgewidth(5)"
   ],
   "metadata": {
    "collapsed": false,
    "ExecuteTime": {
     "end_time": "2025-01-22T13:47:44.350305Z",
     "start_time": "2025-01-22T13:47:44.254645900Z"
    }
   }
  },
  {
   "cell_type": "code",
   "execution_count": 38,
   "outputs": [
    {
     "data": {
      "text/plain": "    awareness  timecov_\n0       aware  0.160494\n1     unaware  0.211765\n2       aware  0.216783\n3     unaware  0.198113\n4       aware  0.136000\n..        ...       ...\n111   unaware  0.188571\n112     aware  0.195652\n113   unaware  0.232877\n114     aware  0.203540\n115   unaware  0.194118\n\n[116 rows x 2 columns]",
      "text/html": "<div>\n<style scoped>\n    .dataframe tbody tr th:only-of-type {\n        vertical-align: middle;\n    }\n\n    .dataframe tbody tr th {\n        vertical-align: top;\n    }\n\n    .dataframe thead th {\n        text-align: right;\n    }\n</style>\n<table border=\"1\" class=\"dataframe\">\n  <thead>\n    <tr style=\"text-align: right;\">\n      <th></th>\n      <th>awareness</th>\n      <th>timecov_</th>\n    </tr>\n  </thead>\n  <tbody>\n    <tr>\n      <th>0</th>\n      <td>aware</td>\n      <td>0.160494</td>\n    </tr>\n    <tr>\n      <th>1</th>\n      <td>unaware</td>\n      <td>0.211765</td>\n    </tr>\n    <tr>\n      <th>2</th>\n      <td>aware</td>\n      <td>0.216783</td>\n    </tr>\n    <tr>\n      <th>3</th>\n      <td>unaware</td>\n      <td>0.198113</td>\n    </tr>\n    <tr>\n      <th>4</th>\n      <td>aware</td>\n      <td>0.136000</td>\n    </tr>\n    <tr>\n      <th>...</th>\n      <td>...</td>\n      <td>...</td>\n    </tr>\n    <tr>\n      <th>111</th>\n      <td>unaware</td>\n      <td>0.188571</td>\n    </tr>\n    <tr>\n      <th>112</th>\n      <td>aware</td>\n      <td>0.195652</td>\n    </tr>\n    <tr>\n      <th>113</th>\n      <td>unaware</td>\n      <td>0.232877</td>\n    </tr>\n    <tr>\n      <th>114</th>\n      <td>aware</td>\n      <td>0.203540</td>\n    </tr>\n    <tr>\n      <th>115</th>\n      <td>unaware</td>\n      <td>0.194118</td>\n    </tr>\n  </tbody>\n</table>\n<p>116 rows × 2 columns</p>\n</div>"
     },
     "execution_count": 38,
     "metadata": {},
     "output_type": "execute_result"
    }
   ],
   "source": [
    "df_map"
   ],
   "metadata": {
    "collapsed": false,
    "ExecuteTime": {
     "end_time": "2025-01-22T08:41:07.728484Z",
     "start_time": "2025-01-22T08:41:07.634728100Z"
    }
   }
  },
  {
   "cell_type": "code",
   "execution_count": 115,
   "outputs": [
    {
     "name": "stdout",
     "output_type": "stream",
     "text": [
      "results for dv timecov_\n",
      "Map n 0\n",
      "                    timecov_\n",
      "awareness phy_cond          \n",
      "aware     exh       0.161625\n",
      "          inh       0.163744\n",
      "unaware   exh       0.180594\n",
      "          inh       0.178093\n",
      "                 Source        SS  ddof1  ddof2        MS         F     p-unc  \\\n",
      "0              phy_cond  0.000001      1     28  0.000001  0.001835  0.966135   \n",
      "1             awareness  0.008048      1     28  0.008048  4.938567  0.034517   \n",
      "2  phy_cond * awareness  0.000155      1     28  0.000155  0.180830  0.673912   \n",
      "\n",
      "   p-GG-corr       ng2  eps  \n",
      "0   0.966135  0.000004  1.0  \n",
      "1   0.034517  0.030757  1.0  \n",
      "2   0.673912  0.000610  1.0  \n"
     ]
    },
    {
     "name": "stderr",
     "output_type": "stream",
     "text": [
      "/Applications/anaconda3/envs/mne_1_3/lib/python3.9/site-packages/pingouin/distribution.py:507: FutureWarning: DataFrame.groupby with axis=1 is deprecated. Do `frame.T.groupby(...)` without axis instead.\n",
      "  data.groupby(level=1, axis=1, observed=True, group_keys=False)\n",
      "/Applications/anaconda3/envs/mne_1_3/lib/python3.9/site-packages/pingouin/distribution.py:507: FutureWarning: DataFrameGroupBy.diff with axis=1 is deprecated and will be removed in a future version. Operate on the un-grouped DataFrame instead\n",
      "  data.groupby(level=1, axis=1, observed=True, group_keys=False)\n"
     ]
    },
    {
     "name": "stdout",
     "output_type": "stream",
     "text": [
      "results for dv timecov_\n",
      "Map n 1\n",
      "                    timecov_\n",
      "awareness phy_cond          \n",
      "aware     exh       0.184152\n",
      "          inh       0.198474\n",
      "unaware   exh       0.180420\n",
      "          inh       0.188324\n",
      "                 Source        SS  ddof1  ddof2        MS         F     p-unc  \\\n",
      "0              phy_cond  0.003581      1     28  0.003581  2.794286  0.105742   \n",
      "1             awareness  0.001397      1     28  0.001397  1.076397  0.308382   \n",
      "2  phy_cond * awareness  0.000299      1     28  0.000299  0.167236  0.685692   \n",
      "\n",
      "   p-GG-corr       ng2  eps  \n",
      "0   0.105742  0.016681  1.0  \n",
      "1   0.308382  0.006574  1.0  \n",
      "2   0.685692  0.001413  1.0  \n"
     ]
    },
    {
     "name": "stderr",
     "output_type": "stream",
     "text": [
      "/Applications/anaconda3/envs/mne_1_3/lib/python3.9/site-packages/pingouin/distribution.py:507: FutureWarning: DataFrame.groupby with axis=1 is deprecated. Do `frame.T.groupby(...)` without axis instead.\n",
      "  data.groupby(level=1, axis=1, observed=True, group_keys=False)\n",
      "/Applications/anaconda3/envs/mne_1_3/lib/python3.9/site-packages/pingouin/distribution.py:507: FutureWarning: DataFrameGroupBy.diff with axis=1 is deprecated and will be removed in a future version. Operate on the un-grouped DataFrame instead\n",
      "  data.groupby(level=1, axis=1, observed=True, group_keys=False)\n"
     ]
    },
    {
     "name": "stdout",
     "output_type": "stream",
     "text": [
      "results for dv timecov_\n",
      "Map n 2\n",
      "                    timecov_\n",
      "awareness phy_cond          \n",
      "aware     exh       0.215785\n",
      "          inh       0.204959\n",
      "unaware   exh       0.218474\n",
      "          inh       0.211091\n",
      "                 Source        SS  ddof1  ddof2        MS         F     p-unc  \\\n",
      "0              phy_cond  0.002404      1     28  0.002404  1.951856  0.173362   \n",
      "1             awareness  0.000564      1     28  0.000564  0.331255  0.569518   \n",
      "2  phy_cond * awareness  0.000086      1     28  0.000086  0.065695  0.799585   \n",
      "\n",
      "   p-GG-corr       ng2  eps  \n",
      "0   0.173362  0.005382  1.0  \n",
      "1   0.569518  0.001268  1.0  \n",
      "2   0.799585  0.000193  1.0  \n"
     ]
    },
    {
     "name": "stderr",
     "output_type": "stream",
     "text": [
      "/Applications/anaconda3/envs/mne_1_3/lib/python3.9/site-packages/pingouin/distribution.py:507: FutureWarning: DataFrame.groupby with axis=1 is deprecated. Do `frame.T.groupby(...)` without axis instead.\n",
      "  data.groupby(level=1, axis=1, observed=True, group_keys=False)\n",
      "/Applications/anaconda3/envs/mne_1_3/lib/python3.9/site-packages/pingouin/distribution.py:507: FutureWarning: DataFrameGroupBy.diff with axis=1 is deprecated and will be removed in a future version. Operate on the un-grouped DataFrame instead\n",
      "  data.groupby(level=1, axis=1, observed=True, group_keys=False)\n"
     ]
    },
    {
     "name": "stdout",
     "output_type": "stream",
     "text": [
      "results for dv timecov_\n",
      "Map n 3\n",
      "                    timecov_\n",
      "awareness phy_cond          \n",
      "aware     exh       0.262798\n",
      "          inh       0.266302\n",
      "unaware   exh       0.257238\n",
      "          inh       0.253213\n",
      "                 Source        SS  ddof1  ddof2        MS         F     p-unc  \\\n",
      "0              phy_cond  0.000002      1     28  0.000002  0.000910  0.976148   \n",
      "1             awareness  0.002522      1     28  0.002522  1.471687  0.235215   \n",
      "2  phy_cond * awareness  0.000411      1     28  0.000411  0.279555  0.601159   \n",
      "\n",
      "   p-GG-corr       ng2  eps  \n",
      "0   0.976148  0.000004  1.0  \n",
      "1   0.235215  0.005425  1.0  \n",
      "2   0.601159  0.000888  1.0  \n"
     ]
    },
    {
     "name": "stderr",
     "output_type": "stream",
     "text": [
      "/Applications/anaconda3/envs/mne_1_3/lib/python3.9/site-packages/pingouin/distribution.py:507: FutureWarning: DataFrame.groupby with axis=1 is deprecated. Do `frame.T.groupby(...)` without axis instead.\n",
      "  data.groupby(level=1, axis=1, observed=True, group_keys=False)\n",
      "/Applications/anaconda3/envs/mne_1_3/lib/python3.9/site-packages/pingouin/distribution.py:507: FutureWarning: DataFrameGroupBy.diff with axis=1 is deprecated and will be removed in a future version. Operate on the un-grouped DataFrame instead\n",
      "  data.groupby(level=1, axis=1, observed=True, group_keys=False)\n"
     ]
    },
    {
     "name": "stdout",
     "output_type": "stream",
     "text": [
      "results for dv timecov_\n",
      "Map n 4\n",
      "                    timecov_\n",
      "awareness phy_cond          \n",
      "aware     exh       0.175640\n",
      "          inh       0.166521\n",
      "unaware   exh       0.163273\n",
      "          inh       0.169280\n",
      "                 Source        SS  ddof1  ddof2        MS         F     p-unc  \\\n",
      "0              phy_cond  0.000070      1     28  0.000070  0.076870  0.783622   \n",
      "1             awareness  0.000669      1     28  0.000669  0.445961  0.509726   \n",
      "2  phy_cond * awareness  0.001659      1     28  0.001659  1.352045  0.254736   \n",
      "\n",
      "   p-GG-corr       ng2  eps  \n",
      "0   0.783622  0.000279  1.0  \n",
      "1   0.509726  0.002649  1.0  \n",
      "2   0.254736  0.006539  1.0  \n"
     ]
    },
    {
     "name": "stderr",
     "output_type": "stream",
     "text": [
      "/Applications/anaconda3/envs/mne_1_3/lib/python3.9/site-packages/pingouin/distribution.py:507: FutureWarning: DataFrame.groupby with axis=1 is deprecated. Do `frame.T.groupby(...)` without axis instead.\n",
      "  data.groupby(level=1, axis=1, observed=True, group_keys=False)\n",
      "/Applications/anaconda3/envs/mne_1_3/lib/python3.9/site-packages/pingouin/distribution.py:507: FutureWarning: DataFrameGroupBy.diff with axis=1 is deprecated and will be removed in a future version. Operate on the un-grouped DataFrame instead\n",
      "  data.groupby(level=1, axis=1, observed=True, group_keys=False)\n"
     ]
    },
    {
     "name": "stdout",
     "output_type": "stream",
     "text": [
      "results for dv gev_\n",
      "Map n 0\n",
      "                        gev_\n",
      "awareness phy_cond          \n",
      "aware     exh       0.066625\n",
      "          inh       0.063411\n",
      "unaware   exh       0.068599\n",
      "          inh       0.073189\n",
      "                 Source        SS  ddof1  ddof2        MS         F     p-unc  \\\n",
      "0              phy_cond  0.000014      1     28  0.000014  0.070015  0.793253   \n",
      "1             awareness  0.001001      1     28  0.001001  2.025580  0.165717   \n",
      "2  phy_cond * awareness  0.000441      1     28  0.000441  1.739682  0.197865   \n",
      "\n",
      "   p-GG-corr       ng2  eps  \n",
      "0   0.793253  0.000153  1.0  \n",
      "1   0.165717  0.011063  1.0  \n",
      "2   0.197865  0.004908  1.0  \n"
     ]
    },
    {
     "name": "stderr",
     "output_type": "stream",
     "text": [
      "/Applications/anaconda3/envs/mne_1_3/lib/python3.9/site-packages/pingouin/distribution.py:507: FutureWarning: DataFrame.groupby with axis=1 is deprecated. Do `frame.T.groupby(...)` without axis instead.\n",
      "  data.groupby(level=1, axis=1, observed=True, group_keys=False)\n",
      "/Applications/anaconda3/envs/mne_1_3/lib/python3.9/site-packages/pingouin/distribution.py:507: FutureWarning: DataFrameGroupBy.diff with axis=1 is deprecated and will be removed in a future version. Operate on the un-grouped DataFrame instead\n",
      "  data.groupby(level=1, axis=1, observed=True, group_keys=False)\n"
     ]
    },
    {
     "name": "stdout",
     "output_type": "stream",
     "text": [
      "results for dv gev_\n",
      "Map n 1\n",
      "                        gev_\n",
      "awareness phy_cond          \n",
      "aware     exh       0.097155\n",
      "          inh       0.109164\n",
      "unaware   exh       0.094147\n",
      "          inh       0.108047\n",
      "                 Source        SS  ddof1  ddof2        MS         F     p-unc  \\\n",
      "0              phy_cond  0.004867      1     28  0.004867  5.866334  0.022158   \n",
      "1             awareness  0.000123      1     28  0.000123  0.143470  0.707713   \n",
      "2  phy_cond * awareness  0.000026      1     28  0.000026  0.023493  0.879280   \n",
      "\n",
      "   p-GG-corr       ng2  eps  \n",
      "0   0.022158  0.030681  1.0  \n",
      "1   0.707713  0.000801  1.0  \n",
      "2   0.879280  0.000168  1.0  \n"
     ]
    },
    {
     "name": "stderr",
     "output_type": "stream",
     "text": [
      "/Applications/anaconda3/envs/mne_1_3/lib/python3.9/site-packages/pingouin/distribution.py:507: FutureWarning: DataFrame.groupby with axis=1 is deprecated. Do `frame.T.groupby(...)` without axis instead.\n",
      "  data.groupby(level=1, axis=1, observed=True, group_keys=False)\n",
      "/Applications/anaconda3/envs/mne_1_3/lib/python3.9/site-packages/pingouin/distribution.py:507: FutureWarning: DataFrameGroupBy.diff with axis=1 is deprecated and will be removed in a future version. Operate on the un-grouped DataFrame instead\n",
      "  data.groupby(level=1, axis=1, observed=True, group_keys=False)\n"
     ]
    },
    {
     "name": "stdout",
     "output_type": "stream",
     "text": [
      "results for dv gev_\n",
      "Map n 2\n",
      "                        gev_\n",
      "awareness phy_cond          \n",
      "aware     exh       0.159282\n",
      "          inh       0.142332\n",
      "unaware   exh       0.146858\n",
      "          inh       0.143017\n",
      "                 Source        SS  ddof1  ddof2        MS         F     p-unc  \\\n",
      "0              phy_cond  0.003134      1     28  0.003134  3.393303  0.076076   \n",
      "1             awareness  0.000999      1     28  0.000999  0.792455  0.380944   \n",
      "2  phy_cond * awareness  0.001246      1     28  0.001246  1.255311  0.272059   \n",
      "\n",
      "   p-GG-corr       ng2  eps  \n",
      "0   0.076076  0.005909  1.0  \n",
      "1   0.380944  0.001891  1.0  \n",
      "2   0.272059  0.002357  1.0  \n"
     ]
    },
    {
     "name": "stderr",
     "output_type": "stream",
     "text": [
      "/Applications/anaconda3/envs/mne_1_3/lib/python3.9/site-packages/pingouin/distribution.py:507: FutureWarning: DataFrame.groupby with axis=1 is deprecated. Do `frame.T.groupby(...)` without axis instead.\n",
      "  data.groupby(level=1, axis=1, observed=True, group_keys=False)\n",
      "/Applications/anaconda3/envs/mne_1_3/lib/python3.9/site-packages/pingouin/distribution.py:507: FutureWarning: DataFrameGroupBy.diff with axis=1 is deprecated and will be removed in a future version. Operate on the un-grouped DataFrame instead\n",
      "  data.groupby(level=1, axis=1, observed=True, group_keys=False)\n"
     ]
    },
    {
     "name": "stdout",
     "output_type": "stream",
     "text": [
      "results for dv gev_\n",
      "Map n 3\n",
      "                        gev_\n",
      "awareness phy_cond          \n",
      "aware     exh       0.216234\n",
      "          inh       0.227628\n",
      "unaware   exh       0.221490\n",
      "          inh       0.209213\n",
      "                 Source        SS  ddof1  ddof2        MS         F     p-unc  \\\n",
      "0              phy_cond  0.000006      1     28  0.000006  0.003464  0.953482   \n",
      "1             awareness  0.001255      1     28  0.001255  0.693020  0.412184   \n",
      "2  phy_cond * awareness  0.004063      1     28  0.004063  2.695299  0.111831   \n",
      "\n",
      "   p-GG-corr       ng2  eps  \n",
      "0   0.953482  0.000009  1.0  \n",
      "1   0.412184  0.001981  1.0  \n",
      "2   0.111831  0.006383  1.0  \n"
     ]
    },
    {
     "name": "stderr",
     "output_type": "stream",
     "text": [
      "/Applications/anaconda3/envs/mne_1_3/lib/python3.9/site-packages/pingouin/distribution.py:507: FutureWarning: DataFrame.groupby with axis=1 is deprecated. Do `frame.T.groupby(...)` without axis instead.\n",
      "  data.groupby(level=1, axis=1, observed=True, group_keys=False)\n",
      "/Applications/anaconda3/envs/mne_1_3/lib/python3.9/site-packages/pingouin/distribution.py:507: FutureWarning: DataFrameGroupBy.diff with axis=1 is deprecated and will be removed in a future version. Operate on the un-grouped DataFrame instead\n",
      "  data.groupby(level=1, axis=1, observed=True, group_keys=False)\n"
     ]
    },
    {
     "name": "stdout",
     "output_type": "stream",
     "text": [
      "results for dv gev_\n",
      "Map n 4\n",
      "                        gev_\n",
      "awareness phy_cond          \n",
      "aware     exh       0.072931\n",
      "          inh       0.070877\n",
      "unaware   exh       0.073016\n",
      "          inh       0.073049\n",
      "                 Source        SS  ddof1  ddof2        MS         F     p-unc  \\\n",
      "0              phy_cond  0.000030      1     28  0.000030  0.062222  0.804839   \n",
      "1             awareness  0.000037      1     28  0.000037  0.093163  0.762451   \n",
      "2  phy_cond * awareness  0.000032      1     28  0.000032  0.095779  0.759247   \n",
      "\n",
      "   p-GG-corr       ng2  eps  \n",
      "0   0.804839  0.000317  1.0  \n",
      "1   0.762451  0.000395  1.0  \n",
      "2   0.759247  0.000338  1.0  \n"
     ]
    },
    {
     "name": "stderr",
     "output_type": "stream",
     "text": [
      "/Applications/anaconda3/envs/mne_1_3/lib/python3.9/site-packages/pingouin/distribution.py:507: FutureWarning: DataFrame.groupby with axis=1 is deprecated. Do `frame.T.groupby(...)` without axis instead.\n",
      "  data.groupby(level=1, axis=1, observed=True, group_keys=False)\n",
      "/Applications/anaconda3/envs/mne_1_3/lib/python3.9/site-packages/pingouin/distribution.py:507: FutureWarning: DataFrameGroupBy.diff with axis=1 is deprecated and will be removed in a future version. Operate on the un-grouped DataFrame instead\n",
      "  data.groupby(level=1, axis=1, observed=True, group_keys=False)\n"
     ]
    }
   ],
   "source": [
    "%matplotlib qt\n",
    "for dvs in dv_columns:\n",
    "    for maps in df['map'].unique():\n",
    "        df_map=df[df['map']==maps]\n",
    "        print(f'results for dv {dvs}')\n",
    "        print(f'Map n {maps}')\n",
    "        print(pd.pivot_table(df_map,values=dvs,index=['awareness','phy_cond']))\n",
    "        #print(pg.pairwise_tests(df_map,dv=dvs, subject='g_num',within=['phy_cond','awareness']))\n",
    "        #print(pg.pairwise_tests(df_map,dv=dvs, subject='g_num',within=['awareness','phy_cond']))\n",
    "\n",
    "        fig, [ax1,ax2] = plt.subplots(1,2)\n",
    "        title= f'Map: {maps}'\n",
    "        sns.boxplot(data=df_map,x='phy_cond',y=dvs, hue='awareness',fill=False,palette=palette, ax=ax1)\n",
    "        sns.boxplot(data=df_map,x='awareness',y=dvs, hue='phy_cond', fill=False,palette=palette,ax=ax2)\n",
    "        ax1.set_title(title)\n",
    "        figname=f'map{maps}_{dvs}{cond[:3]}.svg'\n",
    "        figpathname=figpath+figname\n",
    "        plt.savefig(figpathname,dpi=1000,format='svg')\n",
    "\n"
   ],
   "metadata": {
    "collapsed": false,
    "ExecuteTime": {
     "end_time": "2023-11-21T15:35:52.384071Z",
     "start_time": "2023-11-21T15:35:47.052709Z"
    }
   }
  }
 ],
 "metadata": {
  "kernelspec": {
   "name": "mne",
   "language": "python",
   "display_name": "Python (mne)"
  },
  "language_info": {
   "codemirror_mode": {
    "name": "ipython",
    "version": 2
   },
   "file_extension": ".py",
   "mimetype": "text/x-python",
   "name": "python",
   "nbconvert_exporter": "python",
   "pygments_lexer": "ipython2",
   "version": "2.7.6"
  }
 },
 "nbformat": 4,
 "nbformat_minor": 0
}
