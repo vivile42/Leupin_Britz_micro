{
 "cells": [
  {
   "cell_type": "code",
   "execution_count": 32,
   "metadata": {
    "collapsed": true,
    "ExecuteTime": {
     "end_time": "2025-01-28T15:26:05.913165400Z",
     "start_time": "2025-01-28T15:26:05.734772300Z"
    }
   },
   "outputs": [],
   "source": [
    "import numpy as np\n",
    "import pandas as pd\n",
    "import mne\n",
    "import sys\n",
    "import platform\n",
    "import os\n",
    "\n",
    "if platform.system()=='Darwin':\n",
    "    os.chdir('/Volumes/BBC/BBC/WP1/data/EEG/tsk/')\n",
    "    sys.path.append('/Users/leupinv/BBC/WP1/data/Code/python/BBC')\n",
    "    #if this doesn't work pound line right above this, restart the kernel, rerun the cell.\n",
    "    #Then uncomment the same line and rerun\n",
    "\n",
    "else:\n",
    "    #os.chdir('Z:/BBC/WP1/data/EEG/tsk')\n",
    "    sys.path.append('C:/Users/Vivi/switchdrive/BBC/WP1/data/Code/python/BBC')\n",
    "    os.chdir('Z:/BBC/WP1/data/EEG/tsk')\n",
    "from base.files_in_out import getListOfFiles,GetFiles"
   ]
  },
  {
   "cell_type": "markdown",
   "source": [
    "\n",
    "## Code to plot and save the figures of the cluster centers"
   ],
   "metadata": {
    "collapsed": false
   }
  },
  {
   "cell_type": "code",
   "outputs": [
    {
     "name": "stdout",
     "output_type": "stream",
     "text": [
      "Reading Z:\\BBC\\WP1\\data\\EEG\\tsk\\ana\\prestate\\clus_center\\wholegfp\\cfa_n_vep_prestate_wholegfp_cluster_centers_5_epo.fif ...\n",
      "    Read a total of 1 projection items:\n",
      "        Average EEG reference (1 x 128) active\n",
      "    Found the data of interest:\n",
      "        t =       0.00 ...       0.00 ms\n",
      "        0 CTF compensation matrices available\n",
      "0 bad epochs dropped\n",
      "Not setting metadata\n",
      "5 matching events found\n",
      "No baseline correction applied\n",
      "Created an SSP operator (subspace dimension = 1)\n",
      "1 projection items activated\n",
      "Reading Z:\\BBC\\WP1\\data\\EEG\\tsk\\preproc\\g01\\g01_prestate\\g01_n_tsk_cfa_vep_gfp_epo.fif ...\n",
      "    Read a total of 1 projection items:\n",
      "        Average EEG reference (1 x 128) active\n",
      "    Found the data of interest:\n",
      "        t =       0.00 ...       0.00 ms\n",
      "        0 CTF compensation matrices available\n",
      "0 bad epochs dropped\n",
      "Adding metadata with 40 columns\n",
      "415 matching events found\n",
      "No baseline correction applied\n",
      "Created an SSP operator (subspace dimension = 1)\n",
      "1 projection items activated\n"
     ]
    }
   ],
   "source": [
    "cluster_epo= mne.read_epochs('ana/prestate/clus_center/wholegfp/cfa_n_vep_prestate_wholegfp_cluster_centers_5_epo.fif')\n",
    "info_epo=mne.read_epochs('preproc/g01/g01_prestate/g01_n_tsk_cfa_vep_gfp_epo.fif').info"
   ],
   "metadata": {
    "collapsed": false,
    "ExecuteTime": {
     "end_time": "2025-01-27T13:38:23.364554400Z",
     "start_time": "2025-01-27T13:38:22.802942300Z"
    }
   },
   "execution_count": 2
  },
  {
   "cell_type": "code",
   "outputs": [
    {
     "ename": "NameError",
     "evalue": "name 'cluster_epo' is not defined",
     "output_type": "error",
     "traceback": [
      "\u001B[1;31m---------------------------------------------------------------------------\u001B[0m",
      "\u001B[1;31mNameError\u001B[0m                                 Traceback (most recent call last)",
      "Input \u001B[1;32mIn [2]\u001B[0m, in \u001B[0;36m<cell line: 4>\u001B[1;34m()\u001B[0m\n\u001B[0;32m      1\u001B[0m get_ipython()\u001B[38;5;241m.\u001B[39mrun_line_magic(\u001B[38;5;124m'\u001B[39m\u001B[38;5;124mmatplotlib\u001B[39m\u001B[38;5;124m'\u001B[39m, \u001B[38;5;124m'\u001B[39m\u001B[38;5;124mqt\u001B[39m\u001B[38;5;124m'\u001B[39m)\n\u001B[0;32m      3\u001B[0m \u001B[38;5;28;01mimport\u001B[39;00m \u001B[38;5;21;01mmatplotlib\u001B[39;00m\u001B[38;5;21;01m.\u001B[39;00m\u001B[38;5;21;01mpyplot\u001B[39;00m \u001B[38;5;28;01mas\u001B[39;00m \u001B[38;5;21;01mplt\u001B[39;00m\n\u001B[1;32m----> 4\u001B[0m \u001B[38;5;28;01mfor\u001B[39;00m n,topo \u001B[38;5;129;01min\u001B[39;00m \u001B[38;5;28menumerate\u001B[39m(\u001B[43mcluster_epo\u001B[49m\u001B[38;5;241m.\u001B[39mget_data()):\n\u001B[0;32m      5\u001B[0m     map_data\u001B[38;5;241m=\u001B[39mtopo\u001B[38;5;241m.\u001B[39mflatten()\n\u001B[0;32m      6\u001B[0m     \u001B[38;5;28;01mif\u001B[39;00m n \u001B[38;5;241m==\u001B[39m\u001B[38;5;241m3\u001B[39m:\n",
      "\u001B[1;31mNameError\u001B[0m: name 'cluster_epo' is not defined"
     ]
    }
   ],
   "source": [
    "%matplotlib qt\n",
    "\n",
    "import matplotlib.pyplot as plt\n",
    "for n,topo in enumerate(cluster_epo.get_data()):\n",
    "    map_data=topo.flatten()\n",
    "    if n ==3:\n",
    "        map_data=map_data*-1\n",
    "    mne.viz.plot_topomap(map_data,info_epo)\n",
    "    plt.savefig(f'ana/prestate/clus_center/wholegfp/whole_gfp_clus5_map{n}.svg',format='svg',dpi=900)"
   ],
   "metadata": {
    "collapsed": false,
    "ExecuteTime": {
     "end_time": "2025-01-28T13:00:29.821517700Z",
     "start_time": "2025-01-28T13:00:28.755435100Z"
    }
   },
   "execution_count": 2
  },
  {
   "cell_type": "markdown",
   "source": [
    "## Code to plo the figures of the gev and time coverage means\n",
    "obtains box plots"
   ],
   "metadata": {
    "collapsed": false
   }
  },
  {
   "cell_type": "code",
   "execution_count": 33,
   "outputs": [],
   "source": [
    "\n",
    "import matplotlib.pyplot as plt\n",
    "import seaborn as sns\n"
   ],
   "metadata": {
    "collapsed": false,
    "ExecuteTime": {
     "end_time": "2025-01-28T15:26:08.772363300Z",
     "start_time": "2025-01-28T15:26:08.687734Z"
    }
   }
  },
  {
   "cell_type": "markdown",
   "source": [],
   "metadata": {
    "collapsed": false
   }
  },
  {
   "cell_type": "code",
   "execution_count": 34,
   "outputs": [
    {
     "name": "stdout",
     "output_type": "stream",
     "text": [
      "The autoreload extension is already loaded. To reload it, use:\n",
      "  %reload_ext autoreload\n"
     ]
    }
   ],
   "source": [
    "%load_ext autoreload\n",
    "\n",
    "%autoreload 2\n",
    "\n",
    "plt.style.use('default')\n",
    "import matplotlib as mpl\n",
    "plt.style.use('default')\n",
    "\n",
    "mpl.rcParams['svg.fonttype']='none'\n",
    "mpl.rcParams['text.usetex']=False\n"
   ],
   "metadata": {
    "collapsed": false,
    "ExecuteTime": {
     "end_time": "2025-01-28T15:26:09.881479300Z",
     "start_time": "2025-01-28T15:26:09.741887300Z"
    }
   }
  },
  {
   "cell_type": "code",
   "execution_count": 35,
   "outputs": [],
   "source": [
    "# simple function to read df\n",
    "def read_df(phy_phase, micro_type,n_clus):\n",
    "    param_path='ana/prestate/param df/'\n",
    "    param_fn=f'{micro_type}/{phy_phase}_{n_clus}_clusters_tsk_n_prestate_{micro_type}.feather'\n",
    "    param_fp=param_path+param_fn\n",
    "    df=pd.read_feather(param_fp)\n",
    "    # convert time cov in percentage for display\n",
    "    df['timecov_']=df['timecov_']*100\n",
    "    return df\n"
   ],
   "metadata": {
    "collapsed": false,
    "ExecuteTime": {
     "end_time": "2025-01-28T15:26:12.725396300Z",
     "start_time": "2025-01-28T15:26:12.627120900Z"
    }
   }
  },
  {
   "cell_type": "markdown",
   "source": [],
   "metadata": {
    "collapsed": false
   }
  },
  {
   "cell_type": "code",
   "execution_count": 36,
   "outputs": [],
   "source": [
    "n_clus=5\n",
    "phy_phase='cardiac_phase'\n",
    "micro_type='wholegfp'\n",
    "\n"
   ],
   "metadata": {
    "collapsed": false,
    "ExecuteTime": {
     "end_time": "2025-01-28T15:26:15.082121500Z",
     "start_time": "2025-01-28T15:26:14.981155300Z"
    }
   }
  },
  {
   "cell_type": "code",
   "execution_count": 37,
   "outputs": [],
   "source": [
    "df=read_df(phy_phase,micro_type,n_clus)\n",
    "\n",
    "# filter dependant variable to loop into later\n",
    "dv_columns=['timecov_','gev_']\n",
    "\n",
    "# define path to save output\n",
    "figpath='ana/results_report/images/prestate/'"
   ],
   "metadata": {
    "collapsed": false,
    "ExecuteTime": {
     "end_time": "2025-01-28T15:26:17.216884Z",
     "start_time": "2025-01-28T15:26:17.053456700Z"
    }
   }
  },
  {
   "cell_type": "code",
   "execution_count": 16,
   "outputs": [],
   "source": [
    "%matplotlib qt"
   ],
   "metadata": {
    "collapsed": false,
    "ExecuteTime": {
     "end_time": "2025-01-28T14:09:38.724351300Z",
     "start_time": "2025-01-28T14:09:38.399573500Z"
    }
   }
  },
  {
   "cell_type": "markdown",
   "source": [
    "## Main boxplot function"
   ],
   "metadata": {
    "collapsed": false
   }
  },
  {
   "cell_type": "code",
   "execution_count": 55,
   "outputs": [],
   "source": [
    "from matplotlib.patches import Patch\n",
    "def plot_boxplot(ax, df,positions, phy_phase , box_width=0.5, linewidth=2, fontsize=14):\n",
    "    \"\"\"\n",
    "    Function to generate and style boxplots with the given data.\n",
    "    Arguments:\n",
    "    - ax: the axis where the boxplot will be drawn\n",
    "    - df: the dataframe for the boxplot\n",
    "    - positions: positions for the boxes\n",
    "    - palette: color palette for styling\n",
    "    - fill_styles: fill styles for boxes\n",
    "    - order: order of the columns to plot boxplots\n",
    "    - box_width: width of the boxes (default is 0.5)\n",
    "    - linewidth: the width of the lines for all components (default is 2)\n",
    "    - fontsize: size of the font to unify it\n",
    "    \"\"\"\n",
    "        # define variables that change depending on cardiac or rsp condition\n",
    "    print(df.columns[0][0])\n",
    "    if 'aware' in df.columns[0][0]:\n",
    "\n",
    "        cond_grouping='awareness'\n",
    "    else:\n",
    "        cond_grouping='phy_cond'\n",
    "\n",
    "    if phy_phase=='cardiac_phase':\n",
    "        # colors to use for the plots\n",
    "        palette=dict(sys='tab:orange',dia='#4C72B0')\n",
    "        #order of columns of the df to reorder boxplots\n",
    "        if cond_grouping=='awareness':\n",
    "            order=[('aware','sys'), ('aware','dia'), ('unaware','sys'), ('unaware','dia')]\n",
    "        elif cond_grouping=='phy_cond':\n",
    "            order=[('sys', 'aware'), ('sys','unaware'), ('dia', 'aware'), ('dia','unaware')]\n",
    "        else:\n",
    "           raise ValueError('the grouping condition does not exhist: try valid awareness or phy_cond')\n",
    "        # name of the x labels\n",
    "        xtick=['systole','diastole']\n",
    "    elif phy_phase=='rsp_phase':\n",
    "        # colors to use for the plots\n",
    "        palette=dict(inh='g',exh='tab:pink')\n",
    "        #order of columns of the df to reorder boxplots\n",
    "        if cond_grouping=='awareness':\n",
    "            order=[('aware','inh'), ('aware','exh'), ('unaware','inh'), ('unaware','exh')]\n",
    "        elif cond_grouping=='phy_cond':\n",
    "            order=[('inh', 'aware'), ('inh','unaware'), ('exh', 'aware'), ('exh','unaware')]\n",
    "        else:\n",
    "           raise ValueError('the grouping condition does not exhist: try valid awareness or phy_cond')\n",
    "        # name of the x labels\n",
    "        xtick=['inhalation','exhalation']\n",
    "\n",
    "\n",
    "    # styles to plot to indicate different aware\n",
    "    fill_styles=dict(aware='filled',unaware='empty')\n",
    "    df= df[order]\n",
    "    boxplot = ax.boxplot(df, positions=positions, patch_artist=True, widths=box_width)\n",
    "\n",
    "    # Prepare the color palette and fill styles based on the columns\n",
    "    colors = [palette[k] for col in df.columns for k, item in palette.items() if k in col]\n",
    "    double_color = [item for item in colors for _ in range(2)]\n",
    "    fills = [fill_styles[k] for col in df.columns for k, item in fill_styles.items() if k in col]\n",
    "    # Prepare handles for legend\n",
    "    handles = []\n",
    "\n",
    "    # Style boxplot components (boxes, fliers, whiskers, etc.) with linewidth\n",
    "    for patch, outlier, color, fill, column in zip(boxplot['boxes'], boxplot['fliers'], colors, fills, df.columns):\n",
    "\n",
    "        label=f'{column[0]} {column[1]}'\n",
    "\n",
    "        patch.set_edgecolor(color)\n",
    "        patch.set_linewidth(linewidth)\n",
    "        outlier.set_markersize(5)\n",
    "        outlier.set_markeredgewidth(linewidth)\n",
    "        outlier.set_markeredgecolor(color)\n",
    "        outlier.set_markerfacecolor('white')  # Optional, change as per your preference\n",
    "        patch.set_facecolor(color if fill == 'filled' else 'white')\n",
    "        # Create legend handles for filled and empty boxes with full rectangle\n",
    "        if fill == 'filled' :\n",
    "            handles.append(Patch(facecolor=color, label=label, edgecolor=color,linewidth=linewidth))\n",
    "        elif fill == 'empty':\n",
    "            handles.append(Patch(facecolor='white', label=label, edgecolor=color,linewidth=linewidth))\n",
    "\n",
    "\n",
    "    # Style whiskers and caps with linewidth\n",
    "    for whisker, cap, color in zip(boxplot['whiskers'], boxplot['caps'], double_color):\n",
    "        whisker.set_color(color)\n",
    "        cap.set_color(color)\n",
    "        whisker.set_linewidth(linewidth)\n",
    "        cap.set_linewidth(linewidth)\n",
    "\n",
    "    # Style the medians with linewidth\n",
    "    for median in boxplot['medians']:\n",
    "        median.set_color('black')\n",
    "        median.set_linewidth(linewidth)\n",
    "\n",
    "        # Add legend if legend labels are provided\n",
    "\n",
    "    ax.legend(handles=handles, loc='upper center', bbox_to_anchor=(0.5,-0.1),fontsize=fontsize)\n",
    "    plt.tight_layout()\n",
    "    return xtick\n",
    "\n",
    "\n",
    "\n"
   ],
   "metadata": {
    "collapsed": false,
    "ExecuteTime": {
     "end_time": "2025-01-28T15:55:57.416487900Z",
     "start_time": "2025-01-28T15:55:57.312456900Z"
    }
   }
  },
  {
   "cell_type": "markdown",
   "source": [
    "## Code to obtain all pictures for all conditions"
   ],
   "metadata": {
    "collapsed": false
   }
  },
  {
   "cell_type": "code",
   "execution_count": 61,
   "outputs": [
    {
     "name": "stdout",
     "output_type": "stream",
     "text": [
      "aware\n",
      "dia\n",
      "aware\n",
      "dia\n",
      "aware\n",
      "dia\n",
      "aware\n",
      "dia\n",
      "aware\n",
      "dia\n",
      "aware\n",
      "dia\n",
      "aware\n",
      "dia\n",
      "aware\n",
      "dia\n",
      "aware\n",
      "dia\n",
      "aware\n",
      "dia\n"
     ]
    }
   ],
   "source": [
    "\n",
    "# Main loop to generate plots for maps and dv_columns\n",
    "for maps in df['map'].unique():\n",
    "    # Select map to loop into\n",
    "    df_map = df[df['map'] == maps]\n",
    "\n",
    "    for dv_col in dv_columns:\n",
    "        # Define df with awa and phy cond as columns\n",
    "        df_awa = df_map.pivot_table(index=['g_num'], values=[dv_col], columns=['awareness', 'phy_cond'])[dv_col]\n",
    "        df_phy_cond = df_map.pivot_table(index=['g_num'], values=[dv_col], columns=['phy_cond', 'awareness'])[dv_col]\n",
    "\n",
    "        # Create the figure and axes\n",
    "        fig, [ax1, ax2] = plt.subplots(1, 2,figsize=(12,8))\n",
    "\n",
    "        # Set positions for the boxplots\n",
    "        positions = [1.5, 2.5, 4.5, 5.5]\n",
    "        font_size=14\n",
    "\n",
    "        # Plot first boxplot for awareness\n",
    "\n",
    "\n",
    "        plot_boxplot(ax1, df_awa, positions, phy_phase , box_width=0.9,  linewidth=2.5,fontsize=font_size)\n",
    "\n",
    "\n",
    "        yaxisname=[]\n",
    "        if dv_col=='timecov_':\n",
    "            yaxisname='time coverage (%)'\n",
    "            #ylim=(4,40)\n",
    "        elif dv_col=='gev_':\n",
    "            yaxisname='GEV'\n",
    "            #ylim=(0,0.25)\n",
    "\n",
    "        ax1.set_ylabel(yaxisname,fontsize=font_size)\n",
    "        ax1.set_xticks([1.5,4.5], minor= False)\n",
    "        ax1.set_xticklabels(['aware','unaware'],fontsize=font_size)\n",
    "        #ax1.set_ylim(ylim)\n",
    "        ax1.tick_params(axis='both', labelsize=font_size)\n",
    "        title= f'Map: {maps}'\n",
    "        ax1.set_title(title)\n",
    "\n",
    "\n",
    "\n",
    "        # Plot second boxplot for phy_cond\n",
    "\n",
    "        xtick_2=plot_boxplot(ax2, df_phy_cond, positions, phy_phase, box_width=0.9, linewidth=2.5,fontsize=font_size)\n",
    "\n",
    "        ax2.set_xticks([1.5,4.5], minor= False)\n",
    "        ax2.set_xticklabels(xtick_2,fontsize=font_size)\n",
    "        #ax2.set_ylim(ylim)\n",
    "        ax2.set_ylabel(yaxisname,fontsize=font_size)\n",
    "        ax2.tick_params(axis='both', labelsize=font_size)\n",
    "\n",
    "        # save output figure\n",
    "        figname=f'map{maps}_{dv_col}{phy_phase[:3]}.svg'\n",
    "        figpathname=figpath+figname\n",
    "        #plt.savefig(figpathname,dpi=1000,format='svg')"
   ],
   "metadata": {
    "collapsed": false,
    "ExecuteTime": {
     "end_time": "2025-01-28T16:04:55.588190200Z",
     "start_time": "2025-01-28T16:04:53.785387Z"
    }
   }
  },
  {
   "cell_type": "markdown",
   "source": [
    "## Plot figure for article"
   ],
   "metadata": {
    "collapsed": false
   }
  },
  {
   "cell_type": "code",
   "execution_count": 26,
   "outputs": [],
   "source": [
    "n_clus=5\n",
    "\n",
    "micro_type='wholegfp'\n",
    "df_card=read_df('cardiac_phase',micro_type,n_clus)\n",
    "df_rsp=read_df('rsp_phase',micro_type,n_clus)\n"
   ],
   "metadata": {
    "collapsed": false,
    "ExecuteTime": {
     "end_time": "2025-01-28T15:03:49.233390800Z",
     "start_time": "2025-01-28T15:03:48.917345900Z"
    }
   }
  },
  {
   "cell_type": "code",
   "execution_count": 27,
   "outputs": [],
   "source": [
    "\n",
    "\n",
    "# filter dependant variable to loop into later\n",
    "dv_columns=['timecov_','gev_']\n",
    "\n",
    "# define path to save output\n",
    "figpath='ana/results_report/images/prestate/'"
   ],
   "metadata": {
    "collapsed": false,
    "ExecuteTime": {
     "end_time": "2025-01-28T15:03:50.166423Z",
     "start_time": "2025-01-28T15:03:50.062407700Z"
    }
   }
  },
  {
   "cell_type": "markdown",
   "source": [
    "for the picture we need to select following conditions for each of the 4 suplots:\n",
    "Map= map to select\n",
    "phy_cond= whether cardiac or respiratory phase\n",
    "dv_col= dependent variable, either gev or time coverage\n",
    "cond_grouping: whether to plot awareness or the physical condition on the X axis\n",
    "plt1: map=[ Map 1, phy_cond= rsp, cond_grouping= phy cond,dv_col= gev]\n",
    "plt2: map=[ Map 1, phy_cond= card, cond_grouping= phy cond, dv_col= gev]\n",
    "\n",
    "plt3: map=[ Map 0, phy_cond= rsp, cond_grouping= awareness,dv_col= time coverage]\n",
    "plt3: map=[ Map 0, phy_cond= card, cond_grouping= awareness,dv_col= time coverage,]\n"
   ],
   "metadata": {
    "collapsed": false
   }
  },
  {
   "cell_type": "code",
   "execution_count": 28,
   "outputs": [],
   "source": [
    "def filter_df(df,map,cond_grouping,dv_col):\n",
    "    \"\"\"\n",
    "    Function to filter dataset to be ready to plot according to selected variable.\n",
    "    The physical condition (either card or rsp) has to be preselected before to avoid keep reloading df\n",
    "    Arguments:\n",
    "    - df: the dataframe either for card or rsp\n",
    "    - map: which map number to plot\n",
    "    - cond_grouping: whether the boxplot will be grouped by awareness or physical condition\n",
    "    - dv col: determines dv whether gev or time coverage\n",
    "    \"\"\"\n",
    "    df=df[df['map'] == map]\n",
    "    if cond_grouping=='awareness':\n",
    "        df = df.pivot_table(index=['g_num'], values=[dv_col], columns=['awareness', 'phy_cond'])[dv_col]\n",
    "    elif cond_grouping=='phy_cond':\n",
    "        df = df.pivot_table(index=['g_num'], values=[dv_col], columns=['phy_cond', 'awareness'])[dv_col]\n",
    "    return df\n",
    "\n",
    "\n"
   ],
   "metadata": {
    "collapsed": false,
    "ExecuteTime": {
     "end_time": "2025-01-28T15:03:53.491902600Z",
     "start_time": "2025-01-28T15:03:53.389797200Z"
    }
   }
  },
  {
   "cell_type": "code",
   "execution_count": 76,
   "outputs": [
    {
     "name": "stdout",
     "output_type": "stream",
     "text": [
      "exh\n",
      "dia\n",
      "aware\n",
      "aware\n"
     ]
    }
   ],
   "source": [
    "#\n",
    "\n",
    "# Define df with awa and phy cond as columns\n",
    "df_1=filter_df(df_rsp,1,'phy_cond','gev_')\n",
    "df_2=filter_df(df_card,1,'phy_cond','gev_')\n",
    "\n",
    "df_3=filter_df(df_rsp,0,'awareness','timecov_')\n",
    "df_4=filter_df(df_card,0,'awareness','timecov_')\n",
    "# Create the figure and axes\n",
    "fig, [ax1, ax2,ax3,ax4] = plt.subplots(1, 4,figsize=(18,8))\n",
    "\n",
    "# Set positions for the boxplots\n",
    "positions = [1, 2, 3.5, 4.5]\n",
    "font_size=14\n",
    "\n",
    "xlim=(0.3,5.2)\n",
    "yaxisname_time='time coverage (%)'\n",
    "ylim_time=(4,40)\n",
    "\n",
    "yaxisname_gev='GEV'\n",
    "ylim_gev=(0,0.26)\n",
    "# Plot first boxplot for awareness\n",
    "\n",
    "\n",
    "xtick_1=plot_boxplot(ax1, df_1, positions, 'rsp_phase' , box_width=0.9,  linewidth=2.5,fontsize=font_size)\n",
    "\n",
    "\n",
    "ax1.set_ylabel(yaxisname_gev,fontsize=font_size)\n",
    "ax1.set_xticks([1.5,4.5], minor= False)\n",
    "ax1.set_xticklabels(xtick_1,fontsize=font_size)\n",
    "ax1.set_ylim(ylim_gev)\n",
    "ax1.tick_params(axis='both', labelsize=font_size)\n",
    "ax1.set_xlim(xlim)\n",
    "\n",
    "xtick_2=plot_boxplot(ax2, df_2, positions, 'cardiac_phase' , box_width=0.9,  linewidth=2.5,fontsize=font_size)\n",
    "\n",
    "\n",
    "ax2.set_ylabel(yaxisname_gev,fontsize=font_size)\n",
    "ax2.set_xticks([1.5,4.5], minor= False)\n",
    "ax2.set_xticklabels(xtick_2,fontsize=font_size)\n",
    "ax2.set_ylim(ylim_gev)\n",
    "ax2.tick_params(axis='both', labelsize=font_size)\n",
    "ax2.set_xlim(xlim)\n",
    "\n",
    "plot_boxplot(ax3, df_3, positions, 'rsp_phase' , box_width=0.9,  linewidth=2.5,fontsize=font_size)\n",
    "\n",
    "\n",
    "ax3.set_ylabel(yaxisname_time,fontsize=font_size)\n",
    "ax3.set_xticks([1.5,4.5], minor= False)\n",
    "ax3.set_xticklabels(['aware','unaware'],fontsize=font_size)\n",
    "ax3.set_ylim(ylim_time)\n",
    "ax3.tick_params(axis='both', labelsize=font_size)\n",
    "ax3.set_xlim(xlim)\n",
    "\n",
    "plot_boxplot(ax4, df_4, positions, 'cardiac_phase' , box_width=0.9,  linewidth=2.5,fontsize=font_size)\n",
    "\n",
    "ax4.set_ylabel(yaxisname_time,fontsize=font_size)\n",
    "ax4.set_xticks([1.5,4.5], minor= False)\n",
    "ax4.set_xticklabels(['aware','unaware'],fontsize=font_size)\n",
    "ax4.set_ylim(ylim_time)\n",
    "ax4.tick_params(axis='both', labelsize=font_size)\n",
    "ax4.set_xlim(xlim)\n",
    "\n",
    "\n",
    "# save output figure\n",
    "figname=f'figure_2_raw.svg'\n",
    "figpathname=figpath+figname\n",
    "plt.savefig(figpathname,dpi=1000,format='svg')"
   ],
   "metadata": {
    "collapsed": false,
    "ExecuteTime": {
     "end_time": "2025-01-28T16:13:27.599795900Z",
     "start_time": "2025-01-28T16:13:26.780394500Z"
    }
   }
  }
 ],
 "metadata": {
  "kernelspec": {
   "name": "mne",
   "language": "python",
   "display_name": "Python (mne)"
  },
  "language_info": {
   "codemirror_mode": {
    "name": "ipython",
    "version": 2
   },
   "file_extension": ".py",
   "mimetype": "text/x-python",
   "name": "python",
   "nbconvert_exporter": "python",
   "pygments_lexer": "ipython2",
   "version": "2.7.6"
  }
 },
 "nbformat": 4,
 "nbformat_minor": 0
}
