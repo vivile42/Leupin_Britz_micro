{
 "cells": [
  {
   "cell_type": "code",
   "execution_count": null,
   "id": "protecting-structure",
   "metadata": {},
   "outputs": [],
   "source": [
    "import mne\n",
    "import pandas as pd \n",
    "import re #regex library to format fast to read into pd \n",
    "import os\n",
    "import neurokit2 as nk \n",
    "import matplotlib.pyplot as plt\n",
    "import feather \n",
    "import numpy as np\n",
    "import platform\n",
    "\n",
    "from files_in_out import getListOfFiles,GetFiles\n",
    "\n"
   ]
  },
  {
   "cell_type": "code",
   "execution_count": null,
   "id": "altered-search",
   "metadata": {},
   "outputs": [],
   "source": [
    "g_num= 'insert participant code'\n",
    "eeg_format='.fif'\n",
    "eeg_exp='tsk'\n",
    "datafolder='preproc'\n",
    "\n",
    "#files = getListOfFiles(datafolder,g_num)\n",
    "\n",
    "files = GetFiles(datafolder,g_num=g_num,eeg_format=eeg_format)\n",
    "\n",
    "taskfiles=files.taskfiles\n",
    "\n",
    "taskfiles=[x for x in taskfiles if 'rec' not in x]\n",
    "taskfiles=[x for x in taskfiles if '_n_'  in x]\n",
    "taskfiles"
   ]
  },
  {
   "cell_type": "code",
   "execution_count": null,
   "id": "norwegian-pride",
   "metadata": {},
   "outputs": [],
   "source": [
    "files.select_condition('n')\n",
    "files.get_info(index=2,end_fix=-12,start_fix=16)\n",
    "\n",
    "dir_tsk=files.current_file_dir\n",
    "dir_tsk"
   ]
  },
  {
   "cell_type": "code",
   "execution_count": null,
   "id": "adfea384",
   "metadata": {},
   "outputs": [],
   "source": [
    "files.current_filename"
   ]
  },
  {
   "cell_type": "code",
   "execution_count": null,
   "id": "informative-prescription",
   "metadata": {},
   "outputs": [],
   "source": [
    "#%cd\n",
    "def filter_list(list_,value):\n",
    "    filter_list=[x for x in list_ if value in x]\n",
    "    return filter_list[0]\n",
    "    \n",
    "\n",
    "\n",
    "#ica=mne.preprocessing.read_ica(filter_list(taskfiles,'_ica'))\n",
    "ica=mne.preprocessing.read_ica(filter_list(taskfiles,'fast-ica'))\n",
    "exp_epo=mne.read_epochs(filter_list(taskfiles,'exp'))\n",
    "eog_epo=mne.read_epochs(filter_list(taskfiles,'eog'))\n",
    "ecg_epo=mne.read_epochs(filter_list(taskfiles,'ecg'))\n"
   ]
  },
  {
   "cell_type": "code",
   "execution_count": null,
   "id": "authorized-plane",
   "metadata": {},
   "outputs": [],
   "source": [
    "eeg_format='.fif'\n",
    "eeg_exp='tsk'\n",
    "datafolder='raw'\n",
    "condition='n'\n",
    "\n",
    "#files = getListOfFiles(datafolder,g_num)\n",
    "\n",
    "fif_files = GetFiles(datafolder,g_num=g_num,eeg_format=eeg_format)\n",
    "fif_files.select_condition(condition)\n",
    "fif_taskfiles=fif_files.condition_files\n",
    "fif_taskfiles"
   ]
  },
  {
   "cell_type": "code",
   "execution_count": null,
   "id": "a697da14",
   "metadata": {},
   "outputs": [],
   "source": [
    "raw_dir=fif_taskfiles[0]\n",
    "raw=mne.io.read_raw_fif(raw_dir,preload=True)\n"
   ]
  },
  {
   "cell_type": "code",
   "execution_count": null,
   "id": "95a88393",
   "metadata": {},
   "outputs": [],
   "source": [
    "\n",
    "exp_hep=exp_epo['xns']\n",
    "exp_hep"
   ]
  },
  {
   "cell_type": "code",
   "execution_count": null,
   "id": "40070af5",
   "metadata": {},
   "outputs": [],
   "source": [
    "epo_id=exp_hep.event_id\n",
    "epo_id"
   ]
  },
  {
   "cell_type": "code",
   "execution_count": null,
   "id": "7573ea6a",
   "metadata": {},
   "outputs": [],
   "source": [
    "labels=[k.split('/') for k,v in epo_id.items()]\n",
    "labels=[x[:-1] for x in labels]\n",
    "labels=[list(set(x).intersection(y)) for x in labels for y in labels]\n",
    "labels=[list(i)for i in set(map(tuple,labels))]\n",
    "labels_normal=[x for x in labels if 'normal' in x]\n",
    "labels_normal.append(['RRCA','RRCU'])\n",
    "labels_normal"
   ]
  },
  {
   "cell_type": "code",
   "execution_count": null,
   "id": "19f507e8",
   "metadata": {},
   "outputs": [],
   "source": [
    "%matplotlib qt\n",
    "eog_epo.average().plot_joint()"
   ]
  },
  {
   "cell_type": "code",
   "execution_count": null,
   "id": "fb9373be",
   "metadata": {},
   "outputs": [],
   "source": [
    "eog_epo"
   ]
  },
  {
   "cell_type": "code",
   "execution_count": null,
   "id": "c84610c7",
   "metadata": {},
   "outputs": [],
   "source": [
    "\n",
    "raw.plot(n_channels=68,events=eog_epo.events)"
   ]
  },
  {
   "cell_type": "code",
   "execution_count": null,
   "id": "c81c4a2d",
   "metadata": {},
   "outputs": [],
   "source": [
    "eog_epo.plot()\n",
    "\n"
   ]
  },
  {
   "cell_type": "code",
   "execution_count": null,
   "id": "b37807ac",
   "metadata": {},
   "outputs": [],
   "source": []
  },
  {
   "cell_type": "code",
   "execution_count": null,
   "id": "90fc5518",
   "metadata": {},
   "outputs": [],
   "source": [
    "exp_epo['normal/vep']"
   ]
  },
  {
   "cell_type": "code",
   "execution_count": null,
   "id": "4eabd0eb",
   "metadata": {},
   "outputs": [],
   "source": [
    "exp_epo['normal/vep/CU'].average().plot()\n"
   ]
  },
  {
   "cell_type": "code",
   "execution_count": null,
   "id": "e043dc9d-1ee5-438f-9000-1fe4bf0b3746",
   "metadata": {},
   "outputs": [],
   "source": []
  },
  {
   "cell_type": "code",
   "execution_count": null,
   "id": "5b004a50",
   "metadata": {},
   "outputs": [],
   "source": []
  },
  {
   "cell_type": "raw",
   "id": "7b02ac14",
   "metadata": {},
   "source": []
  },
  {
   "cell_type": "code",
   "execution_count": null,
   "id": "f5ae73fa",
   "metadata": {},
   "outputs": [],
   "source": []
  },
  {
   "cell_type": "code",
   "execution_count": null,
   "id": "c13fb909",
   "metadata": {},
   "outputs": [],
   "source": []
  },
  {
   "cell_type": "markdown",
   "id": "racial-cooperative",
   "metadata": {},
   "source": [
    "# Identify EOG components "
   ]
  },
  {
   "cell_type": "code",
   "execution_count": null,
   "id": "3f9c6360",
   "metadata": {},
   "outputs": [],
   "source": [
    "#eog_ep=mne.preprocessing.create_eog_epochs(raw,ch_name=['C16'],thresh=40e-6)"
   ]
  },
  {
   "cell_type": "code",
   "execution_count": null,
   "id": "9bc98537",
   "metadata": {},
   "outputs": [],
   "source": [
    "eog_epo"
   ]
  },
  {
   "cell_type": "code",
   "execution_count": null,
   "id": "ranging-dollar",
   "metadata": {},
   "outputs": [],
   "source": []
  },
  {
   "cell_type": "code",
   "execution_count": null,
   "id": "032533c3",
   "metadata": {},
   "outputs": [],
   "source": [
    "eog_inds, eog_scores = ica.find_bads_eog(eog_epo,ch_name='C16')  # find via correlation\n",
    "\n",
    "ica.plot_scores(eog_scores);  # look at r scores of components"
   ]
  },
  {
   "cell_type": "code",
   "execution_count": null,
   "id": "0313ebe5",
   "metadata": {},
   "outputs": [],
   "source": [
    "%matplotlib auto\n",
    "plot_idx=np.arange(0,26)\n",
    "\n",
    "ica.plot_components(inst=exp_epo['vep/normal'])\n",
    "\n",
    "ica.plot_sources(inst=exp_epo['vep/normal'])"
   ]
  },
  {
   "cell_type": "code",
   "execution_count": null,
   "id": "ba54e460",
   "metadata": {},
   "outputs": [],
   "source": [
    "ica.plot_sources(exp_epo['vep'].average())"
   ]
  },
  {
   "cell_type": "code",
   "execution_count": null,
   "id": "7acff549",
   "metadata": {},
   "outputs": [],
   "source": [
    "eog_inds"
   ]
  },
  {
   "cell_type": "code",
   "execution_count": null,
   "id": "fb72fa47",
   "metadata": {},
   "outputs": [],
   "source": [
    "eog_inds=[10,2]"
   ]
  },
  {
   "cell_type": "code",
   "execution_count": null,
   "id": "antique-connecticut",
   "metadata": {},
   "outputs": [],
   "source": [
    "\n",
    "ica.plot_overlay(eog_epo.average(), exclude=eog_inds, show=False)\n",
    "ica.plot_overlay(exp_epo['normal/vep'].average(), exclude=eog_inds, show=False)\n",
    "\n",
    "# red -> before, black -> after. Yes! We remove quite a lot!\n"
   ]
  },
  {
   "cell_type": "code",
   "execution_count": null,
   "id": "a26ae3ef",
   "metadata": {},
   "outputs": [],
   "source": [
    "#extra inds to test \n",
    "artefact_idx=[44,21]\n",
    "\n",
    "ica.plot_overlay(eog_epo.average(), exclude=eog_inds+artefact_idx, show=False)\n",
    "ica.plot_overlay(exp_epo['vep/normal'].average(), exclude=eog_inds+artefact_idx, show=False)"
   ]
  },
  {
   "cell_type": "code",
   "execution_count": null,
   "id": "8413825c",
   "metadata": {},
   "outputs": [],
   "source": [
    "print(ica.exclude)\n",
    "print(eog_inds)\n",
    "print(artefact_idx)"
   ]
  },
  {
   "cell_type": "markdown",
   "source": [
    "### Show selected bad component and investigate effect on data once removed"
   ],
   "metadata": {
    "collapsed": false
   },
   "id": "16dc5e5c3e10681c"
  },
  {
   "cell_type": "code",
   "execution_count": null,
   "id": "unlimited-moisture",
   "metadata": {},
   "outputs": [],
   "source": [
    "\n",
    "ica.exclude=[]\n",
    "ica.exclude.extend(eog_inds+artefact_idx)"
   ]
  },
  {
   "cell_type": "code",
   "execution_count": null,
   "id": "stretch-federal",
   "metadata": {},
   "outputs": [],
   "source": [
    "reconst_eog = exp_epo.copy()\n",
    "\n",
    "ica.apply(reconst_eog)"
   ]
  },
  {
   "cell_type": "code",
   "execution_count": null,
   "id": "575ddd15",
   "metadata": {},
   "outputs": [],
   "source": [
    "topomap_args={'outlines':'head'}\n",
    "reconst_eog['normal/vep/CU'].average().plot_joint(topomap_args=topomap_args)"
   ]
  },
  {
   "cell_type": "code",
   "execution_count": null,
   "id": "e1385ad3",
   "metadata": {},
   "outputs": [],
   "source": [
    "reconst_eog['normal/vep/CA'].average().plot_image()"
   ]
  },
  {
   "cell_type": "code",
   "execution_count": null,
   "id": "9fb636c7",
   "metadata": {},
   "outputs": [],
   "source": [
    "reconst_eog_vep=reconst_eog['vep']\n",
    "reconst_eog_vep.plot()"
   ]
  },
  {
   "cell_type": "code",
   "execution_count": null,
   "id": "c8790ffe",
   "metadata": {},
   "outputs": [],
   "source": [
    "reconst_eog_vep['normal/CU'].average().plot_joint()"
   ]
  },
  {
   "cell_type": "markdown",
   "id": "7db7bbaf",
   "metadata": {},
   "source": [
    "# Heart artefact removal \n",
    "do the same thing for heart artefact to create data set without cardiac field artefact (nc)\n"
   ]
  },
  {
   "cell_type": "code",
   "execution_count": null,
   "id": "6acf2351",
   "metadata": {},
   "outputs": [],
   "source": [
    "#plot and identify bad components\n",
    "ecg_ica_indices, ecg_ica_scores = ica.find_bads_ecg(raw, method='correlation',\n",
    "                                            threshold='auto')\n",
    "\n",
    "\n",
    "ica.plot_scores(ecg_ica_scores)\n",
    "\n"
   ]
  },
  {
   "cell_type": "code",
   "execution_count": null,
   "id": "b9c241ac",
   "metadata": {},
   "outputs": [],
   "source": [
    "ecg_ica_indices"
   ]
  },
  {
   "cell_type": "code",
   "execution_count": null,
   "id": "9965a4b0",
   "metadata": {},
   "outputs": [],
   "source": [
    "ica.plot_sources(inst=ecg_epo.average())"
   ]
  },
  {
   "cell_type": "code",
   "execution_count": null,
   "id": "figured-float",
   "metadata": {},
   "outputs": [],
   "source": [
    "\n",
    "#ecg_ica_indices_3, ecg_ica_scores_3 = ica.find_bads_ecg(raw, method='correlation',\n",
    "                                            #threshold='auto')"
   ]
  },
  {
   "cell_type": "code",
   "execution_count": null,
   "id": "94726315",
   "metadata": {},
   "outputs": [],
   "source": [
    "print(ecg_ica_indices)\n"
   ]
  },
  {
   "cell_type": "code",
   "execution_count": null,
   "id": "06bc1a31",
   "metadata": {},
   "outputs": [],
   "source": [
    "ecg_ica_indices=[17,56]\n"
   ]
  },
  {
   "cell_type": "code",
   "execution_count": null,
   "id": "administrative-calgary",
   "metadata": {},
   "outputs": [],
   "source": [
    "ica.plot_properties(inst=ecg_epo,picks=ecg_ica_indices)"
   ]
  },
  {
   "cell_type": "code",
   "execution_count": null,
   "id": "c722758f",
   "metadata": {},
   "outputs": [],
   "source": [
    "#manually identified ecg component = ICA14\n",
    "ecg_remove=ecg_ica_indices"
   ]
  },
  {
   "cell_type": "code",
   "execution_count": null,
   "id": "2e543c26",
   "metadata": {},
   "outputs": [],
   "source": [
    "#see effect of removing component on data\n",
    "ica.plot_overlay(exp_epo['vep/dia'].average(), exclude=eog_inds+artefact_idx, show=False)\n",
    "ica.plot_overlay(exp_epo['vep/dia'].average(), exclude=eog_inds+artefact_idx+ecg_remove, show=False)\n",
    "ica.exclude=[]\n",
    "ica.plot_overlay(exp_epo['hep/R2'].average(), exclude=eog_inds+artefact_idx, show=False)\n",
    "ica.plot_overlay(exp_epo['hep/R2'].average(), exclude=eog_inds+artefact_idx+ecg_remove, show=False)"
   ]
  },
  {
   "cell_type": "code",
   "execution_count": null,
   "id": "3625aba9",
   "metadata": {},
   "outputs": [],
   "source": []
  },
  {
   "cell_type": "code",
   "execution_count": null,
   "id": "987fea59",
   "metadata": {},
   "outputs": [],
   "source": [
    "#insert component to be excluded\n",
    "ica.exclude=[]\n",
    "ica.exclude.extend(eog_inds+ecg_remove+artefact_idx)\n",
    "ica.exclude"
   ]
  },
  {
   "cell_type": "code",
   "execution_count": null,
   "id": "ba429ebc",
   "metadata": {},
   "outputs": [],
   "source": [
    "reconst_ecg = exp_epo.copy()\n",
    "\n",
    "ica.apply(reconst_ecg)"
   ]
  },
  {
   "cell_type": "code",
   "execution_count": null,
   "id": "coastal-affairs",
   "metadata": {},
   "outputs": [],
   "source": [
    "topomap_args={'outlines':'head'}\n",
    "reconst_eog['vep/CU'].average().plot_joint(topomap_args=topomap_args)"
   ]
  },
  {
   "cell_type": "code",
   "execution_count": null,
   "id": "forbidden-section",
   "metadata": {},
   "outputs": [],
   "source": [
    "topomap_args={'outlines':'head'}\n",
    "reconst_ecg['normal/vep/CA'].average().plot_joint(topomap_args=topomap_args)"
   ]
  },
  {
   "cell_type": "markdown",
   "id": "0f04b1bd",
   "metadata": {},
   "source": [
    "# Save epochs output"
   ]
  },
  {
   "cell_type": "code",
   "execution_count": null,
   "id": "060ba915",
   "metadata": {},
   "outputs": [],
   "source": [
    "# save output without cardiac field artefact\n",
    "type_sig='epochs'\n",
    "file_end='nc_rec_epo.fif'\n",
    "\n",
    "output_filename=files.out_filename(type_sig=type_sig,file_end=file_end)\n",
    "\n",
    "\n",
    "reconst_ecg.save(output_filename,overwrite=True)\n",
    "\n",
    "#save output including cardiac field artefact\n",
    "type_sig='epochs'\n",
    "file_end='cfa_epo.fif'\n",
    "\n",
    "output_filename=files.out_filename(type_sig=type_sig,file_end=file_end)\n",
    "\n",
    "\n",
    "reconst_eog.save(output_filename,overwrite=True)\n"
   ]
  },
  {
   "cell_type": "code",
   "execution_count": null,
   "id": "ee46e3ff",
   "metadata": {},
   "outputs": [],
   "source": [
    "# save log \n",
    "file_end='ICA_log.txt'\n",
    "\n",
    "output_filename=files.out_filename(type_sig=type_sig,file_end=file_end)\n",
    "\n",
    "\n",
    "\n",
    "with open(output_filename,'w') as file:\n",
    "    file.write(f'eog index={eog_inds}\\n')\n",
    "    file.write(f'artefact index={artefact_idx}\\n')\n",
    "    file.write(f'ecg index={ecg_ica_indices}\\n')"
   ]
  },
  {
   "cell_type": "code",
   "execution_count": null,
   "id": "5ed03fac",
   "metadata": {},
   "outputs": [],
   "source": []
  },
  {
   "cell_type": "code",
   "execution_count": null,
   "id": "b674f19d",
   "metadata": {},
   "outputs": [],
   "source": []
  }
 ],
 "metadata": {
  "kernelspec": {
   "display_name": "Python 3 (ipykernel)",
   "language": "python",
   "name": "python3"
  },
  "language_info": {
   "codemirror_mode": {
    "name": "ipython",
    "version": 3
   },
   "file_extension": ".py",
   "mimetype": "text/x-python",
   "name": "python",
   "nbconvert_exporter": "python",
   "pygments_lexer": "ipython3",
   "version": "3.7.4"
  }
 },
 "nbformat": 4,
 "nbformat_minor": 5
}
